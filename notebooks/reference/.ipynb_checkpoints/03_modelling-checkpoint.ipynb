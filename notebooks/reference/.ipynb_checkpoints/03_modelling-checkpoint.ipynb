{
 "cells": [
  {
   "cell_type": "markdown",
   "id": "2b0102a1",
   "metadata": {},
   "source": [
    "# Purpose"
   ]
  },
  {
   "cell_type": "markdown",
   "id": "53adeead",
   "metadata": {},
   "source": [
    "This notebook demonstrates the model experimentation and finalization. It covers EDA, outlier treatment, transformation, training, model evaluation and comparison across models."
   ]
  },
  {
   "cell_type": "markdown",
   "id": "d3184f8c",
   "metadata": {},
   "source": [
    "## Imports"
   ]
  },
  {
   "cell_type": "code",
   "execution_count": 4,
   "id": "c6540191",
   "metadata": {},
   "outputs": [],
   "source": [
    "import os\n",
    "import os.path as op\n",
    "import shutil\n",
    "\n",
    "# standard third party imports\n",
    "import numpy as np\n",
    "import pandas as pd\n",
    "import seaborn as sns\n",
    "from matplotlib import pyplot as plt\n",
    "from sklearn.model_selection import train_test_split\n",
    "from sklearn.pipeline import Pipeline\n",
    "from sklearn.feature_selection import SelectFromModel\n",
    "from sklearn.model_selection import GridSearchCV\n",
    "from sklearn.preprocessing import FunctionTransformer\n",
    "from sklearn.compose import ColumnTransformer\n",
    "\n",
    "# impute missing values\n",
    "from sklearn.experimental import enable_iterative_imputer  # noqa\n",
    "from sklearn.impute import KNNImputer, IterativeImputer, SimpleImputer\n",
    "from sklearn.tree import DecisionTreeRegressor\n",
    "from sklearn.ensemble import RandomForestRegressor\n",
    "from category_encoders import TargetEncoder\n",
    "from sklearn.preprocessing import OneHotEncoder\n"
   ]
  },
  {
   "cell_type": "code",
   "execution_count": 5,
   "id": "5ac27f65",
   "metadata": {},
   "outputs": [],
   "source": [
    "%load_ext autoreload\n",
    "%autoreload 2"
   ]
  },
  {
   "cell_type": "code",
   "execution_count": 6,
   "id": "ff34757a",
   "metadata": {},
   "outputs": [],
   "source": [
    "import warnings\n",
    "\n",
    "warnings.filterwarnings('ignore', message=\"pandas.Int64Index is deprecated and will be removed from pandas in a future version. Use pandas.Index with the appropriate dtype instead.\", \n",
    "                        category=FutureWarning)\n",
    "warnings.filterwarnings('ignore', message=\"pandas.Float64Index is deprecated and will be removed from pandas in a future version. Use pandas.Index with the appropriate dtype instead.\",\n",
    "                        category=FutureWarning)"
   ]
  },
  {
   "cell_type": "code",
   "execution_count": 9,
   "id": "035c8964",
   "metadata": {},
   "outputs": [],
   "source": [
    "# standard code-template imports\n",
    "from ta_lib.core.api import (\n",
    "    create_context, get_dataframe, get_feature_names_from_column_transformer, string_cleaning,\n",
    "    get_package_path, display_as_tabs, save_pipeline, load_pipeline, initialize_environment,\n",
    "    load_dataset, save_dataset, DEFAULT_ARTIFACTS_PATH, list_datasets\n",
    ")\n",
    "\n",
    "import ta_lib.eda.api as eda\n",
    "from xgboost import XGBRegressor\n",
    "from ta_lib.regression.api import SKLStatsmodelOLS\n",
    "from ta_lib.regression.api import RegressionComparison, RegressionReport\n",
    "import ta_lib.reports.api as reports\n",
    "from ta_lib.data_processing.api import Outlier\n",
    "\n",
    "initialize_environment(debug=False, hide_warnings=True)"
   ]
  },
  {
   "cell_type": "markdown",
   "id": "43099096",
   "metadata": {},
   "source": [
    "# Initialization"
   ]
  },
  {
   "cell_type": "code",
   "execution_count": 10,
   "id": "2ceffc26",
   "metadata": {},
   "outputs": [],
   "source": [
    "artifacts_folder = DEFAULT_ARTIFACTS_PATH"
   ]
  },
  {
   "cell_type": "code",
   "execution_count": 11,
   "id": "6f5e21bb",
   "metadata": {},
   "outputs": [],
   "source": [
    "config_path = op.join('conf', 'config.yml')\n",
    "context = create_context(config_path)"
   ]
  },
  {
   "cell_type": "code",
   "execution_count": 12,
   "id": "76526b9c",
   "metadata": {},
   "outputs": [
    {
     "data": {
      "text/plain": [
       "['/raw/sales',\n",
       " '/raw/google_search',\n",
       " '/raw/social_media',\n",
       " '/raw/product_manufacturer_list',\n",
       " '/raw/Theme_product_list',\n",
       " '/raw/Theme_list',\n",
       " '/processed_data/sales',\n",
       " '/processed_data/google_search',\n",
       " '/processed_data/social_media',\n",
       " '/processed_data/product_manufacturer_list',\n",
       " '/processed_data/Theme_product_list',\n",
       " '/processed_data/Theme_list',\n",
       " '/merged_data/sales',\n",
       " '/merged_data/google_search',\n",
       " '/merged_data/social_media',\n",
       " '/merged_data/product_manufacturer_list',\n",
       " '/merged_data/Theme_product_list',\n",
       " '/merged_data/Theme_list',\n",
       " '/ground_truth_for_modelling/ground_truth',\n",
       " '/train/ground_truth_for_modelling/features',\n",
       " '/train/ground_truth_for_modelling/target',\n",
       " '/test/ground_truth_for_modelling/features',\n",
       " '/test/ground_truth_for_modelling/target']"
      ]
     },
     "execution_count": 12,
     "metadata": {},
     "output_type": "execute_result"
    }
   ],
   "source": [
    "list_datasets(context)"
   ]
  },
  {
   "cell_type": "code",
   "execution_count": 40,
   "id": "1990b156",
   "metadata": {},
   "outputs": [],
   "source": [
    "ground_truth_for_modelling = load_dataset(context, '/ground_truth_for_modelling/ground_truth')"
   ]
  },
  {
   "cell_type": "markdown",
   "id": "4bb93b52",
   "metadata": {},
   "source": [
    "#### Preliminary checks before modelling"
   ]
  },
  {
   "cell_type": "code",
   "execution_count": 42,
   "id": "9e134cbe",
   "metadata": {},
   "outputs": [
    {
     "name": "stdout",
     "output_type": "stream",
     "text": [
      "<class 'pandas.core.frame.DataFrame'>\n",
      "RangeIndex: 420 entries, 0 to 419\n",
      "Data columns (total 15 columns):\n",
      " #   Column                    Non-Null Count  Dtype  \n",
      "---  ------                    --------------  -----  \n",
      " 0   Unnamed: 0                420 non-null    int64  \n",
      " 1   date                      420 non-null    object \n",
      " 2   theme_name                420 non-null    object \n",
      " 3   total_post                420 non-null    int64  \n",
      " 4   google_searchVolume       420 non-null    float64\n",
      " 5   amazon_searchVolume       420 non-null    float64\n",
      " 6   chewy_searchVolume        420 non-null    float64\n",
      " 7   walmart_searchVolume      420 non-null    float64\n",
      " 8   total_searchVolume        420 non-null    float64\n",
      " 9   client_lbs_value          420 non-null    float64\n",
      " 10  client_units_value        420 non-null    int64  \n",
      " 11  client_dollars_value      420 non-null    float64\n",
      " 12  competitor_lbs_value      420 non-null    float64\n",
      " 13  competitor_units_value    420 non-null    int64  \n",
      " 14  competitor_dollars_value  420 non-null    float64\n",
      "dtypes: float64(9), int64(4), object(2)\n",
      "memory usage: 49.3+ KB\n"
     ]
    }
   ],
   "source": [
    "# No missing values\n",
    "ground_truth_for_modelling.info()"
   ]
  },
  {
   "cell_type": "code",
   "execution_count": 43,
   "id": "d124fe6b",
   "metadata": {},
   "outputs": [],
   "source": [
    "# Creating variables for price of client and competitor\n",
    "ground_truth_for_modelling['client_unit_price'] = ground_truth_for_modelling['client_dollars_value'] / ground_truth_for_modelling['client_units_value']\n",
    "ground_truth_for_modelling['competitor_unit_price'] = ground_truth_for_modelling['competitor_dollars_value'] / ground_truth_for_modelling['competitor_units_value']"
   ]
  },
  {
   "cell_type": "code",
   "execution_count": 46,
   "id": "b3337162",
   "metadata": {},
   "outputs": [
    {
     "data": {
      "text/html": [
       "<div>\n",
       "<style scoped>\n",
       "    .dataframe tbody tr th:only-of-type {\n",
       "        vertical-align: middle;\n",
       "    }\n",
       "\n",
       "    .dataframe tbody tr th {\n",
       "        vertical-align: top;\n",
       "    }\n",
       "\n",
       "    .dataframe thead th {\n",
       "        text-align: right;\n",
       "    }\n",
       "</style>\n",
       "<table border=\"1\" class=\"dataframe\">\n",
       "  <thead>\n",
       "    <tr style=\"text-align: right;\">\n",
       "      <th></th>\n",
       "      <th>Unnamed: 0</th>\n",
       "      <th>date</th>\n",
       "      <th>theme_name</th>\n",
       "      <th>total_post</th>\n",
       "      <th>google_searchVolume</th>\n",
       "      <th>amazon_searchVolume</th>\n",
       "      <th>chewy_searchVolume</th>\n",
       "      <th>walmart_searchVolume</th>\n",
       "      <th>total_searchVolume</th>\n",
       "      <th>client_lbs_value</th>\n",
       "      <th>client_unit_price</th>\n",
       "      <th>competitor_unit_price</th>\n",
       "    </tr>\n",
       "  </thead>\n",
       "  <tbody>\n",
       "    <tr>\n",
       "      <th>0</th>\n",
       "      <td>0</td>\n",
       "      <td>2016-01-09</td>\n",
       "      <td>salmon</td>\n",
       "      <td>47</td>\n",
       "      <td>1913.0</td>\n",
       "      <td>0.0</td>\n",
       "      <td>0.0</td>\n",
       "      <td>0.0</td>\n",
       "      <td>1913.0</td>\n",
       "      <td>5.379338e+06</td>\n",
       "      <td>10.120685</td>\n",
       "      <td>7.451236</td>\n",
       "    </tr>\n",
       "    <tr>\n",
       "      <th>1</th>\n",
       "      <td>42</td>\n",
       "      <td>2016-02-06</td>\n",
       "      <td>salmon</td>\n",
       "      <td>47</td>\n",
       "      <td>850.0</td>\n",
       "      <td>0.0</td>\n",
       "      <td>0.0</td>\n",
       "      <td>0.0</td>\n",
       "      <td>850.0</td>\n",
       "      <td>5.217845e+06</td>\n",
       "      <td>9.974540</td>\n",
       "      <td>7.736047</td>\n",
       "    </tr>\n",
       "    <tr>\n",
       "      <th>2</th>\n",
       "      <td>84</td>\n",
       "      <td>2016-02-20</td>\n",
       "      <td>salmon</td>\n",
       "      <td>156</td>\n",
       "      <td>1063.0</td>\n",
       "      <td>0.0</td>\n",
       "      <td>0.0</td>\n",
       "      <td>0.0</td>\n",
       "      <td>1063.0</td>\n",
       "      <td>4.747996e+06</td>\n",
       "      <td>9.932648</td>\n",
       "      <td>7.407171</td>\n",
       "    </tr>\n",
       "    <tr>\n",
       "      <th>3</th>\n",
       "      <td>126</td>\n",
       "      <td>2016-02-27</td>\n",
       "      <td>salmon</td>\n",
       "      <td>90</td>\n",
       "      <td>1912.0</td>\n",
       "      <td>0.0</td>\n",
       "      <td>0.0</td>\n",
       "      <td>0.0</td>\n",
       "      <td>1912.0</td>\n",
       "      <td>4.676554e+06</td>\n",
       "      <td>9.879768</td>\n",
       "      <td>7.430647</td>\n",
       "    </tr>\n",
       "    <tr>\n",
       "      <th>4</th>\n",
       "      <td>168</td>\n",
       "      <td>2016-03-26</td>\n",
       "      <td>salmon</td>\n",
       "      <td>50</td>\n",
       "      <td>1912.0</td>\n",
       "      <td>0.0</td>\n",
       "      <td>0.0</td>\n",
       "      <td>0.0</td>\n",
       "      <td>1912.0</td>\n",
       "      <td>4.739258e+06</td>\n",
       "      <td>9.697814</td>\n",
       "      <td>7.526944</td>\n",
       "    </tr>\n",
       "    <tr>\n",
       "      <th>...</th>\n",
       "      <td>...</td>\n",
       "      <td>...</td>\n",
       "      <td>...</td>\n",
       "      <td>...</td>\n",
       "      <td>...</td>\n",
       "      <td>...</td>\n",
       "      <td>...</td>\n",
       "      <td>...</td>\n",
       "      <td>...</td>\n",
       "      <td>...</td>\n",
       "      <td>...</td>\n",
       "      <td>...</td>\n",
       "    </tr>\n",
       "    <tr>\n",
       "      <th>415</th>\n",
       "      <td>17430</td>\n",
       "      <td>2019-09-07</td>\n",
       "      <td>low carb</td>\n",
       "      <td>1891</td>\n",
       "      <td>38008.0</td>\n",
       "      <td>5236.0</td>\n",
       "      <td>4489.0</td>\n",
       "      <td>627.0</td>\n",
       "      <td>48360.0</td>\n",
       "      <td>4.028791e+06</td>\n",
       "      <td>4.940891</td>\n",
       "      <td>7.081531</td>\n",
       "    </tr>\n",
       "    <tr>\n",
       "      <th>416</th>\n",
       "      <td>17472</td>\n",
       "      <td>2019-09-14</td>\n",
       "      <td>low carb</td>\n",
       "      <td>1142</td>\n",
       "      <td>41306.0</td>\n",
       "      <td>4655.0</td>\n",
       "      <td>4862.0</td>\n",
       "      <td>669.0</td>\n",
       "      <td>51492.0</td>\n",
       "      <td>4.017835e+06</td>\n",
       "      <td>4.948014</td>\n",
       "      <td>7.032547</td>\n",
       "    </tr>\n",
       "    <tr>\n",
       "      <th>417</th>\n",
       "      <td>17514</td>\n",
       "      <td>2019-09-21</td>\n",
       "      <td>low carb</td>\n",
       "      <td>1158</td>\n",
       "      <td>35338.0</td>\n",
       "      <td>3699.0</td>\n",
       "      <td>2952.0</td>\n",
       "      <td>625.0</td>\n",
       "      <td>42614.0</td>\n",
       "      <td>3.974981e+06</td>\n",
       "      <td>4.970951</td>\n",
       "      <td>7.107041</td>\n",
       "    </tr>\n",
       "    <tr>\n",
       "      <th>418</th>\n",
       "      <td>17556</td>\n",
       "      <td>2019-09-28</td>\n",
       "      <td>low carb</td>\n",
       "      <td>1545</td>\n",
       "      <td>33610.0</td>\n",
       "      <td>6315.0</td>\n",
       "      <td>2661.0</td>\n",
       "      <td>960.0</td>\n",
       "      <td>43546.0</td>\n",
       "      <td>3.980566e+06</td>\n",
       "      <td>4.850479</td>\n",
       "      <td>7.114048</td>\n",
       "    </tr>\n",
       "    <tr>\n",
       "      <th>419</th>\n",
       "      <td>17598</td>\n",
       "      <td>2019-10-05</td>\n",
       "      <td>low carb</td>\n",
       "      <td>1932</td>\n",
       "      <td>16560.0</td>\n",
       "      <td>2569.0</td>\n",
       "      <td>1701.0</td>\n",
       "      <td>458.0</td>\n",
       "      <td>21288.0</td>\n",
       "      <td>4.094692e+06</td>\n",
       "      <td>4.921759</td>\n",
       "      <td>7.116949</td>\n",
       "    </tr>\n",
       "  </tbody>\n",
       "</table>\n",
       "<p>420 rows × 12 columns</p>\n",
       "</div>"
      ],
      "text/plain": [
       "     Unnamed: 0        date theme_name  total_post  google_searchVolume  \\\n",
       "0             0  2016-01-09     salmon          47               1913.0   \n",
       "1            42  2016-02-06     salmon          47                850.0   \n",
       "2            84  2016-02-20     salmon         156               1063.0   \n",
       "3           126  2016-02-27     salmon          90               1912.0   \n",
       "4           168  2016-03-26     salmon          50               1912.0   \n",
       "..          ...         ...        ...         ...                  ...   \n",
       "415       17430  2019-09-07   low carb        1891              38008.0   \n",
       "416       17472  2019-09-14   low carb        1142              41306.0   \n",
       "417       17514  2019-09-21   low carb        1158              35338.0   \n",
       "418       17556  2019-09-28   low carb        1545              33610.0   \n",
       "419       17598  2019-10-05   low carb        1932              16560.0   \n",
       "\n",
       "     amazon_searchVolume  chewy_searchVolume  walmart_searchVolume  \\\n",
       "0                    0.0                 0.0                   0.0   \n",
       "1                    0.0                 0.0                   0.0   \n",
       "2                    0.0                 0.0                   0.0   \n",
       "3                    0.0                 0.0                   0.0   \n",
       "4                    0.0                 0.0                   0.0   \n",
       "..                   ...                 ...                   ...   \n",
       "415               5236.0              4489.0                 627.0   \n",
       "416               4655.0              4862.0                 669.0   \n",
       "417               3699.0              2952.0                 625.0   \n",
       "418               6315.0              2661.0                 960.0   \n",
       "419               2569.0              1701.0                 458.0   \n",
       "\n",
       "     total_searchVolume  client_lbs_value  client_unit_price  \\\n",
       "0                1913.0      5.379338e+06          10.120685   \n",
       "1                 850.0      5.217845e+06           9.974540   \n",
       "2                1063.0      4.747996e+06           9.932648   \n",
       "3                1912.0      4.676554e+06           9.879768   \n",
       "4                1912.0      4.739258e+06           9.697814   \n",
       "..                  ...               ...                ...   \n",
       "415             48360.0      4.028791e+06           4.940891   \n",
       "416             51492.0      4.017835e+06           4.948014   \n",
       "417             42614.0      3.974981e+06           4.970951   \n",
       "418             43546.0      3.980566e+06           4.850479   \n",
       "419             21288.0      4.094692e+06           4.921759   \n",
       "\n",
       "     competitor_unit_price  \n",
       "0                 7.451236  \n",
       "1                 7.736047  \n",
       "2                 7.407171  \n",
       "3                 7.430647  \n",
       "4                 7.526944  \n",
       "..                     ...  \n",
       "415               7.081531  \n",
       "416               7.032547  \n",
       "417               7.107041  \n",
       "418               7.114048  \n",
       "419               7.116949  \n",
       "\n",
       "[420 rows x 12 columns]"
      ]
     },
     "execution_count": 46,
     "metadata": {},
     "output_type": "execute_result"
    }
   ],
   "source": [
    "ground_truth_for_modelling"
   ]
  },
  {
   "cell_type": "code",
   "execution_count": 65,
   "id": "63eb8663",
   "metadata": {},
   "outputs": [
    {
     "ename": "KeyError",
     "evalue": "\"['Unnamed: 0'] not found in axis\"",
     "output_type": "error",
     "traceback": [
      "\u001b[0;31m---------------------------------------------------------------------------\u001b[0m",
      "\u001b[0;31mKeyError\u001b[0m                                  Traceback (most recent call last)",
      "Input \u001b[0;32mIn [65]\u001b[0m, in \u001b[0;36m<cell line: 1>\u001b[0;34m()\u001b[0m\n\u001b[0;32m----> 1\u001b[0m \u001b[43mground_truth_for_modelling\u001b[49m\u001b[38;5;241;43m.\u001b[39;49m\u001b[43mdrop\u001b[49m\u001b[43m(\u001b[49m\u001b[43mcolumns\u001b[49m\u001b[38;5;241;43m=\u001b[39;49m\u001b[43m[\u001b[49m\u001b[38;5;124;43m'\u001b[39;49m\u001b[38;5;124;43mUnnamed: 0\u001b[39;49m\u001b[38;5;124;43m'\u001b[39;49m\u001b[43m]\u001b[49m\u001b[43m,\u001b[49m\u001b[43m \u001b[49m\u001b[43minplace\u001b[49m\u001b[38;5;241;43m=\u001b[39;49m\u001b[38;5;28;43;01mTrue\u001b[39;49;00m\u001b[43m)\u001b[49m\n",
      "File \u001b[0;32m~/miniconda3/envs/ta-tigerml/lib/python3.8/site-packages/pandas/util/_decorators.py:311\u001b[0m, in \u001b[0;36mdeprecate_nonkeyword_arguments.<locals>.decorate.<locals>.wrapper\u001b[0;34m(*args, **kwargs)\u001b[0m\n\u001b[1;32m    305\u001b[0m \u001b[38;5;28;01mif\u001b[39;00m \u001b[38;5;28mlen\u001b[39m(args) \u001b[38;5;241m>\u001b[39m num_allow_args:\n\u001b[1;32m    306\u001b[0m     warnings\u001b[38;5;241m.\u001b[39mwarn(\n\u001b[1;32m    307\u001b[0m         msg\u001b[38;5;241m.\u001b[39mformat(arguments\u001b[38;5;241m=\u001b[39marguments),\n\u001b[1;32m    308\u001b[0m         \u001b[38;5;167;01mFutureWarning\u001b[39;00m,\n\u001b[1;32m    309\u001b[0m         stacklevel\u001b[38;5;241m=\u001b[39mstacklevel,\n\u001b[1;32m    310\u001b[0m     )\n\u001b[0;32m--> 311\u001b[0m \u001b[38;5;28;01mreturn\u001b[39;00m \u001b[43mfunc\u001b[49m\u001b[43m(\u001b[49m\u001b[38;5;241;43m*\u001b[39;49m\u001b[43margs\u001b[49m\u001b[43m,\u001b[49m\u001b[43m \u001b[49m\u001b[38;5;241;43m*\u001b[39;49m\u001b[38;5;241;43m*\u001b[39;49m\u001b[43mkwargs\u001b[49m\u001b[43m)\u001b[49m\n",
      "File \u001b[0;32m~/miniconda3/envs/ta-tigerml/lib/python3.8/site-packages/pandas/core/frame.py:4954\u001b[0m, in \u001b[0;36mDataFrame.drop\u001b[0;34m(self, labels, axis, index, columns, level, inplace, errors)\u001b[0m\n\u001b[1;32m   4806\u001b[0m \u001b[38;5;129m@deprecate_nonkeyword_arguments\u001b[39m(version\u001b[38;5;241m=\u001b[39m\u001b[38;5;28;01mNone\u001b[39;00m, allowed_args\u001b[38;5;241m=\u001b[39m[\u001b[38;5;124m\"\u001b[39m\u001b[38;5;124mself\u001b[39m\u001b[38;5;124m\"\u001b[39m, \u001b[38;5;124m\"\u001b[39m\u001b[38;5;124mlabels\u001b[39m\u001b[38;5;124m\"\u001b[39m])\n\u001b[1;32m   4807\u001b[0m \u001b[38;5;28;01mdef\u001b[39;00m \u001b[38;5;21mdrop\u001b[39m(\n\u001b[1;32m   4808\u001b[0m     \u001b[38;5;28mself\u001b[39m,\n\u001b[0;32m   (...)\u001b[0m\n\u001b[1;32m   4815\u001b[0m     errors: \u001b[38;5;28mstr\u001b[39m \u001b[38;5;241m=\u001b[39m \u001b[38;5;124m\"\u001b[39m\u001b[38;5;124mraise\u001b[39m\u001b[38;5;124m\"\u001b[39m,\n\u001b[1;32m   4816\u001b[0m ):\n\u001b[1;32m   4817\u001b[0m \u001b[38;5;250m    \u001b[39m\u001b[38;5;124;03m\"\"\"\u001b[39;00m\n\u001b[1;32m   4818\u001b[0m \u001b[38;5;124;03m    Drop specified labels from rows or columns.\u001b[39;00m\n\u001b[1;32m   4819\u001b[0m \n\u001b[0;32m   (...)\u001b[0m\n\u001b[1;32m   4952\u001b[0m \u001b[38;5;124;03m            weight  1.0     0.8\u001b[39;00m\n\u001b[1;32m   4953\u001b[0m \u001b[38;5;124;03m    \"\"\"\u001b[39;00m\n\u001b[0;32m-> 4954\u001b[0m     \u001b[38;5;28;01mreturn\u001b[39;00m \u001b[38;5;28;43msuper\u001b[39;49m\u001b[43m(\u001b[49m\u001b[43m)\u001b[49m\u001b[38;5;241;43m.\u001b[39;49m\u001b[43mdrop\u001b[49m\u001b[43m(\u001b[49m\n\u001b[1;32m   4955\u001b[0m \u001b[43m        \u001b[49m\u001b[43mlabels\u001b[49m\u001b[38;5;241;43m=\u001b[39;49m\u001b[43mlabels\u001b[49m\u001b[43m,\u001b[49m\n\u001b[1;32m   4956\u001b[0m \u001b[43m        \u001b[49m\u001b[43maxis\u001b[49m\u001b[38;5;241;43m=\u001b[39;49m\u001b[43maxis\u001b[49m\u001b[43m,\u001b[49m\n\u001b[1;32m   4957\u001b[0m \u001b[43m        \u001b[49m\u001b[43mindex\u001b[49m\u001b[38;5;241;43m=\u001b[39;49m\u001b[43mindex\u001b[49m\u001b[43m,\u001b[49m\n\u001b[1;32m   4958\u001b[0m \u001b[43m        \u001b[49m\u001b[43mcolumns\u001b[49m\u001b[38;5;241;43m=\u001b[39;49m\u001b[43mcolumns\u001b[49m\u001b[43m,\u001b[49m\n\u001b[1;32m   4959\u001b[0m \u001b[43m        \u001b[49m\u001b[43mlevel\u001b[49m\u001b[38;5;241;43m=\u001b[39;49m\u001b[43mlevel\u001b[49m\u001b[43m,\u001b[49m\n\u001b[1;32m   4960\u001b[0m \u001b[43m        \u001b[49m\u001b[43minplace\u001b[49m\u001b[38;5;241;43m=\u001b[39;49m\u001b[43minplace\u001b[49m\u001b[43m,\u001b[49m\n\u001b[1;32m   4961\u001b[0m \u001b[43m        \u001b[49m\u001b[43merrors\u001b[49m\u001b[38;5;241;43m=\u001b[39;49m\u001b[43merrors\u001b[49m\u001b[43m,\u001b[49m\n\u001b[1;32m   4962\u001b[0m \u001b[43m    \u001b[49m\u001b[43m)\u001b[49m\n",
      "File \u001b[0;32m~/miniconda3/envs/ta-tigerml/lib/python3.8/site-packages/pandas/core/generic.py:4267\u001b[0m, in \u001b[0;36mNDFrame.drop\u001b[0;34m(self, labels, axis, index, columns, level, inplace, errors)\u001b[0m\n\u001b[1;32m   4265\u001b[0m \u001b[38;5;28;01mfor\u001b[39;00m axis, labels \u001b[38;5;129;01min\u001b[39;00m axes\u001b[38;5;241m.\u001b[39mitems():\n\u001b[1;32m   4266\u001b[0m     \u001b[38;5;28;01mif\u001b[39;00m labels \u001b[38;5;129;01mis\u001b[39;00m \u001b[38;5;129;01mnot\u001b[39;00m \u001b[38;5;28;01mNone\u001b[39;00m:\n\u001b[0;32m-> 4267\u001b[0m         obj \u001b[38;5;241m=\u001b[39m \u001b[43mobj\u001b[49m\u001b[38;5;241;43m.\u001b[39;49m\u001b[43m_drop_axis\u001b[49m\u001b[43m(\u001b[49m\u001b[43mlabels\u001b[49m\u001b[43m,\u001b[49m\u001b[43m \u001b[49m\u001b[43maxis\u001b[49m\u001b[43m,\u001b[49m\u001b[43m \u001b[49m\u001b[43mlevel\u001b[49m\u001b[38;5;241;43m=\u001b[39;49m\u001b[43mlevel\u001b[49m\u001b[43m,\u001b[49m\u001b[43m \u001b[49m\u001b[43merrors\u001b[49m\u001b[38;5;241;43m=\u001b[39;49m\u001b[43merrors\u001b[49m\u001b[43m)\u001b[49m\n\u001b[1;32m   4269\u001b[0m \u001b[38;5;28;01mif\u001b[39;00m inplace:\n\u001b[1;32m   4270\u001b[0m     \u001b[38;5;28mself\u001b[39m\u001b[38;5;241m.\u001b[39m_update_inplace(obj)\n",
      "File \u001b[0;32m~/miniconda3/envs/ta-tigerml/lib/python3.8/site-packages/pandas/core/generic.py:4311\u001b[0m, in \u001b[0;36mNDFrame._drop_axis\u001b[0;34m(self, labels, axis, level, errors, consolidate, only_slice)\u001b[0m\n\u001b[1;32m   4309\u001b[0m         new_axis \u001b[38;5;241m=\u001b[39m axis\u001b[38;5;241m.\u001b[39mdrop(labels, level\u001b[38;5;241m=\u001b[39mlevel, errors\u001b[38;5;241m=\u001b[39merrors)\n\u001b[1;32m   4310\u001b[0m     \u001b[38;5;28;01melse\u001b[39;00m:\n\u001b[0;32m-> 4311\u001b[0m         new_axis \u001b[38;5;241m=\u001b[39m \u001b[43maxis\u001b[49m\u001b[38;5;241;43m.\u001b[39;49m\u001b[43mdrop\u001b[49m\u001b[43m(\u001b[49m\u001b[43mlabels\u001b[49m\u001b[43m,\u001b[49m\u001b[43m \u001b[49m\u001b[43merrors\u001b[49m\u001b[38;5;241;43m=\u001b[39;49m\u001b[43merrors\u001b[49m\u001b[43m)\u001b[49m\n\u001b[1;32m   4312\u001b[0m     indexer \u001b[38;5;241m=\u001b[39m axis\u001b[38;5;241m.\u001b[39mget_indexer(new_axis)\n\u001b[1;32m   4314\u001b[0m \u001b[38;5;66;03m# Case for non-unique axis\u001b[39;00m\n\u001b[1;32m   4315\u001b[0m \u001b[38;5;28;01melse\u001b[39;00m:\n",
      "File \u001b[0;32m~/miniconda3/envs/ta-tigerml/lib/python3.8/site-packages/pandas/core/indexes/base.py:6644\u001b[0m, in \u001b[0;36mIndex.drop\u001b[0;34m(self, labels, errors)\u001b[0m\n\u001b[1;32m   6642\u001b[0m \u001b[38;5;28;01mif\u001b[39;00m mask\u001b[38;5;241m.\u001b[39many():\n\u001b[1;32m   6643\u001b[0m     \u001b[38;5;28;01mif\u001b[39;00m errors \u001b[38;5;241m!=\u001b[39m \u001b[38;5;124m\"\u001b[39m\u001b[38;5;124mignore\u001b[39m\u001b[38;5;124m\"\u001b[39m:\n\u001b[0;32m-> 6644\u001b[0m         \u001b[38;5;28;01mraise\u001b[39;00m \u001b[38;5;167;01mKeyError\u001b[39;00m(\u001b[38;5;124mf\u001b[39m\u001b[38;5;124m\"\u001b[39m\u001b[38;5;132;01m{\u001b[39;00m\u001b[38;5;28mlist\u001b[39m(labels[mask])\u001b[38;5;132;01m}\u001b[39;00m\u001b[38;5;124m not found in axis\u001b[39m\u001b[38;5;124m\"\u001b[39m)\n\u001b[1;32m   6645\u001b[0m     indexer \u001b[38;5;241m=\u001b[39m indexer[\u001b[38;5;241m~\u001b[39mmask]\n\u001b[1;32m   6646\u001b[0m \u001b[38;5;28;01mreturn\u001b[39;00m \u001b[38;5;28mself\u001b[39m\u001b[38;5;241m.\u001b[39mdelete(indexer)\n",
      "\u001b[0;31mKeyError\u001b[0m: \"['Unnamed: 0'] not found in axis\""
     ]
    }
   ],
   "source": [
    "ground_truth_for_modelling.drop(columns=['Unnamed: 0'], inplace=True)\n"
   ]
  },
  {
   "cell_type": "code",
   "execution_count": 74,
   "id": "e6a3cb83",
   "metadata": {},
   "outputs": [],
   "source": [
    "\n",
    "numerical_features = ground_truth_for_modelling.select_dtypes(include='number')\n",
    "\n",
    "features = X = ground_truth_for_modelling.drop(columns=['client_lbs_value'])\n",
    "target = y = ground_truth_for_modelling['client_lbs_value']\n",
    "\n",
    "\n",
    "X_train, X_test, y_train, y_test = train_test_split(X, y, test_size=0.3, random_state=42)\n",
    "\n",
    "\n",
    "save_dataset(context, X_train, '/train/ground_truth_for_modelling/features')\n",
    "save_dataset(context, y_train, '/train/ground_truth_for_modelling/target')\n",
    "\n",
    "save_dataset(context, X_test, '/test/ground_truth_for_modelling/features')\n",
    "save_dataset(context, y_test, '/test/ground_truth_for_modelling/target')"
   ]
  },
  {
   "cell_type": "markdown",
   "id": "1e671b72",
   "metadata": {},
   "source": [
    "# 3 Feature Engineering\n",
    "\n",
    "The focus here is the `Pipeline` and not the model. Though the model would inform the pipeline that is needed to train the model, our focus is to set it up in such a way that it can be saved/loaded, tweaked for different model choices and so on."
   ]
  },
  {
   "cell_type": "markdown",
   "id": "bb37ce0a",
   "metadata": {},
   "source": [
    "## 3.2 Feature Engineering Pipelines\n",
    "\n",
    "\n",
    "**Dev NOTES**\n",
    "\n",
    "For Feature Engineering and Model Building sklearn.pipeline.Pipeline are leveraged because of the following advantages\n",
    "<details>\n",
    "    \n",
    "1. It helps in automating workflows and are easier to read and comprehend.\n",
    "2. Right Sequence can be ensured and (for example always encodes before imputing)\n",
    "3. Reproducibility is very convenient with pipelines\n",
    "4. Pipelines help you prevent data leakage in your test data\n",
    "5. Code is near implementation ready\n",
    "\n",
    "#### General Steps in the Feature Transformation are as follows\n",
    " - Outlier Treatment\n",
    " - Encoding of Categorical Columns\n",
    " - Missing Values Imputation"
   ]
  },
  {
   "cell_type": "code",
   "execution_count": 51,
   "id": "67cf75da",
   "metadata": {},
   "outputs": [],
   "source": [
    "# collecting different types of columns for transformations\n",
    "cat_columns = X_train.select_dtypes('object').columns\n",
    "num_columns = X_train.select_dtypes('number').columns"
   ]
  },
  {
   "cell_type": "code",
   "execution_count": 52,
   "id": "0e4ca961",
   "metadata": {},
   "outputs": [
    {
     "data": {
      "text/plain": [
       "Index(['date', 'theme_name'], dtype='object')"
      ]
     },
     "execution_count": 52,
     "metadata": {},
     "output_type": "execute_result"
    }
   ],
   "source": [
    "cat_columns"
   ]
  },
  {
   "cell_type": "code",
   "execution_count": 53,
   "id": "d85c184a",
   "metadata": {},
   "outputs": [
    {
     "data": {
      "text/plain": [
       "Index(['total_post', 'google_searchVolume', 'amazon_searchVolume',\n",
       "       'chewy_searchVolume', 'walmart_searchVolume', 'total_searchVolume',\n",
       "       'client_unit_price', 'competitor_unit_price'],\n",
       "      dtype='object')"
      ]
     },
     "execution_count": 53,
     "metadata": {},
     "output_type": "execute_result"
    }
   ],
   "source": [
    "num_columns"
   ]
  },
  {
   "cell_type": "markdown",
   "id": "f28d9e0b",
   "metadata": {},
   "source": [
    "#### Outlier Handling\n",
    "- A Custom Transformer is used to handle outliers. It is not included as part of the pipeline as outliers handling are optional for test data\n",
    "- An option to either drop or cap the outliers can be passed during the transform call\n",
    "- If we want to treat outliers for some columns them we can pass cols argument to the Transformer\n",
    "- This will go into production code"
   ]
  },
  {
   "cell_type": "code",
   "execution_count": 54,
   "id": "bf5a8774",
   "metadata": {},
   "outputs": [],
   "source": [
    "# In our case, there were no significant outliers. Hence we would be skipping this step."
   ]
  },
  {
   "cell_type": "markdown",
   "id": "16340f0b",
   "metadata": {},
   "source": [
    "#### Encoding"
   ]
  },
  {
   "cell_type": "markdown",
   "id": "6c8c444c",
   "metadata": {},
   "source": [
    "Some sample pipelines showcasing how to create column specific pipelines and integrating them overall is presented below\n",
    "\n",
    "- Commonly target encoding is done for categorical variables with too many levels.\n",
    "- We also group sparse levels. For fewer levels one hot encoding/label encoding is preferred.\n",
    "- If there is one dominant level, we can use binary encoding.\n",
    "- This will go into production code"
   ]
  },
  {
   "cell_type": "code",
   "execution_count": 55,
   "id": "5a5e1ebe",
   "metadata": {},
   "outputs": [],
   "source": [
    "def one_hot_encode_column(dataframe, cat_variable):\n",
    "    one_hot = pd.get_dummies(dataframe[cat_variable], drop_first=True)\n",
    "    # Drop column B as it is now encoded\n",
    "    dataframe = dataframe.drop('theme_name',axis = 1) # Join the encoded df\n",
    "    dataframe = dataframe.join(one_hot)\n",
    "    return dataframe"
   ]
  },
  {
   "cell_type": "code",
   "execution_count": 75,
   "id": "717ea3e0",
   "metadata": {},
   "outputs": [],
   "source": [
    "def engineer_date_related_features(dataframe):\n",
    "    temp_dataframe = dataframe.copy()\n",
    "    temp_dataframe['date'] = pd.to_datetime(temp_dataframe['date'])\n",
    "    temp_dataframe['year'] = temp_dataframe['date'].dt.year\n",
    "    temp_dataframe['month'] = temp_dataframe.date.dt.month\n",
    "    temp_dataframe['quarter'] = temp_dataframe.date.dt.quarter\n",
    "    temp_dataframe.drop(columns=['date'], inplace=True)\n",
    "    return temp_dataframe"
   ]
  },
  {
   "cell_type": "code",
   "execution_count": 76,
   "id": "b9c35379",
   "metadata": {},
   "outputs": [],
   "source": [
    "train_one_hot_encoder_transformer = FunctionTransformer(one_hot_encode_column, kw_args={'cat_variable': 'theme_name'})\n",
    "test_one_hot_encoder_transformer = FunctionTransformer(one_hot_encode_column, kw_args={'cat_variable': 'theme_name'})\n",
    "date_feature_generator = FunctionTransformer(engineer_date_related_features)"
   ]
  },
  {
   "cell_type": "code",
   "execution_count": 77,
   "id": "9ef40c8f",
   "metadata": {},
   "outputs": [],
   "source": [
    "feature_engineering_pipeline_train = Pipeline([('one_hot_encoding', train_one_hot_encoder_transformer)\n",
    "                                               , ('date_feature_generator', date_feature_generator)])\n",
    "feature_engineering_pipeline_test = Pipeline([('one_hot_encoding', test_one_hot_encoder_transformer)\n",
    "                                               , ('date_feature_generator', date_feature_generator)])"
   ]
  },
  {
   "cell_type": "code",
   "execution_count": 78,
   "id": "0c54a52f",
   "metadata": {},
   "outputs": [],
   "source": [
    "X_train = feature_engineering_pipeline_train.fit_transform(X_train)\n",
    "X_test = feature_engineering_pipeline_train.fit_transform(X_test)"
   ]
  },
  {
   "cell_type": "markdown",
   "id": "9d7ea50b",
   "metadata": {},
   "source": [
    "**Dev notes(Encoding):**\n",
    "<details>\n",
    "\n",
    "    Some common practices followed in Categorical Feature Encoding are\n",
    "    * For categorical variables with too many levels, target encoding can be done.\n",
    "    * For fewer levels, one hot encoding can be done.\n",
    "    * If one very dominant level is observed, binary encoding can be used.\n",
    "    \n",
    "    \n",
    "</details>"
   ]
  },
  {
   "cell_type": "markdown",
   "id": "f9b115b5",
   "metadata": {},
   "source": [
    "## 3.2 Feature analysis\n",
    "\n",
    "Using the pipeline above analyze the features and decide on additional features to add/remove from the pipeline. This section will not be part of the production code, unless input data drifts etc. are explicitly demanded in the project.\n",
    "\n",
    "Here we are primarily focused on feature selection/elimination based on business rules, prior knowledge, data analysis.\n",
    "\n",
    "**We are not building any models at this point.**\n"
   ]
  },
  {
   "cell_type": "markdown",
   "id": "390d8f6e",
   "metadata": {},
   "source": [
    "### 3.2.1 Univariate\n",
    "\n",
    "\n",
    "- Look at each variable independently. This is useful if your models have assumptions on the distribution and/or bounds on the features/target"
   ]
  },
  {
   "cell_type": "code",
   "execution_count": 81,
   "id": "aaf5402c",
   "metadata": {},
   "outputs": [
    {
     "data": {},
     "metadata": {},
     "output_type": "display_data"
    },
    {
     "data": {
      "application/vnd.holoviews_exec.v0+json": "",
      "text/html": [
       "<div id='1002'>\n",
       "  <div class=\"bk-root\" id=\"e7478bfb-22df-42c6-9f24-ea6cf5f42b9d\" data-root-id=\"1002\"></div>\n",
       "</div>\n",
       "<script type=\"application/javascript\">(function(root) {\n",
       "  function embed_document(root) {\n",
       "    var docs_json = {\"da11c735-b1a1-4425-bfe2-fb26c19c40fd\":{\"defs\":[{\"extends\":null,\"module\":null,\"name\":\"ReactiveHTML1\",\"overrides\":[],\"properties\":[]},{\"extends\":null,\"module\":null,\"name\":\"FlexBox1\",\"overrides\":[],\"properties\":[{\"default\":\"flex-start\",\"kind\":null,\"name\":\"align_content\"},{\"default\":\"flex-start\",\"kind\":null,\"name\":\"align_items\"},{\"default\":\"row\",\"kind\":null,\"name\":\"flex_direction\"},{\"default\":\"wrap\",\"kind\":null,\"name\":\"flex_wrap\"},{\"default\":\"flex-start\",\"kind\":null,\"name\":\"justify_content\"}]},{\"extends\":null,\"module\":null,\"name\":\"GridStack1\",\"overrides\":[],\"properties\":[{\"default\":\"warn\",\"kind\":null,\"name\":\"mode\"},{\"default\":null,\"kind\":null,\"name\":\"ncols\"},{\"default\":null,\"kind\":null,\"name\":\"nrows\"},{\"default\":true,\"kind\":null,\"name\":\"allow_resize\"},{\"default\":true,\"kind\":null,\"name\":\"allow_drag\"},{\"default\":[],\"kind\":null,\"name\":\"state\"}]},{\"extends\":null,\"module\":null,\"name\":\"click1\",\"overrides\":[],\"properties\":[{\"default\":\"\",\"kind\":null,\"name\":\"terminal_output\"},{\"default\":\"\",\"kind\":null,\"name\":\"debug_name\"},{\"default\":0,\"kind\":null,\"name\":\"clears\"}]},{\"extends\":null,\"module\":null,\"name\":\"NotificationAreaBase1\",\"overrides\":[],\"properties\":[{\"default\":\"bottom-right\",\"kind\":null,\"name\":\"position\"},{\"default\":0,\"kind\":null,\"name\":\"_clear\"}]},{\"extends\":null,\"module\":null,\"name\":\"NotificationArea1\",\"overrides\":[],\"properties\":[{\"default\":[],\"kind\":null,\"name\":\"notifications\"},{\"default\":\"bottom-right\",\"kind\":null,\"name\":\"position\"},{\"default\":0,\"kind\":null,\"name\":\"_clear\"},{\"default\":[{\"background\":\"#ffc107\",\"icon\":{\"className\":\"fas fa-exclamation-triangle\",\"color\":\"white\",\"tagName\":\"i\"},\"type\":\"warning\"},{\"background\":\"#007bff\",\"icon\":{\"className\":\"fas fa-info-circle\",\"color\":\"white\",\"tagName\":\"i\"},\"type\":\"info\"}],\"kind\":null,\"name\":\"types\"}]},{\"extends\":null,\"module\":null,\"name\":\"Notification\",\"overrides\":[],\"properties\":[{\"default\":null,\"kind\":null,\"name\":\"background\"},{\"default\":3000,\"kind\":null,\"name\":\"duration\"},{\"default\":null,\"kind\":null,\"name\":\"icon\"},{\"default\":\"\",\"kind\":null,\"name\":\"message\"},{\"default\":null,\"kind\":null,\"name\":\"notification_type\"},{\"default\":false,\"kind\":null,\"name\":\"_destroyed\"}]},{\"extends\":null,\"module\":null,\"name\":\"TemplateActions1\",\"overrides\":[],\"properties\":[{\"default\":0,\"kind\":null,\"name\":\"open_modal\"},{\"default\":0,\"kind\":null,\"name\":\"close_modal\"}]},{\"extends\":null,\"module\":null,\"name\":\"MaterialTemplateActions1\",\"overrides\":[],\"properties\":[{\"default\":0,\"kind\":null,\"name\":\"open_modal\"},{\"default\":0,\"kind\":null,\"name\":\"close_modal\"}]}],\"roots\":{\"references\":[{\"attributes\":{\"fill_alpha\":0.5,\"fill_color\":\"#30a2da\",\"hatch_color\":\"#30a2da\",\"x\":{\"field\":\"x\"},\"y\":{\"field\":\"y\"}},\"id\":\"1063\",\"type\":\"Patch\"},{\"attributes\":{\"end\":86.86,\"reset_end\":94.6,\"reset_start\":0.0,\"tags\":[[[\"Frequency\",\"Frequency\",null]]]},\"id\":\"1008\",\"type\":\"Range1d\"},{\"attributes\":{\"children\":[{\"id\":\"1238\"},{\"id\":\"1237\"}]},\"id\":\"1239\",\"type\":\"Column\"},{\"attributes\":{\"editor\":{\"id\":\"1401\"},\"field\":\"max\",\"formatter\":{\"id\":\"1400\"},\"title\":\"max\"},\"id\":\"1402\",\"type\":\"TableColumn\"},{\"attributes\":{\"children\":[{\"id\":\"1006\"},{\"id\":\"1239\"},{\"id\":\"1422\"}],\"margin\":[0,0,0,0],\"name\":\"Row03004\"},\"id\":\"1005\",\"type\":\"Row\"},{\"attributes\":{},\"id\":\"1376\",\"type\":\"NumberEditor\"},{\"attributes\":{\"toolbars\":[{\"id\":\"1033\"}],\"tools\":[{\"id\":\"1009\"},{\"id\":\"1027\"},{\"id\":\"1028\"},{\"id\":\"1029\"},{\"id\":\"1030\"},{\"id\":\"1031\"}]},\"id\":\"1235\",\"type\":\"ProxyToolbar\"},{\"attributes\":{\"axis_label\":\"y, total_post_density\",\"coordinates\":null,\"formatter\":{\"id\":\"1071\"},\"group\":null,\"major_label_policy\":{\"id\":\"1072\"},\"ticker\":{\"id\":\"1070\"},\"y_range_name\":\"twiny\"},\"id\":\"1065\",\"type\":\"LinearAxis\"},{\"attributes\":{\"end\":0.00031505276116850075},\"id\":\"1064\",\"type\":\"Range1d\"},{\"attributes\":{\"end\":16610.993603468745,\"reset_end\":16610.993603468745,\"reset_start\":-2534.9936034687466,\"start\":-2534.9936034687466,\"tags\":[[[\"x\",\"x\",null]]]},\"id\":\"1007\",\"type\":\"Range1d\"},{\"attributes\":{},\"id\":\"1172\",\"type\":\"Selection\"},{\"attributes\":{},\"id\":\"1041\",\"type\":\"BasicTickFormatter\"},{\"attributes\":{\"margin\":[5,5,5,5],\"name\":\"HSpacer03002\",\"sizing_mode\":\"stretch_width\"},\"id\":\"1006\",\"type\":\"Spacer\"},{\"attributes\":{},\"id\":\"1042\",\"type\":\"AllLabels\"},{\"attributes\":{},\"id\":\"1232\",\"type\":\"UnionRenderers\"},{\"attributes\":{},\"id\":\"1045\",\"type\":\"AllLabels\"},{\"attributes\":{\"margin\":[5,5,5,5],\"name\":\"HSpacer03006\",\"sizing_mode\":\"stretch_width\"},\"id\":\"1428\",\"type\":\"Spacer\"},{\"attributes\":{},\"id\":\"1044\",\"type\":\"BasicTickFormatter\"},{\"attributes\":{\"data\":{\"x\":{\"__ndarray__\":\"N5jOxeICmsBqrHe3okOXwJzAIKlihJTAz9TJmiLFkcAD0uUYxQuOwGj6N/xEjYjAziKK38QOg8BklriFiSB7wDDnXEyJI3DA8N8ETCSaVMDw3GmZ3FlXQHAmtl9303BApNURmXfQe0Buwjbpu2aDQAqa5AU85YhAonGSIrxjjkCfJKAfHvGRQG0Q9y1esJRAOfxNPJ5vl0AH6KRK3i6aQNXT+1ge7pxAob9SZ16tn0C41dQ6TzahQJ5LAELvlaJAhMErSY/1o0BsN1dQL1WlQFKtglfPtKZAOCOuXm8UqEAgmdllD3SpQAYPBW2v06pA7IQwdE8zrEDU+lt775KtQLpwh4KP8q5AUHPZxBcpsEBELm/I59iwQDfpBMy3iLFAKqSaz4c4skAeXzDTV+iyQBEaxtYnmLNABNVb2vdHtED4j/Hdx/e0QOtKh+GXp7VA3gUd5WdXtkDSwLLoNwe3QMV7SOwHt7dAuDbe79dmuECs8XPzpxa5QKCsCfd3xrlAkmef+kd2ukCGIjX+Fya7QHrdygHo1btAbJhgBbiFvEBgU/YIiDW9QFQOjAxY5b1ARskhECiVvkA6hLcT+ES/QC4/TRfI9L9AEH1xDUxSwECKWjwPNKrAQAQ4BxEcAsFAfRXSEgRawUD38pwU7LHBQHHQZxbUCcJA6q0yGLxhwkBki/0ZpLnCQN5oyBuMEcNAV0aTHXRpw0DRI14fXMHDQEsBKSFEGcRAxN7zIixxxEA+vL4kFMnEQLiZiSb8IMVAMXdUKOR4xUCrVB8qzNDFQCUy6iu0KMZAng+1LZyAxkAY7X8vhNjGQJLKSjFsMMdAC6gVM1SIx0CFheA0PODHQP9iqzYkOMhAeEB2OAyQyEDyHUE69OfIQGz7CzzcP8lA5djWPcSXyUBftqE/rO/JQNmTbEGUR8pAUnE3Q3yfykDMTgJFZPfKQEYszUZMT8tAvwmYSDSny0A552JKHP/LQLPELUwEV8xALKL4TeyuzECnf8NP1AbNQB9djlG8Xs1AmTpZU6S2zUATGCRVjA7OQI317lZ0Zs5AB9O5WFy+zkAH07lYXL7OQI317lZ0Zs5AExgkVYwOzkCZOllTpLbNQB9djlG8Xs1Ap3/DT9QGzUAsovhN7K7MQLPELUwEV8xAOediShz/y0C/CZhINKfLQEYszUZMT8tAzE4CRWT3ykBScTdDfJ/KQNmTbEGUR8pAX7ahP6zvyUDl2NY9xJfJQGz7CzzcP8lA8h1BOvTnyEB4QHY4DJDIQP9iqzYkOMhAhYXgNDzgx0ALqBUzVIjHQJLKSjFsMMdAGO1/L4TYxkCeD7UtnIDGQCUy6iu0KMZAq1QfKszQxUAxd1Qo5HjFQLiZiSb8IMVAPry+JBTJxEDE3vMiLHHEQEsBKSFEGcRA0SNeH1zBw0BXRpMddGnDQN5oyBuMEcNAZIv9GaS5wkDqrTIYvGHCQHHQZxbUCcJA9/KcFOyxwUB9FdISBFrBQAQ4BxEcAsFAilo8DzSqwEAQfXENTFLAQC4/TRfI9L9AOoS3E/hEv0BGySEQKJW+QFQOjAxY5b1AYFP2CIg1vUBsmGAFuIW8QHrdygHo1btAhiI1/hcmu0CSZ5/6R3a6QKCsCfd3xrlArPFz86cWuUC4Nt7v12a4QMV7SOwHt7dA0sCy6DcHt0DeBR3lZ1e2QOtKh+GXp7VA+I/x3cf3tEAE1Vva90e0QBEaxtYnmLNAHl8w01foskAqpJrPhziyQDfpBMy3iLFARC5vyOfYsEBQc9nEFymwQLpwh4KP8q5A1Ppbe++SrUDshDB0TzOsQAYPBW2v06pAIJnZZQ90qUA4I65ebxSoQFKtglfPtKZAbDdXUC9VpUCEwStJj/WjQJ5LAELvlaJAuNXUOk82oUChv1JnXq2fQNXT+1ge7pxAB+ikSt4umkA5/E08nm+XQG0Q9y1esJRAnySgHx7xkUCicZIivGOOQAqa5AU85YhAbsI26btmg0Ck1RGZd9B7QHAmtl9303BA8NxpmdxZV0Dw3wRMJJpUwDDnXEyJI3DAZJa4hYkge8DOIorfxA6DwGj6N/xEjYjAA9LlGMULjsDP1MmaIsWRwJzAIKlihJTAaqx3t6JDl8A3mM7F4gKawA==\",\"dtype\":\"float64\",\"order\":\"little\",\"shape\":[200]},\"y\":{\"__ndarray__\":\"AAAAAAAAAAAAAAAAAAAAAAAAAAAAAAAAAAAAAAAAAAAAAAAAAAAAAAAAAAAAAAAAAAAAAAAAAAAAAAAAAAAAAAAAAAAAAAAAAAAAAAAAAAAAAAAAAAAAAAAAAAAAAAAAAAAAAAAAAAAAAAAAAAAAAAAAAAAAAAAAAAAAAAAAAAAAAAAAAAAAAAAAAAAAAAAAAAAAAAAAAAAAAAAAAAAAAAAAAAAAAAAAAAAAAAAAAAAAAAAAAAAAAAAAAAAAAAAAAAAAAAAAAAAAAAAAAAAAAAAAAAAAAAAAAAAAAAAAAAAAAAAAAAAAAAAAAAAAAAAAAAAAAAAAAAAAAAAAAAAAAAAAAAAAAAAAAAAAAAAAAAAAAAAAAAAAAAAAAAAAAAAAAAAAAAAAAAAAAAAAAAAAAAAAAAAAAAAAAAAAAAAAAAAAAAAAAAAAAAAAAAAAAAAAAAAAAAAAAAAAAAAAAAAAAAAAAAAAAAAAAAAAAAAAAAAAAAAAAAAAAAAAAAAAAAAAAAAAAAAAAAAAAAAAAAAAAAAAAAAAAAAAAAAAAAAAAAAAAAAAAAAAAAAAAAAAAAAAAAAAAAAAAAAAAAAAAAAAAAAAAAAAAAAAAAAAAAAAAAAAAAAAAAAAAAAAAAAAAAAAAAAAAAAAAAAAAAAAAAAAAAAAAAAAAAAAAAAAAAAAAAAAAAAAAAAAAAAAAAAAAAAAAAAAAAAAAAAAAAAAAAAAAAAAAAAAAAAAAAAAAAAAAAAAAAAAAAAAAAAAAAAAAAAAAAAAAAAAAAAAAAAAAAAAAAAAAAAAAAAAAAAAAAAAAAAAAAAAAAAAAAAAAAAAAAAAAAAAAAAAAAAAAAAAAAAAAAAAAAAAAAAAAAAAAAAAAAAAAAAAAAAAAAAAAAAAAAAAAAAAAAAAAAAAAAAAAAAAAAAAAAAAAAAAAAAAAAAAAAAAAAAAAAAAAAAAAAAAAAAAAAAAAAAAAAAAAAAAAAAAAAAAAAAAAAAAAAAAAAAAAAAAAAAAAAAAAAAAAAAAAAAAAAAAAAAAAAAAAAAAAAAAAAAAAAAAAAAAAAAAAAAAAAC7Z+RyMytdPn//Px0B8XE++6NLBJr2gz6LOkBWeBeUPuOcU9pFSqI+qKuDMzQfrj7Nl+mzV3C2PtDMLuh+QL4+TDJq14J3wj6pR5HFLXTEPvO5DSz5pcQ+73DMc/c3wz5fkmtnSPHAPtaL9mmo4L0+894dC2aFvD4gYScjkRa/PkoI2hEx28I+8SwNso/Fxz6GXLOodJnNPty4mGPjzdE+a5j6uvqP1D5cC451+b3WPjXBgkAg/Nc+2q610xHz1z4BqOkmMHLWPlWnfUk9lNM+GRZ5uS+Qzz5zUCPhp2HHPgsdsrz0tb8+bpi7T1uhsz6XdfJa9CSmPvyGk8D5upY+W+HiB801hT6FpHnLpfpxPr3OhweArFs+O96cnxJUQz4aBYXAx34oPrLUzsQANAw+bQ/0J6N/7j126WzC8uvYPa1OxEIwKuk9gWho+b4GBz5P6//auS0kPuo7ytHCFkA+JFDM3GJLVz7fLCdR6qNuPqgAxtG0UoI+SfQlI9rykz4g1IvIZcyjPoM3MYEz8rE+WBM/WTnKvT6G04dwYbjGPoJmTB8sAdA+H7eytHD71D7csdF9ceLZPliwnUTYid4+l1dIeIqb4T617G0YTFfkPsG0243fAug+4etHmTce7T7y0WyIAu/xPrMPVbDH/PU+NxUZOwlU+j5Mu3hfQnH+Pn0y1stw9wA/+F5JdNFiAj/nwfJfKrgDP4aiQ+KZcAU/Xhtx3BUpCD8YtUQxHIYMP4+neaUfjxE/dyHbH0Q1Fj9qEJiD9FgcPwEDURr4+SE/AgLiQh9hJj+0wUeWgxorP2r1+DUpvC8/ukKLWMHkMT+QF7AGqGczPyTotykhQjQ/QND33V9xND8GER+p0hc0P3Nq1zV3czM/xwgSBFvIMj+uoCtE6kUyP7+EGJua8TE/ABg3KK+hMT/Mx81phg0xP9OVSZ1+3S8/UBo+RpZILD/0867SxYonP2eCTWd5NCI/kL9L98f8GT/TQC6d1goRP8IiFry/eAQ/EhdgCUJ49j6IqswrHn/mPphd152chNQ+lcRKQKEHwT65LsejY7SpPg==\",\"dtype\":\"float64\",\"order\":\"little\",\"shape\":[200]}},\"selected\":{\"id\":\"1056\"},\"selection_policy\":{\"id\":\"1078\"}},\"id\":\"1055\",\"type\":\"ColumnDataSource\"},{\"attributes\":{\"margin\":[5,5,5,5],\"name\":\"HSpacer03003\",\"sizing_mode\":\"stretch_width\"},\"id\":\"1422\",\"type\":\"Spacer\"},{\"attributes\":{\"children\":[{\"id\":\"1236\"},{\"id\":\"1234\"}]},\"id\":\"1237\",\"type\":\"Column\"},{\"attributes\":{\"axis\":{\"id\":\"1019\"},\"coordinates\":null,\"grid_line_color\":null,\"group\":null,\"ticker\":null},\"id\":\"1022\",\"type\":\"Grid\"},{\"attributes\":{\"children\":[{\"id\":\"1424\"},{\"id\":\"1425\"},{\"id\":\"1427\"}],\"margin\":[0,0,0,0],\"name\":\"Row03000\"},\"id\":\"1423\",\"type\":\"Row\"},{\"attributes\":{\"children\":[[{\"id\":\"1010\"},0,0],[{\"id\":\"1213\"},1,0]]},\"id\":\"1234\",\"type\":\"GridBox\"},{\"attributes\":{\"coordinates\":null,\"data_source\":{\"id\":\"1046\"},\"glyph\":{\"id\":\"1049\"},\"group\":null,\"hover_glyph\":null,\"muted_glyph\":{\"id\":\"1051\"},\"nonselection_glyph\":{\"id\":\"1050\"},\"selection_glyph\":{\"id\":\"1054\"},\"view\":{\"id\":\"1053\"}},\"id\":\"1052\",\"type\":\"GlyphRenderer\"},{\"attributes\":{\"margin\":[5,5,5,5],\"name\":\"HSpacer03001\",\"sizing_mode\":\"stretch_width\"},\"id\":\"1003\",\"type\":\"Spacer\"},{\"attributes\":{\"coordinates\":null,\"group\":null,\"text\":\"Density Plot for total_post\",\"text_color\":\"black\",\"text_font_size\":\"12pt\"},\"id\":\"1011\",\"type\":\"Title\"},{\"attributes\":{\"format\":\"0,0.0[00000]\"},\"id\":\"1380\",\"type\":\"NumberFormatter\"},{\"attributes\":{\"bottom\":{\"value\":0},\"fill_alpha\":{\"value\":0.1},\"fill_color\":{\"value\":\"#00fff0\"},\"hatch_alpha\":{\"value\":0.1},\"hatch_color\":{\"value\":\"#00fff0\"},\"left\":{\"field\":\"left\"},\"line_alpha\":{\"value\":0.1},\"right\":{\"field\":\"right\"},\"top\":{\"field\":\"top\"}},\"id\":\"1050\",\"type\":\"Quad\"},{\"attributes\":{\"axis\":{\"id\":\"1023\"},\"coordinates\":null,\"dimension\":1,\"grid_line_color\":null,\"group\":null,\"ticker\":null},\"id\":\"1026\",\"type\":\"Grid\"},{\"attributes\":{},\"id\":\"1071\",\"type\":\"BasicTickFormatter\"},{\"attributes\":{\"source\":{\"id\":\"1046\"}},\"id\":\"1053\",\"type\":\"CDSView\"},{\"attributes\":{\"data\":{\"left\":{\"__ndarray__\":\"AAAAAAAAAABmZmZmZv6FQGZmZmZm/pVAzMzMzMx+oEBmZmZmZv6lQAAAAAAAfqtAzMzMzMx+sECZmZmZmT6zQGZmZmZm/rVAMzMzMzO+uEAAAAAAAH67QMzMzMzMPb5AzMzMzMx+wEAzMzMzs97BQJmZmZmZPsNAAAAAAICexEBmZmZmZv7FQMzMzMxMXsdAMzMzMzO+yECZmZmZGR7KQA==\",\"dtype\":\"float64\",\"order\":\"little\",\"shape\":[20]},\"right\":{\"__ndarray__\":\"ZmZmZmb+hUBmZmZmZv6VQMzMzMzMfqBAZmZmZmb+pUAAAAAAAH6rQMzMzMzMfrBAmZmZmZk+s0BmZmZmZv61QDMzMzMzvrhAAAAAAAB+u0DMzMzMzD2+QMzMzMzMfsBAMzMzM7PewUCZmZmZmT7DQAAAAACAnsRAZmZmZmb+xUDMzMzMTF7HQDMzMzMzvshAmZmZmRkeykAAAAAAAH7LQA==\",\"dtype\":\"float64\",\"order\":\"little\",\"shape\":[20]},\"top\":[86,44,82,48,12,5,9,2,2,0,0,0,0,0,0,0,2,1,0,1]},\"selected\":{\"id\":\"1047\"},\"selection_policy\":{\"id\":\"1076\"}},\"id\":\"1046\",\"type\":\"ColumnDataSource\"},{\"attributes\":{\"editor\":{\"id\":\"1376\"},\"field\":\"std\",\"formatter\":{\"id\":\"1375\"},\"title\":\"std\"},\"id\":\"1377\",\"type\":\"TableColumn\"},{\"attributes\":{},\"id\":\"1070\",\"type\":\"BasicTicker\"},{\"attributes\":{},\"id\":\"1027\",\"type\":\"SaveTool\"},{\"attributes\":{},\"id\":\"1072\",\"type\":\"AllLabels\"},{\"attributes\":{\"format\":\"0,0.0[00000]\"},\"id\":\"1370\",\"type\":\"NumberFormatter\"},{\"attributes\":{\"bottom\":{\"value\":0},\"fill_alpha\":{\"value\":0.2},\"fill_color\":{\"value\":\"#00fff0\"},\"hatch_alpha\":{\"value\":0.2},\"hatch_color\":{\"value\":\"#00fff0\"},\"left\":{\"field\":\"left\"},\"line_alpha\":{\"value\":0.2},\"right\":{\"field\":\"right\"},\"top\":{\"field\":\"top\"}},\"id\":\"1051\",\"type\":\"Quad\"},{\"attributes\":{},\"id\":\"1381\",\"type\":\"NumberEditor\"},{\"attributes\":{\"overlay\":{\"id\":\"1032\"}},\"id\":\"1030\",\"type\":\"BoxZoomTool\"},{\"attributes\":{\"tools\":[{\"id\":\"1009\"},{\"id\":\"1027\"},{\"id\":\"1028\"},{\"id\":\"1029\"},{\"id\":\"1030\"},{\"id\":\"1031\"}]},\"id\":\"1033\",\"type\":\"Toolbar\"},{\"attributes\":{},\"id\":\"1031\",\"type\":\"ResetTool\"},{\"attributes\":{},\"id\":\"1029\",\"type\":\"WheelZoomTool\"},{\"attributes\":{\"bottom\":{\"value\":0},\"fill_alpha\":{\"value\":1.0},\"fill_color\":{\"value\":\"#00fff0\"},\"hatch_alpha\":{\"value\":1.0},\"hatch_color\":{\"value\":\"#00fff0\"},\"hatch_scale\":{\"value\":12.0},\"hatch_weight\":{\"value\":1.0},\"left\":{\"field\":\"left\"},\"line_alpha\":{\"value\":1.0},\"line_cap\":{\"value\":\"butt\"},\"line_color\":{\"value\":\"black\"},\"line_dash\":{\"value\":[]},\"line_dash_offset\":{\"value\":0},\"line_join\":{\"value\":\"bevel\"},\"line_width\":{\"value\":1},\"right\":{\"field\":\"right\"},\"top\":{\"field\":\"top\"}},\"id\":\"1054\",\"type\":\"Quad\"},{\"attributes\":{\"children\":[{\"id\":\"1005\"},{\"id\":\"1423\"}],\"margin\":[0,0,0,0],\"name\":\"Column03005\"},\"id\":\"1004\",\"type\":\"Column\"},{\"attributes\":{},\"id\":\"1028\",\"type\":\"PanTool\"},{\"attributes\":{\"axis_label\":\"Frequency\",\"coordinates\":null,\"formatter\":{\"id\":\"1044\"},\"group\":null,\"major_label_policy\":{\"id\":\"1045\"},\"ticker\":{\"id\":\"1024\"}},\"id\":\"1023\",\"type\":\"LinearAxis\"},{\"attributes\":{\"fill_alpha\":0.5,\"fill_color\":\"#30a2da\",\"hatch_alpha\":0.1,\"hatch_color\":\"#30a2da\",\"line_alpha\":1,\"x\":{\"field\":\"x\"},\"y\":{\"field\":\"y\"}},\"id\":\"1059\",\"type\":\"Patch\"},{\"attributes\":{},\"id\":\"1024\",\"type\":\"BasicTicker\"},{\"attributes\":{},\"id\":\"1386\",\"type\":\"NumberEditor\"},{\"attributes\":{\"editor\":{\"id\":\"1366\"},\"field\":\"count\",\"formatter\":{\"id\":\"1365\"},\"title\":\"count\"},\"id\":\"1367\",\"type\":\"TableColumn\"},{\"attributes\":{\"format\":\"0,0.0[00000]\"},\"id\":\"1365\",\"type\":\"NumberFormatter\"},{\"attributes\":{},\"id\":\"1020\",\"type\":\"BasicTicker\"},{\"attributes\":{},\"id\":\"1017\",\"type\":\"LinearScale\"},{\"attributes\":{\"format\":\"0,0.0[00000]\"},\"id\":\"1400\",\"type\":\"NumberFormatter\"},{\"attributes\":{\"children\":[{\"id\":\"1003\"},{\"id\":\"1004\"},{\"id\":\"1428\"}],\"margin\":[0,0,0,0],\"name\":\"Row02992\"},\"id\":\"1002\",\"type\":\"Row\"},{\"attributes\":{\"source\":{\"id\":\"1055\"}},\"id\":\"1062\",\"type\":\"CDSView\"},{\"attributes\":{},\"id\":\"1396\",\"type\":\"NumberEditor\"},{\"attributes\":{\"format\":\"0,0.0[00000]\"},\"id\":\"1375\",\"type\":\"NumberFormatter\"},{\"attributes\":{\"format\":\"0,0.0[00000]\"},\"id\":\"1390\",\"type\":\"NumberFormatter\"},{\"attributes\":{\"axis_label\":\"total_post\",\"coordinates\":null,\"formatter\":{\"id\":\"1041\"},\"group\":null,\"major_label_policy\":{\"id\":\"1042\"},\"ticker\":{\"id\":\"1020\"}},\"id\":\"1019\",\"type\":\"LinearAxis\"},{\"attributes\":{},\"id\":\"1047\",\"type\":\"Selection\"},{\"attributes\":{\"editor\":{\"id\":\"1371\"},\"field\":\"mean\",\"formatter\":{\"id\":\"1370\"},\"title\":\"mean\"},\"id\":\"1372\",\"type\":\"TableColumn\"},{\"attributes\":{},\"id\":\"1056\",\"type\":\"Selection\"},{\"attributes\":{},\"id\":\"1366\",\"type\":\"NumberEditor\"},{\"attributes\":{},\"id\":\"1391\",\"type\":\"NumberEditor\"},{\"attributes\":{\"margin\":[5,5,5,5],\"name\":\"HSpacer02998\",\"sizing_mode\":\"stretch_width\"},\"id\":\"1424\",\"type\":\"Spacer\"},{\"attributes\":{\"columns\":[{\"id\":\"1367\"},{\"id\":\"1372\"},{\"id\":\"1377\"},{\"id\":\"1382\"},{\"id\":\"1387\"},{\"id\":\"1392\"},{\"id\":\"1397\"},{\"id\":\"1402\"}],\"height\":60,\"reorderable\":false,\"source\":{\"id\":\"1171\"},\"view\":{\"id\":\"1215\"}},\"id\":\"1213\",\"type\":\"DataTable\"},{\"attributes\":{\"editor\":{\"id\":\"1386\"},\"field\":\"A_25_percent\",\"formatter\":{\"id\":\"1385\"},\"title\":\"25%\"},\"id\":\"1387\",\"type\":\"TableColumn\"},{\"attributes\":{\"margin\":[5,5,5,5],\"name\":\"HSpacer02999\",\"sizing_mode\":\"stretch_width\"},\"id\":\"1427\",\"type\":\"Spacer\"},{\"attributes\":{\"source\":{\"id\":\"1171\"}},\"id\":\"1215\",\"type\":\"CDSView\"},{\"attributes\":{},\"id\":\"1076\",\"type\":\"UnionRenderers\"},{\"attributes\":{},\"id\":\"1078\",\"type\":\"UnionRenderers\"},{\"attributes\":{\"children\":[{\"id\":\"1426\"}],\"css_classes\":[\"panel-widget-box\"],\"margin\":[5,5,5,5],\"name\":\"WidgetBox02993\"},\"id\":\"1425\",\"type\":\"Column\"},{\"attributes\":{\"bottom_units\":\"screen\",\"coordinates\":null,\"fill_alpha\":0.5,\"fill_color\":\"lightgrey\",\"group\":null,\"left_units\":\"screen\",\"level\":\"overlay\",\"line_alpha\":1.0,\"line_color\":\"black\",\"line_dash\":[4,4],\"line_width\":2,\"right_units\":\"screen\",\"syncable\":false,\"top_units\":\"screen\"},\"id\":\"1032\",\"type\":\"BoxAnnotation\"},{\"attributes\":{\"editor\":{\"id\":\"1381\"},\"field\":\"min\",\"formatter\":{\"id\":\"1380\"},\"title\":\"min\"},\"id\":\"1382\",\"type\":\"TableColumn\"},{\"attributes\":{\"callback\":null,\"renderers\":[{\"id\":\"1061\"}],\"tags\":[\"hv_created\"],\"tooltips\":[[\"total_post\",\"@{total_post}\"],[\"Density\",\"@{total_post_density}\"]]},\"id\":\"1009\",\"type\":\"HoverTool\"},{\"attributes\":{\"below\":[{\"id\":\"1019\"}],\"center\":[{\"id\":\"1022\"},{\"id\":\"1026\"}],\"extra_y_ranges\":{\"twiny\":{\"id\":\"1064\"}},\"height\":300,\"left\":[{\"id\":\"1023\"}],\"margin\":null,\"min_border_bottom\":10,\"min_border_left\":10,\"min_border_right\":10,\"min_border_top\":10,\"renderers\":[{\"id\":\"1052\"},{\"id\":\"1061\"}],\"right\":[{\"id\":\"1065\"}],\"sizing_mode\":\"fixed\",\"title\":{\"id\":\"1011\"},\"toolbar\":{\"id\":\"1033\"},\"toolbar_location\":null,\"x_range\":{\"id\":\"1007\"},\"x_scale\":{\"id\":\"1015\"},\"y_range\":{\"id\":\"1008\"},\"y_scale\":{\"id\":\"1017\"}},\"id\":\"1010\",\"subtype\":\"Figure\",\"type\":\"Plot\"},{\"attributes\":{\"coordinates\":null,\"data_source\":{\"id\":\"1055\"},\"glyph\":{\"id\":\"1058\"},\"group\":null,\"hover_glyph\":null,\"muted_glyph\":{\"id\":\"1060\"},\"nonselection_glyph\":{\"id\":\"1059\"},\"selection_glyph\":{\"id\":\"1063\"},\"view\":{\"id\":\"1062\"},\"y_range_name\":\"twiny\"},\"id\":\"1061\",\"type\":\"GlyphRenderer\"},{\"attributes\":{\"client_comm_id\":\"da6ee3bf92b4479f8776b5b3a5b0b7db\",\"comm_id\":\"59bd8362a3a145bcbd5d7e5c03f4878a\",\"plot_id\":\"1002\"},\"id\":\"1480\",\"type\":\"panel.models.comm_manager.CommManager\"},{\"attributes\":{},\"id\":\"1371\",\"type\":\"NumberEditor\"},{\"attributes\":{\"margin\":[20,20,20,20],\"min_width\":250,\"options\":[\"total_post\",\"google_searchVolume\",\"amazon_searchVolume\",\"chewy_searchVolume\",\"walmart_searchVolume\",\"total_searchVolume\",\"client_unit_price\",\"competitor_unit_price\",\"no additives/preservatives\",\"salmon\",\"year\",\"month\",\"quarter\"],\"title\":\"col\",\"value\":\"total_post\",\"width\":250},\"id\":\"1426\",\"type\":\"panel.models.widgets.CustomSelect\"},{\"attributes\":{\"fill_alpha\":0.5,\"fill_color\":\"#30a2da\",\"hatch_color\":\"#30a2da\",\"x\":{\"field\":\"x\"},\"y\":{\"field\":\"y\"}},\"id\":\"1058\",\"type\":\"Patch\"},{\"attributes\":{\"editor\":{\"id\":\"1391\"},\"field\":\"A_50_percent\",\"formatter\":{\"id\":\"1390\"},\"title\":\"50%\"},\"id\":\"1392\",\"type\":\"TableColumn\"},{\"attributes\":{\"fill_alpha\":0.2,\"fill_color\":\"#30a2da\",\"hatch_alpha\":0.2,\"hatch_color\":\"#30a2da\",\"line_alpha\":0.2,\"x\":{\"field\":\"x\"},\"y\":{\"field\":\"y\"}},\"id\":\"1060\",\"type\":\"Patch\"},{\"attributes\":{\"format\":\"0,0.0[00000]\"},\"id\":\"1385\",\"type\":\"NumberFormatter\"},{\"attributes\":{},\"id\":\"1401\",\"type\":\"NumberEditor\"},{\"attributes\":{\"data\":{\"A_25_percent\":{\"__ndarray__\":\"AAAAAADYgEA=\",\"dtype\":\"float64\",\"order\":\"little\",\"shape\":[1]},\"A_50_percent\":{\"__ndarray__\":\"AAAAAACimEA=\",\"dtype\":\"float64\",\"order\":\"little\",\"shape\":[1]},\"A_75_percent\":{\"__ndarray__\":\"AAAAAID/oEA=\",\"dtype\":\"float64\",\"order\":\"little\",\"shape\":[1]},\"count\":{\"__ndarray__\":\"AAAAAABgckA=\",\"dtype\":\"float64\",\"order\":\"little\",\"shape\":[1]},\"max\":{\"__ndarray__\":\"AAAAAAB+y0A=\",\"dtype\":\"float64\",\"order\":\"little\",\"shape\":[1]},\"mean\":{\"__ndarray__\":\"FK5H4XrSmkA=\",\"dtype\":\"float64\",\"order\":\"little\",\"shape\":[1]},\"min\":{\"__ndarray__\":\"AAAAAAAAAAA=\",\"dtype\":\"float64\",\"order\":\"little\",\"shape\":[1]},\"std\":{\"__ndarray__\":\"7FG4HoUFm0A=\",\"dtype\":\"float64\",\"order\":\"little\",\"shape\":[1]}},\"selected\":{\"id\":\"1172\"},\"selection_policy\":{\"id\":\"1232\"}},\"id\":\"1171\",\"type\":\"ColumnDataSource\"},{\"attributes\":{\"style\":{\"white-space\":\"nowrap\"},\"text\":\"<span style=\\\"color:black;font-family:Arial;font-style:bold;font-weight:bold;font-size:12pt\\\">col: total_post</span>\",\"width\":450},\"id\":\"1238\",\"type\":\"Div\"},{\"attributes\":{\"bottom\":{\"value\":0},\"fill_color\":{\"value\":\"#00fff0\"},\"hatch_color\":{\"value\":\"#00fff0\"},\"left\":{\"field\":\"left\"},\"right\":{\"field\":\"right\"},\"top\":{\"field\":\"top\"}},\"id\":\"1049\",\"type\":\"Quad\"},{\"attributes\":{\"format\":\"0,0.0[00000]\"},\"id\":\"1395\",\"type\":\"NumberFormatter\"},{\"attributes\":{\"editor\":{\"id\":\"1396\"},\"field\":\"A_75_percent\",\"formatter\":{\"id\":\"1395\"},\"title\":\"75%\"},\"id\":\"1397\",\"type\":\"TableColumn\"},{\"attributes\":{\"toolbar\":{\"id\":\"1235\"},\"toolbar_location\":\"above\"},\"id\":\"1236\",\"type\":\"ToolbarBox\"},{\"attributes\":{},\"id\":\"1015\",\"type\":\"LinearScale\"}],\"root_ids\":[\"1002\",\"1480\"]},\"title\":\"Bokeh Application\",\"version\":\"2.4.3\"}};\n",
       "    var render_items = [{\"docid\":\"da11c735-b1a1-4425-bfe2-fb26c19c40fd\",\"root_ids\":[\"1002\"],\"roots\":{\"1002\":\"e7478bfb-22df-42c6-9f24-ea6cf5f42b9d\"}}];\n",
       "    root.Bokeh.embed.embed_items_notebook(docs_json, render_items);\n",
       "  }\n",
       "  if (root.Bokeh !== undefined && root.Bokeh.Panel !== undefined) {\n",
       "    embed_document(root);\n",
       "  } else {\n",
       "    var attempts = 0;\n",
       "    var timer = setInterval(function(root) {\n",
       "      if (root.Bokeh !== undefined && root.Bokeh.Panel !== undefined) {\n",
       "        clearInterval(timer);\n",
       "        embed_document(root);\n",
       "      } else if (document.readyState == \"complete\") {\n",
       "        attempts++;\n",
       "        if (attempts > 200) {\n",
       "          clearInterval(timer);\n",
       "          console.log(\"Bokeh: ERROR: Unable to run BokehJS code because BokehJS library is missing\");\n",
       "        }\n",
       "      }\n",
       "    }, 25, root)\n",
       "  }\n",
       "})(window);</script>"
      ],
      "text/plain": [
       ":DynamicMap   [col]\n",
       "   :Layout\n",
       "      .Overlay.I :Overlay\n",
       "         .Histogram.I    :Histogram   [x]   (Frequency)\n",
       "         .Distribution.I :Distribution   [total_post]   (Density)\n",
       "      .Table.I   :Table   [count,mean,std,min,25%,50%,75%,max]"
      ]
     },
     "execution_count": 81,
     "metadata": {
      "application/vnd.holoviews_exec.v0+json": {
       "id": "1002"
      }
     },
     "output_type": "execute_result"
    }
   ],
   "source": [
    "out = eda.get_density_plots(X_train, cols=X_train.columns.tolist())\n",
    "out"
   ]
  },
  {
   "cell_type": "code",
   "execution_count": 86,
   "id": "de6ff87c",
   "metadata": {},
   "outputs": [],
   "source": [
    "# save the plots are html\n",
    "reports.create_report({'univariate': out}, name='feature_analysis_univariate')"
   ]
  },
  {
   "cell_type": "code",
   "execution_count": 84,
   "id": "3a168074",
   "metadata": {},
   "outputs": [],
   "source": [
    "reports.feature_analysis(X_train,'./feature_analysis_report.html')"
   ]
  },
  {
   "cell_type": "markdown",
   "id": "6d5ac59d",
   "metadata": {},
   "source": [
    "### 3.2.2 Bivariate - mutual interactions"
   ]
  },
  {
   "cell_type": "code",
   "execution_count": 88,
   "id": "a2592ead",
   "metadata": {},
   "outputs": [
    {
     "data": {
      "text/html": [
       "<div>\n",
       "<style scoped>\n",
       "    .dataframe tbody tr th:only-of-type {\n",
       "        vertical-align: middle;\n",
       "    }\n",
       "\n",
       "    .dataframe tbody tr th {\n",
       "        vertical-align: top;\n",
       "    }\n",
       "\n",
       "    .dataframe thead th {\n",
       "        text-align: right;\n",
       "    }\n",
       "</style>\n",
       "<table border=\"1\" class=\"dataframe\">\n",
       "  <thead>\n",
       "    <tr style=\"text-align: right;\">\n",
       "      <th></th>\n",
       "      <th>Variable 1</th>\n",
       "      <th>Variable 2</th>\n",
       "      <th>Corr Coef</th>\n",
       "      <th>Abs Corr Coef</th>\n",
       "    </tr>\n",
       "  </thead>\n",
       "  <tbody>\n",
       "    <tr>\n",
       "      <th>0</th>\n",
       "      <td>google_searchVolume</td>\n",
       "      <td>total_searchVolume</td>\n",
       "      <td>0.980857</td>\n",
       "      <td>0.980857</td>\n",
       "    </tr>\n",
       "    <tr>\n",
       "      <th>1</th>\n",
       "      <td>month</td>\n",
       "      <td>quarter</td>\n",
       "      <td>0.969128</td>\n",
       "      <td>0.969128</td>\n",
       "    </tr>\n",
       "    <tr>\n",
       "      <th>2</th>\n",
       "      <td>client_unit_price</td>\n",
       "      <td>salmon</td>\n",
       "      <td>0.961042</td>\n",
       "      <td>0.961042</td>\n",
       "    </tr>\n",
       "    <tr>\n",
       "      <th>3</th>\n",
       "      <td>amazon_searchVolume</td>\n",
       "      <td>walmart_searchVolume</td>\n",
       "      <td>0.932282</td>\n",
       "      <td>0.932282</td>\n",
       "    </tr>\n",
       "    <tr>\n",
       "      <th>4</th>\n",
       "      <td>amazon_searchVolume</td>\n",
       "      <td>chewy_searchVolume</td>\n",
       "      <td>0.929808</td>\n",
       "      <td>0.929808</td>\n",
       "    </tr>\n",
       "    <tr>\n",
       "      <th>5</th>\n",
       "      <td>chewy_searchVolume</td>\n",
       "      <td>walmart_searchVolume</td>\n",
       "      <td>0.910006</td>\n",
       "      <td>0.910006</td>\n",
       "    </tr>\n",
       "    <tr>\n",
       "      <th>6</th>\n",
       "      <td>competitor_unit_price</td>\n",
       "      <td>salmon</td>\n",
       "      <td>-0.808477</td>\n",
       "      <td>0.808477</td>\n",
       "    </tr>\n",
       "    <tr>\n",
       "      <th>7</th>\n",
       "      <td>client_unit_price</td>\n",
       "      <td>google_searchVolume</td>\n",
       "      <td>-0.753799</td>\n",
       "      <td>0.753799</td>\n",
       "    </tr>\n",
       "    <tr>\n",
       "      <th>8</th>\n",
       "      <td>client_unit_price</td>\n",
       "      <td>total_searchVolume</td>\n",
       "      <td>-0.738314</td>\n",
       "      <td>0.738314</td>\n",
       "    </tr>\n",
       "    <tr>\n",
       "      <th>9</th>\n",
       "      <td>google_searchVolume</td>\n",
       "      <td>salmon</td>\n",
       "      <td>-0.736755</td>\n",
       "      <td>0.736755</td>\n",
       "    </tr>\n",
       "    <tr>\n",
       "      <th>10</th>\n",
       "      <td>salmon</td>\n",
       "      <td>total_searchVolume</td>\n",
       "      <td>-0.728182</td>\n",
       "      <td>0.728182</td>\n",
       "    </tr>\n",
       "    <tr>\n",
       "      <th>11</th>\n",
       "      <td>client_unit_price</td>\n",
       "      <td>competitor_unit_price</td>\n",
       "      <td>-0.724347</td>\n",
       "      <td>0.724347</td>\n",
       "    </tr>\n",
       "    <tr>\n",
       "      <th>12</th>\n",
       "      <td>chewy_searchVolume</td>\n",
       "      <td>total_searchVolume</td>\n",
       "      <td>0.715061</td>\n",
       "      <td>0.715061</td>\n",
       "    </tr>\n",
       "    <tr>\n",
       "      <th>13</th>\n",
       "      <td>amazon_searchVolume</td>\n",
       "      <td>total_searchVolume</td>\n",
       "      <td>0.693957</td>\n",
       "      <td>0.693957</td>\n",
       "    </tr>\n",
       "    <tr>\n",
       "      <th>14</th>\n",
       "      <td>total_searchVolume</td>\n",
       "      <td>walmart_searchVolume</td>\n",
       "      <td>0.682421</td>\n",
       "      <td>0.682421</td>\n",
       "    </tr>\n",
       "    <tr>\n",
       "      <th>15</th>\n",
       "      <td>competitor_unit_price</td>\n",
       "      <td>no additives/preservatives</td>\n",
       "      <td>0.637393</td>\n",
       "      <td>0.637393</td>\n",
       "    </tr>\n",
       "  </tbody>\n",
       "</table>\n",
       "</div>"
      ],
      "text/plain": [
       "               Variable 1                  Variable 2  Corr Coef  \\\n",
       "0     google_searchVolume          total_searchVolume   0.980857   \n",
       "1                   month                     quarter   0.969128   \n",
       "2       client_unit_price                      salmon   0.961042   \n",
       "3     amazon_searchVolume        walmart_searchVolume   0.932282   \n",
       "4     amazon_searchVolume          chewy_searchVolume   0.929808   \n",
       "5      chewy_searchVolume        walmart_searchVolume   0.910006   \n",
       "6   competitor_unit_price                      salmon  -0.808477   \n",
       "7       client_unit_price         google_searchVolume  -0.753799   \n",
       "8       client_unit_price          total_searchVolume  -0.738314   \n",
       "9     google_searchVolume                      salmon  -0.736755   \n",
       "10                 salmon          total_searchVolume  -0.728182   \n",
       "11      client_unit_price       competitor_unit_price  -0.724347   \n",
       "12     chewy_searchVolume          total_searchVolume   0.715061   \n",
       "13    amazon_searchVolume          total_searchVolume   0.693957   \n",
       "14     total_searchVolume        walmart_searchVolume   0.682421   \n",
       "15  competitor_unit_price  no additives/preservatives   0.637393   \n",
       "\n",
       "    Abs Corr Coef  \n",
       "0        0.980857  \n",
       "1        0.969128  \n",
       "2        0.961042  \n",
       "3        0.932282  \n",
       "4        0.929808  \n",
       "5        0.910006  \n",
       "6        0.808477  \n",
       "7        0.753799  \n",
       "8        0.738314  \n",
       "9        0.736755  \n",
       "10       0.728182  \n",
       "11       0.724347  \n",
       "12       0.715061  \n",
       "13       0.693957  \n",
       "14       0.682421  \n",
       "15       0.637393  "
      ]
     },
     "execution_count": 88,
     "metadata": {},
     "output_type": "execute_result"
    }
   ],
   "source": [
    "out = eda.get_correlation_table(X_train)\n",
    "out[out[\"Abs Corr Coef\"] > 0.6]"
   ]
  },
  {
   "cell_type": "code",
   "execution_count": 89,
   "id": "e7a4cda6",
   "metadata": {},
   "outputs": [],
   "source": [
    "# Check for multicollinearity\n",
    "# We will remove variables that have VIF greater than 10 except key features like client_unit_price, competitor_unit_price\n",
    "# and total_post\n",
    "# Dropping total search volume as its highly correlated with google search volume\n",
    "# Dropping chewy search volume as its highly correlated with amazon search volume\n",
    "# We will be going forward with the rest of the features as they represent key \n",
    "# features to account for after the modelling stage(despite the high correlations).\n",
    "columns_to_drop = ['chewy_searchVolume', 'total_searchVolume']\n",
    "X_train.drop(columns=columns_to_drop, inplace=True)\n",
    "X_test.drop(columns=columns_to_drop, inplace=True)"
   ]
  },
  {
   "cell_type": "code",
   "execution_count": 90,
   "id": "a858517a",
   "metadata": {},
   "outputs": [
    {
     "data": {
      "text/html": [
       "<div>\n",
       "<style scoped>\n",
       "    .dataframe tbody tr th:only-of-type {\n",
       "        vertical-align: middle;\n",
       "    }\n",
       "\n",
       "    .dataframe tbody tr th {\n",
       "        vertical-align: top;\n",
       "    }\n",
       "\n",
       "    .dataframe thead th {\n",
       "        text-align: right;\n",
       "    }\n",
       "</style>\n",
       "<table border=\"1\" class=\"dataframe\">\n",
       "  <thead>\n",
       "    <tr style=\"text-align: right;\">\n",
       "      <th></th>\n",
       "      <th>Variable 1</th>\n",
       "      <th>Variable 2</th>\n",
       "      <th>Corr Coef</th>\n",
       "      <th>Abs Corr Coef</th>\n",
       "    </tr>\n",
       "  </thead>\n",
       "  <tbody>\n",
       "    <tr>\n",
       "      <th>0</th>\n",
       "      <td>month</td>\n",
       "      <td>quarter</td>\n",
       "      <td>0.969128</td>\n",
       "      <td>0.969128</td>\n",
       "    </tr>\n",
       "    <tr>\n",
       "      <th>1</th>\n",
       "      <td>client_unit_price</td>\n",
       "      <td>salmon</td>\n",
       "      <td>0.961042</td>\n",
       "      <td>0.961042</td>\n",
       "    </tr>\n",
       "    <tr>\n",
       "      <th>2</th>\n",
       "      <td>amazon_searchVolume</td>\n",
       "      <td>walmart_searchVolume</td>\n",
       "      <td>0.932282</td>\n",
       "      <td>0.932282</td>\n",
       "    </tr>\n",
       "    <tr>\n",
       "      <th>3</th>\n",
       "      <td>competitor_unit_price</td>\n",
       "      <td>salmon</td>\n",
       "      <td>-0.808477</td>\n",
       "      <td>0.808477</td>\n",
       "    </tr>\n",
       "    <tr>\n",
       "      <th>4</th>\n",
       "      <td>client_unit_price</td>\n",
       "      <td>google_searchVolume</td>\n",
       "      <td>-0.753799</td>\n",
       "      <td>0.753799</td>\n",
       "    </tr>\n",
       "    <tr>\n",
       "      <th>5</th>\n",
       "      <td>google_searchVolume</td>\n",
       "      <td>salmon</td>\n",
       "      <td>-0.736755</td>\n",
       "      <td>0.736755</td>\n",
       "    </tr>\n",
       "    <tr>\n",
       "      <th>6</th>\n",
       "      <td>client_unit_price</td>\n",
       "      <td>competitor_unit_price</td>\n",
       "      <td>-0.724347</td>\n",
       "      <td>0.724347</td>\n",
       "    </tr>\n",
       "    <tr>\n",
       "      <th>7</th>\n",
       "      <td>competitor_unit_price</td>\n",
       "      <td>no additives/preservatives</td>\n",
       "      <td>0.637393</td>\n",
       "      <td>0.637393</td>\n",
       "    </tr>\n",
       "  </tbody>\n",
       "</table>\n",
       "</div>"
      ],
      "text/plain": [
       "              Variable 1                  Variable 2  Corr Coef  Abs Corr Coef\n",
       "0                  month                     quarter   0.969128       0.969128\n",
       "1      client_unit_price                      salmon   0.961042       0.961042\n",
       "2    amazon_searchVolume        walmart_searchVolume   0.932282       0.932282\n",
       "3  competitor_unit_price                      salmon  -0.808477       0.808477\n",
       "4      client_unit_price         google_searchVolume  -0.753799       0.753799\n",
       "5    google_searchVolume                      salmon  -0.736755       0.736755\n",
       "6      client_unit_price       competitor_unit_price  -0.724347       0.724347\n",
       "7  competitor_unit_price  no additives/preservatives   0.637393       0.637393"
      ]
     },
     "execution_count": 90,
     "metadata": {},
     "output_type": "execute_result"
    }
   ],
   "source": [
    "out = eda.get_correlation_table(X_train)\n",
    "out[out[\"Abs Corr Coef\"] > 0.6]"
   ]
  },
  {
   "cell_type": "code",
   "execution_count": 91,
   "id": "dd38417e",
   "metadata": {
    "scrolled": true
   },
   "outputs": [
    {
     "data": {},
     "metadata": {},
     "output_type": "display_data"
    },
    {
     "data": {
      "application/vnd.holoviews_exec.v0+json": "",
      "text/html": [
       "<div id='22124'>\n",
       "  <div class=\"bk-root\" id=\"dce1085c-f0f6-4cbc-9f20-f796636e1ffc\" data-root-id=\"22124\"></div>\n",
       "</div>\n",
       "<script type=\"application/javascript\">(function(root) {\n",
       "  function embed_document(root) {\n",
       "    var docs_json = {\"5aa99fd4-bd5a-4229-a328-f95f7f7b7028\":{\"defs\":[{\"extends\":null,\"module\":null,\"name\":\"ReactiveHTML1\",\"overrides\":[],\"properties\":[]},{\"extends\":null,\"module\":null,\"name\":\"FlexBox1\",\"overrides\":[],\"properties\":[{\"default\":\"flex-start\",\"kind\":null,\"name\":\"align_content\"},{\"default\":\"flex-start\",\"kind\":null,\"name\":\"align_items\"},{\"default\":\"row\",\"kind\":null,\"name\":\"flex_direction\"},{\"default\":\"wrap\",\"kind\":null,\"name\":\"flex_wrap\"},{\"default\":\"flex-start\",\"kind\":null,\"name\":\"justify_content\"}]},{\"extends\":null,\"module\":null,\"name\":\"GridStack1\",\"overrides\":[],\"properties\":[{\"default\":\"warn\",\"kind\":null,\"name\":\"mode\"},{\"default\":null,\"kind\":null,\"name\":\"ncols\"},{\"default\":null,\"kind\":null,\"name\":\"nrows\"},{\"default\":true,\"kind\":null,\"name\":\"allow_resize\"},{\"default\":true,\"kind\":null,\"name\":\"allow_drag\"},{\"default\":[],\"kind\":null,\"name\":\"state\"}]},{\"extends\":null,\"module\":null,\"name\":\"click1\",\"overrides\":[],\"properties\":[{\"default\":\"\",\"kind\":null,\"name\":\"terminal_output\"},{\"default\":\"\",\"kind\":null,\"name\":\"debug_name\"},{\"default\":0,\"kind\":null,\"name\":\"clears\"}]},{\"extends\":null,\"module\":null,\"name\":\"NotificationAreaBase1\",\"overrides\":[],\"properties\":[{\"default\":\"bottom-right\",\"kind\":null,\"name\":\"position\"},{\"default\":0,\"kind\":null,\"name\":\"_clear\"}]},{\"extends\":null,\"module\":null,\"name\":\"NotificationArea1\",\"overrides\":[],\"properties\":[{\"default\":[],\"kind\":null,\"name\":\"notifications\"},{\"default\":\"bottom-right\",\"kind\":null,\"name\":\"position\"},{\"default\":0,\"kind\":null,\"name\":\"_clear\"},{\"default\":[{\"background\":\"#ffc107\",\"icon\":{\"className\":\"fas fa-exclamation-triangle\",\"color\":\"white\",\"tagName\":\"i\"},\"type\":\"warning\"},{\"background\":\"#007bff\",\"icon\":{\"className\":\"fas fa-info-circle\",\"color\":\"white\",\"tagName\":\"i\"},\"type\":\"info\"}],\"kind\":null,\"name\":\"types\"}]},{\"extends\":null,\"module\":null,\"name\":\"Notification\",\"overrides\":[],\"properties\":[{\"default\":null,\"kind\":null,\"name\":\"background\"},{\"default\":3000,\"kind\":null,\"name\":\"duration\"},{\"default\":null,\"kind\":null,\"name\":\"icon\"},{\"default\":\"\",\"kind\":null,\"name\":\"message\"},{\"default\":null,\"kind\":null,\"name\":\"notification_type\"},{\"default\":false,\"kind\":null,\"name\":\"_destroyed\"}]},{\"extends\":null,\"module\":null,\"name\":\"TemplateActions1\",\"overrides\":[],\"properties\":[{\"default\":0,\"kind\":null,\"name\":\"open_modal\"},{\"default\":0,\"kind\":null,\"name\":\"close_modal\"}]},{\"extends\":null,\"module\":null,\"name\":\"MaterialTemplateActions1\",\"overrides\":[],\"properties\":[{\"default\":0,\"kind\":null,\"name\":\"open_modal\"},{\"default\":0,\"kind\":null,\"name\":\"close_modal\"}]}],\"roots\":{\"references\":[{\"attributes\":{\"axis\":{\"id\":\"22141\"},\"coordinates\":null,\"dimension\":1,\"grid_line_color\":null,\"group\":null,\"ticker\":null},\"id\":\"22144\",\"type\":\"Grid\"},{\"attributes\":{\"label\":{\"field\":\"no_additives_over_preservatives\"},\"renderers\":[{\"id\":\"22165\"}]},\"id\":\"22178\",\"type\":\"LegendItem\"},{\"attributes\":{\"coordinates\":null,\"group\":null,\"text\":\"Mutual Information: 0.048\",\"text_color\":\"black\",\"text_font_size\":\"12pt\"},\"id\":\"22130\",\"type\":\"Title\"},{\"attributes\":{},\"id\":\"22170\",\"type\":\"AllLabels\"},{\"attributes\":{\"axis_label\":\"salmon\",\"coordinates\":null,\"formatter\":{\"id\":\"22172\"},\"group\":null,\"major_label_orientation\":0.7853981633974483,\"major_label_policy\":{\"id\":\"22173\"},\"ticker\":{\"id\":\"22139\"}},\"id\":\"22138\",\"type\":\"CategoricalAxis\"},{\"attributes\":{},\"id\":\"22169\",\"type\":\"BasicTickFormatter\"},{\"attributes\":{\"axis\":{\"id\":\"22138\"},\"coordinates\":null,\"grid_line_color\":null,\"group\":null,\"ticker\":null},\"id\":\"22140\",\"type\":\"Grid\"},{\"attributes\":{\"coordinates\":null,\"group\":null,\"items\":[{\"id\":\"22178\"}],\"location\":[0,0]},\"id\":\"22177\",\"type\":\"Legend\"},{\"attributes\":{\"margin\":[5,5,5,5],\"name\":\"HSpacer46063\",\"sizing_mode\":\"stretch_width\"},\"id\":\"22196\",\"type\":\"Spacer\"},{\"attributes\":{},\"id\":\"22174\",\"type\":\"UnionRenderers\"},{\"attributes\":{},\"id\":\"22134\",\"type\":\"CategoricalScale\"},{\"attributes\":{},\"id\":\"22172\",\"type\":\"CategoricalTickFormatter\"},{\"attributes\":{\"axis_label\":\"Number of Observations\",\"coordinates\":null,\"formatter\":{\"id\":\"22169\"},\"group\":null,\"major_label_policy\":{\"id\":\"22170\"},\"ticker\":{\"id\":\"22142\"}},\"id\":\"22141\",\"type\":\"LinearAxis\"},{\"attributes\":{\"source\":{\"id\":\"22159\"}},\"id\":\"22166\",\"type\":\"CDSView\"},{\"attributes\":{\"bottom\":{\"field\":\"bottom\"},\"fill_alpha\":{\"value\":0.2},\"fill_color\":{\"field\":\"no_additives_over_preservatives\",\"transform\":{\"id\":\"22158\"}},\"hatch_alpha\":{\"value\":0.2},\"hatch_color\":{\"field\":\"no_additives_over_preservatives\",\"transform\":{\"id\":\"22158\"}},\"line_alpha\":{\"value\":0.2},\"top\":{\"field\":\"top\"},\"width\":{\"value\":0.8},\"x\":{\"field\":\"salmon\"}},\"id\":\"22164\",\"type\":\"VBar\"},{\"attributes\":{\"bottom\":{\"field\":\"bottom\"},\"fill_alpha\":{\"value\":0.1},\"fill_color\":{\"field\":\"no_additives_over_preservatives\",\"transform\":{\"id\":\"22158\"}},\"hatch_alpha\":{\"value\":0.1},\"hatch_color\":{\"field\":\"no_additives_over_preservatives\",\"transform\":{\"id\":\"22158\"}},\"line_alpha\":{\"value\":0.1},\"top\":{\"field\":\"top\"},\"width\":{\"value\":0.8},\"x\":{\"field\":\"salmon\"}},\"id\":\"22163\",\"type\":\"VBar\"},{\"attributes\":{\"factors\":[\"0\",\"1\"],\"palette\":[\"#30a2da\",\"#fc4f30\"]},\"id\":\"22158\",\"type\":\"CategoricalColorMapper\"},{\"attributes\":{},\"id\":\"22142\",\"type\":\"BasicTicker\"},{\"attributes\":{\"bottom_units\":\"screen\",\"coordinates\":null,\"fill_alpha\":0.5,\"fill_color\":\"lightgrey\",\"group\":null,\"left_units\":\"screen\",\"level\":\"overlay\",\"line_alpha\":1.0,\"line_color\":\"black\",\"line_dash\":[4,4],\"line_width\":2,\"right_units\":\"screen\",\"syncable\":false,\"top_units\":\"screen\"},\"id\":\"22150\",\"type\":\"BoxAnnotation\"},{\"attributes\":{\"bottom\":{\"field\":\"bottom\"},\"fill_alpha\":{\"value\":1.0},\"fill_color\":{\"field\":\"no_additives_over_preservatives\",\"transform\":{\"id\":\"22158\"}},\"hatch_alpha\":{\"value\":1.0},\"hatch_color\":{\"field\":\"no_additives_over_preservatives\",\"transform\":{\"id\":\"22158\"}},\"hatch_scale\":{\"value\":12.0},\"hatch_weight\":{\"value\":1.0},\"line_alpha\":{\"value\":1.0},\"line_cap\":{\"value\":\"butt\"},\"line_color\":{\"value\":\"black\"},\"line_dash\":{\"value\":[]},\"line_dash_offset\":{\"value\":0},\"line_join\":{\"value\":\"bevel\"},\"line_width\":{\"value\":1},\"top\":{\"field\":\"top\"},\"width\":{\"value\":0.8},\"x\":{\"field\":\"salmon\"}},\"id\":\"22179\",\"type\":\"VBar\"},{\"attributes\":{},\"id\":\"22136\",\"type\":\"LinearScale\"},{\"attributes\":{\"bottom\":{\"field\":\"bottom\"},\"fill_color\":{\"field\":\"no_additives_over_preservatives\",\"transform\":{\"id\":\"22158\"}},\"hatch_color\":{\"field\":\"no_additives_over_preservatives\",\"transform\":{\"id\":\"22158\"}},\"top\":{\"field\":\"top\"},\"width\":{\"value\":0.8},\"x\":{\"field\":\"salmon\"}},\"id\":\"22162\",\"type\":\"VBar\"},{\"attributes\":{\"coordinates\":null,\"data_source\":{\"id\":\"22159\"},\"glyph\":{\"id\":\"22162\"},\"group\":null,\"hover_glyph\":null,\"muted_glyph\":{\"id\":\"22164\"},\"nonselection_glyph\":{\"id\":\"22163\"},\"selection_glyph\":{\"id\":\"22179\"},\"view\":{\"id\":\"22166\"}},\"id\":\"22165\",\"type\":\"GlyphRenderer\"},{\"attributes\":{\"end\":163.8,\"reset_end\":163.8,\"reset_start\":0.0,\"tags\":[[[\"count\",\"count\",null]]]},\"id\":\"22127\",\"type\":\"Range1d\"},{\"attributes\":{\"margin\":[5,5,5,5],\"name\":\"HSpacer46062\",\"sizing_mode\":\"stretch_width\"},\"id\":\"22125\",\"type\":\"Spacer\"},{\"attributes\":{},\"id\":\"22139\",\"type\":\"CategoricalTicker\"},{\"attributes\":{\"children\":[{\"id\":\"22125\"},{\"id\":\"22129\"},{\"id\":\"22196\"}],\"margin\":[0,0,0,0],\"name\":\"Row46058\",\"tags\":[\"embedded\"]},\"id\":\"22124\",\"type\":\"Row\"},{\"attributes\":{\"tools\":[{\"id\":\"22128\"},{\"id\":\"22145\"},{\"id\":\"22146\"},{\"id\":\"22147\"},{\"id\":\"22148\"},{\"id\":\"22149\"}]},\"id\":\"22151\",\"type\":\"Toolbar\"},{\"attributes\":{\"below\":[{\"id\":\"22138\"}],\"center\":[{\"id\":\"22140\"},{\"id\":\"22144\"},{\"id\":\"22177\"}],\"height\":300,\"left\":[{\"id\":\"22141\"}],\"margin\":[5,5,5,5],\"min_border_bottom\":10,\"min_border_left\":10,\"min_border_right\":10,\"min_border_top\":10,\"renderers\":[{\"id\":\"22165\"}],\"right\":[{\"id\":\"22177\"}],\"sizing_mode\":\"fixed\",\"title\":{\"id\":\"22130\"},\"toolbar\":{\"id\":\"22151\"},\"width\":700,\"x_range\":{\"id\":\"22126\"},\"x_scale\":{\"id\":\"22134\"},\"y_range\":{\"id\":\"22127\"},\"y_scale\":{\"id\":\"22136\"}},\"id\":\"22129\",\"subtype\":\"Figure\",\"type\":\"Plot\"},{\"attributes\":{},\"id\":\"22147\",\"type\":\"WheelZoomTool\"},{\"attributes\":{},\"id\":\"22173\",\"type\":\"AllLabels\"},{\"attributes\":{\"factors\":[\"0\",\"1\"],\"tags\":[[[\"salmon\",\"salmon\",null]]]},\"id\":\"22126\",\"type\":\"FactorRange\"},{\"attributes\":{},\"id\":\"22146\",\"type\":\"PanTool\"},{\"attributes\":{},\"id\":\"22149\",\"type\":\"ResetTool\"},{\"attributes\":{\"callback\":null,\"renderers\":[{\"id\":\"22165\"}],\"tags\":[\"hv_created\"],\"tooltips\":[[\"salmon\",\"@{salmon}\"],[\"no additives/preservatives\",\"@{no_additives_over_preservatives}\"],[\"count\",\"@{count}\"]]},\"id\":\"22128\",\"type\":\"HoverTool\"},{\"attributes\":{\"data\":{\"bottom\":{\"__ndarray__\":\"AAAAAAAAAAAAAAAAAAAAAAAAAAAAYGFA\",\"dtype\":\"float64\",\"order\":\"little\",\"shape\":[3]},\"count\":[139,133,22],\"no_additives_over_preservatives\":[\"0\",\"0\",\"1\"],\"salmon\":[\"0\",\"1\",\"0\"],\"top\":{\"__ndarray__\":\"AAAAAABgYUAAAAAAAKBgQAAAAAAAIGRA\",\"dtype\":\"float64\",\"order\":\"little\",\"shape\":[3]}},\"selected\":{\"id\":\"22160\"},\"selection_policy\":{\"id\":\"22174\"}},\"id\":\"22159\",\"type\":\"ColumnDataSource\"},{\"attributes\":{},\"id\":\"22145\",\"type\":\"SaveTool\"},{\"attributes\":{},\"id\":\"22160\",\"type\":\"Selection\"},{\"attributes\":{\"overlay\":{\"id\":\"22150\"}},\"id\":\"22148\",\"type\":\"BoxZoomTool\"}],\"root_ids\":[\"22124\"]},\"title\":\"Bokeh Application\",\"version\":\"2.4.3\"}};\n",
       "    var render_items = [{\"docid\":\"5aa99fd4-bd5a-4229-a328-f95f7f7b7028\",\"root_ids\":[\"22124\"],\"roots\":{\"22124\":\"dce1085c-f0f6-4cbc-9f20-f796636e1ffc\"}}];\n",
       "    root.Bokeh.embed.embed_items_notebook(docs_json, render_items);\n",
       "  }\n",
       "  if (root.Bokeh !== undefined && root.Bokeh.Panel !== undefined) {\n",
       "    embed_document(root);\n",
       "  } else {\n",
       "    var attempts = 0;\n",
       "    var timer = setInterval(function(root) {\n",
       "      if (root.Bokeh !== undefined && root.Bokeh.Panel !== undefined) {\n",
       "        clearInterval(timer);\n",
       "        embed_document(root);\n",
       "      } else if (document.readyState == \"complete\") {\n",
       "        attempts++;\n",
       "        if (attempts > 200) {\n",
       "          clearInterval(timer);\n",
       "          console.log(\"Bokeh: ERROR: Unable to run BokehJS code because BokehJS library is missing\");\n",
       "        }\n",
       "      }\n",
       "    }, 25, root)\n",
       "  }\n",
       "})(window);</script>"
      ],
      "text/plain": [
       ":Bars   [salmon,no additives/preservatives]   (count)"
      ]
     },
     "execution_count": 91,
     "metadata": {
      "application/vnd.holoviews_exec.v0+json": {
       "id": "22124"
      }
     },
     "output_type": "execute_result"
    }
   ],
   "source": [
    "out = eda.get_bivariate_plots(X_train, x_cols=['salmon'], y_cols=['no additives/preservatives'])\n",
    "out"
   ]
  },
  {
   "cell_type": "code",
   "execution_count": 96,
   "id": "d950a69d",
   "metadata": {},
   "outputs": [
    {
     "name": "stdout",
     "output_type": "stream",
     "text": [
      "CPU times: user 5.07 s, sys: 12.4 ms, total: 5.08 s\n",
      "Wall time: 5.06 s\n"
     ]
    }
   ],
   "source": [
    "%%time\n",
    "# create reports as needed\n",
    "cols = X_train.columns.to_list()\n",
    "all_plots = {}\n",
    "for ii, col1 in enumerate(cols): \n",
    "    for jj in range(ii+1, len(cols)):\n",
    "        col2 = cols[jj]\n",
    "        out = eda.get_bivariate_plots(X_train, x_cols=[col1], y_cols=[col2])\n",
    "        all_plots.update({f'{col2} vs {col1}': out})\n",
    "\n",
    "reports.create_report(all_plots, name='feature_analysis_bivariate')"
   ]
  },
  {
   "cell_type": "code",
   "execution_count": 97,
   "id": "cd4bb9d6",
   "metadata": {},
   "outputs": [],
   "source": [
    "reports.feature_interactions(X_train,'./feature_interaction_report.html')"
   ]
  },
  {
   "cell_type": "markdown",
   "id": "a657a0b3",
   "metadata": {},
   "source": [
    "### 3.2.3 Key Drivers - Interaction with Target variable"
   ]
  },
  {
   "cell_type": "code",
   "execution_count": 102,
   "id": "608aa853",
   "metadata": {},
   "outputs": [
    {
     "data": {},
     "metadata": {},
     "output_type": "display_data"
    },
    {
     "data": {},
     "metadata": {},
     "output_type": "display_data"
    },
    {
     "data": {
      "application/vnd.holoviews_exec.v0+json": "",
      "text/html": [
       "<div id='45964'>\n",
       "  <div class=\"bk-root\" id=\"3bd1324e-0f24-4a24-9614-ef8e6d15dbc7\" data-root-id=\"45964\"></div>\n",
       "</div>\n",
       "<script type=\"application/javascript\">(function(root) {\n",
       "  function embed_document(root) {\n",
       "    var docs_json = {\"274c23c8-a829-4d1b-a643-fc6bd693c105\":{\"defs\":[{\"extends\":null,\"module\":null,\"name\":\"ReactiveHTML1\",\"overrides\":[],\"properties\":[]},{\"extends\":null,\"module\":null,\"name\":\"FlexBox1\",\"overrides\":[],\"properties\":[{\"default\":\"flex-start\",\"kind\":null,\"name\":\"align_content\"},{\"default\":\"flex-start\",\"kind\":null,\"name\":\"align_items\"},{\"default\":\"row\",\"kind\":null,\"name\":\"flex_direction\"},{\"default\":\"wrap\",\"kind\":null,\"name\":\"flex_wrap\"},{\"default\":\"flex-start\",\"kind\":null,\"name\":\"justify_content\"}]},{\"extends\":null,\"module\":null,\"name\":\"GridStack1\",\"overrides\":[],\"properties\":[{\"default\":\"warn\",\"kind\":null,\"name\":\"mode\"},{\"default\":null,\"kind\":null,\"name\":\"ncols\"},{\"default\":null,\"kind\":null,\"name\":\"nrows\"},{\"default\":true,\"kind\":null,\"name\":\"allow_resize\"},{\"default\":true,\"kind\":null,\"name\":\"allow_drag\"},{\"default\":[],\"kind\":null,\"name\":\"state\"}]},{\"extends\":null,\"module\":null,\"name\":\"click1\",\"overrides\":[],\"properties\":[{\"default\":\"\",\"kind\":null,\"name\":\"terminal_output\"},{\"default\":\"\",\"kind\":null,\"name\":\"debug_name\"},{\"default\":0,\"kind\":null,\"name\":\"clears\"}]},{\"extends\":null,\"module\":null,\"name\":\"NotificationAreaBase1\",\"overrides\":[],\"properties\":[{\"default\":\"bottom-right\",\"kind\":null,\"name\":\"position\"},{\"default\":0,\"kind\":null,\"name\":\"_clear\"}]},{\"extends\":null,\"module\":null,\"name\":\"NotificationArea1\",\"overrides\":[],\"properties\":[{\"default\":[],\"kind\":null,\"name\":\"notifications\"},{\"default\":\"bottom-right\",\"kind\":null,\"name\":\"position\"},{\"default\":0,\"kind\":null,\"name\":\"_clear\"},{\"default\":[{\"background\":\"#ffc107\",\"icon\":{\"className\":\"fas fa-exclamation-triangle\",\"color\":\"white\",\"tagName\":\"i\"},\"type\":\"warning\"},{\"background\":\"#007bff\",\"icon\":{\"className\":\"fas fa-info-circle\",\"color\":\"white\",\"tagName\":\"i\"},\"type\":\"info\"}],\"kind\":null,\"name\":\"types\"}]},{\"extends\":null,\"module\":null,\"name\":\"Notification\",\"overrides\":[],\"properties\":[{\"default\":null,\"kind\":null,\"name\":\"background\"},{\"default\":3000,\"kind\":null,\"name\":\"duration\"},{\"default\":null,\"kind\":null,\"name\":\"icon\"},{\"default\":\"\",\"kind\":null,\"name\":\"message\"},{\"default\":null,\"kind\":null,\"name\":\"notification_type\"},{\"default\":false,\"kind\":null,\"name\":\"_destroyed\"}]},{\"extends\":null,\"module\":null,\"name\":\"TemplateActions1\",\"overrides\":[],\"properties\":[{\"default\":0,\"kind\":null,\"name\":\"open_modal\"},{\"default\":0,\"kind\":null,\"name\":\"close_modal\"}]},{\"extends\":null,\"module\":null,\"name\":\"MaterialTemplateActions1\",\"overrides\":[],\"properties\":[{\"default\":0,\"kind\":null,\"name\":\"open_modal\"},{\"default\":0,\"kind\":null,\"name\":\"close_modal\"}]}],\"roots\":{\"references\":[{\"attributes\":{\"fill_alpha\":{\"value\":0.1},\"fill_color\":{\"value\":\"#30a2da\"},\"hatch_alpha\":{\"value\":0.1},\"hatch_color\":{\"value\":\"#30a2da\"},\"height\":{\"value\":0.8},\"line_alpha\":{\"value\":0.1},\"right\":{\"field\":\"Pearson_correlation_with_Target\"},\"y\":{\"field\":\"index\"}},\"id\":\"46001\",\"type\":\"HBar\"},{\"attributes\":{\"data\":{\"Pearson_correlation_with_Target\":{\"__ndarray__\":\"S62Eu+TZ6b8GBhVEYYzdv534dESgKN2/PUjRzX8Usb/poGP2CjKmv84SUcOWzo6/hn+HyEjawz/BG3+YnWXGP9QrQjGfltA/cIEYn6sX6D/YoQ4v18fpPw==\",\"dtype\":\"float64\",\"order\":\"little\",\"shape\":[11]},\"index\":[\"competitor_unit_price\",\"google_searchVolume\",\"no additives/preservatives\",\"walmart_searchVolume\",\"amazon_searchVolume\",\"total_post\",\"quarter\",\"month\",\"year\",\"client_unit_price\",\"salmon\"]},\"selected\":{\"id\":\"45998\"},\"selection_policy\":{\"id\":\"46019\"}},\"id\":\"45997\",\"type\":\"ColumnDataSource\"},{\"attributes\":{\"axis_label\":\"\",\"coordinates\":null,\"formatter\":{\"id\":\"46010\"},\"group\":null,\"major_label_policy\":{\"id\":\"46011\"},\"ticker\":{\"id\":\"45982\"}},\"id\":\"45981\",\"type\":\"CategoricalAxis\"},{\"attributes\":{\"fill_alpha\":{\"value\":0.2},\"fill_color\":{\"value\":\"#30a2da\"},\"hatch_alpha\":{\"value\":0.2},\"hatch_color\":{\"value\":\"#30a2da\"},\"height\":{\"value\":0.8},\"line_alpha\":{\"value\":0.2},\"right\":{\"field\":\"Pearson_correlation_with_Target\"},\"y\":{\"field\":\"index\"}},\"id\":\"46002\",\"type\":\"HBar\"},{\"attributes\":{\"axis_label\":\"Pearson_correlation_with_Target\",\"coordinates\":null,\"formatter\":{\"id\":\"46007\"},\"group\":null,\"major_label_policy\":{\"id\":\"46008\"},\"ticker\":{\"id\":\"45978\"}},\"id\":\"45977\",\"type\":\"LinearAxis\"},{\"attributes\":{},\"id\":\"46019\",\"type\":\"UnionRenderers\"},{\"attributes\":{},\"id\":\"45998\",\"type\":\"Selection\"},{\"attributes\":{},\"id\":\"45986\",\"type\":\"WheelZoomTool\"},{\"attributes\":{\"axis\":{\"id\":\"45981\"},\"coordinates\":null,\"dimension\":1,\"grid_line_color\":null,\"group\":null,\"ticker\":null},\"id\":\"45983\",\"type\":\"Grid\"},{\"attributes\":{},\"id\":\"46011\",\"type\":\"AllLabels\"},{\"attributes\":{\"overlay\":{\"id\":\"45989\"}},\"id\":\"45987\",\"type\":\"BoxZoomTool\"},{\"attributes\":{},\"id\":\"45973\",\"type\":\"LinearScale\"},{\"attributes\":{\"source\":{\"id\":\"45997\"}},\"id\":\"46004\",\"type\":\"CDSView\"},{\"attributes\":{\"below\":[{\"id\":\"45977\"}],\"center\":[{\"id\":\"45980\"},{\"id\":\"45983\"}],\"height\":300,\"left\":[{\"id\":\"45981\"}],\"margin\":[5,5,5,5],\"min_border_bottom\":10,\"min_border_left\":10,\"min_border_right\":10,\"min_border_top\":10,\"renderers\":[{\"id\":\"46003\"}],\"sizing_mode\":\"fixed\",\"title\":{\"id\":\"45969\"},\"toolbar\":{\"id\":\"45990\"},\"width\":700,\"x_range\":{\"id\":\"45965\"},\"x_scale\":{\"id\":\"45973\"},\"y_range\":{\"id\":\"45966\"},\"y_scale\":{\"id\":\"45975\"}},\"id\":\"45968\",\"subtype\":\"Figure\",\"type\":\"Plot\"},{\"attributes\":{\"child\":{\"id\":\"45968\"},\"name\":\"feature_correlation\",\"title\":\"feature_correlation\"},\"id\":\"46022\",\"type\":\"Panel\"},{\"attributes\":{\"callback\":null,\"renderers\":[{\"id\":\"46003\"}],\"tags\":[\"hv_created\"],\"tooltips\":[[\"index\",\"@{index}\"],[\"Pearson_correlation_with_Target\",\"@{Pearson_correlation_with_Target}\"]]},\"id\":\"45967\",\"type\":\"HoverTool\"},{\"attributes\":{\"margin\":[0,0,0,0],\"tabs\":[{\"id\":\"46022\"}]},\"id\":\"45964\",\"type\":\"panel.models.tabs.Tabs\"},{\"attributes\":{\"client_comm_id\":\"b49d10d58d6b4aeb80c6d80817032ada\",\"comm_id\":\"688e67ab103f400581ef535498451313\",\"plot_id\":\"45964\"},\"id\":\"46053\",\"type\":\"panel.models.comm_manager.CommManager\"},{\"attributes\":{\"coordinates\":null,\"data_source\":{\"id\":\"45997\"},\"glyph\":{\"id\":\"46000\"},\"group\":null,\"hover_glyph\":null,\"muted_glyph\":{\"id\":\"46002\"},\"nonselection_glyph\":{\"id\":\"46001\"},\"selection_glyph\":{\"id\":\"46005\"},\"view\":{\"id\":\"46004\"}},\"id\":\"46003\",\"type\":\"GlyphRenderer\"},{\"attributes\":{\"coordinates\":null,\"group\":null,\"text\":\"Feature Correlation with Target Function\",\"text_color\":\"black\",\"text_font_size\":\"12pt\"},\"id\":\"45969\",\"type\":\"Title\"},{\"attributes\":{\"bottom_units\":\"screen\",\"coordinates\":null,\"fill_alpha\":0.5,\"fill_color\":\"lightgrey\",\"group\":null,\"left_units\":\"screen\",\"level\":\"overlay\",\"line_alpha\":1.0,\"line_color\":\"black\",\"line_dash\":[4,4],\"line_width\":2,\"right_units\":\"screen\",\"syncable\":false,\"top_units\":\"screen\"},\"id\":\"45989\",\"type\":\"BoxAnnotation\"},{\"attributes\":{\"axis\":{\"id\":\"45977\"},\"coordinates\":null,\"grid_line_color\":null,\"group\":null,\"ticker\":null},\"id\":\"45980\",\"type\":\"Grid\"},{\"attributes\":{},\"id\":\"45985\",\"type\":\"PanTool\"},{\"attributes\":{\"factors\":[\"competitor_unit_price\",\"google_searchVolume\",\"no additives/preservatives\",\"walmart_searchVolume\",\"amazon_searchVolume\",\"total_post\",\"quarter\",\"month\",\"year\",\"client_unit_price\",\"salmon\"],\"tags\":[[[\"index\",\"index\",null]]]},\"id\":\"45966\",\"type\":\"FactorRange\"},{\"attributes\":{\"tools\":[{\"id\":\"45967\"},{\"id\":\"45984\"},{\"id\":\"45985\"},{\"id\":\"45986\"},{\"id\":\"45987\"},{\"id\":\"45988\"}]},\"id\":\"45990\",\"type\":\"Toolbar\"},{\"attributes\":{\"fill_alpha\":{\"value\":1.0},\"fill_color\":{\"value\":\"#30a2da\"},\"hatch_alpha\":{\"value\":1.0},\"hatch_color\":{\"value\":\"#30a2da\"},\"hatch_scale\":{\"value\":12.0},\"hatch_weight\":{\"value\":1.0},\"height\":{\"value\":0.8},\"left\":{\"value\":0},\"line_alpha\":{\"value\":1.0},\"line_cap\":{\"value\":\"butt\"},\"line_color\":{\"value\":\"black\"},\"line_dash\":{\"value\":[]},\"line_dash_offset\":{\"value\":0},\"line_join\":{\"value\":\"bevel\"},\"line_width\":{\"value\":1},\"right\":{\"field\":\"Pearson_correlation_with_Target\"},\"y\":{\"field\":\"index\"}},\"id\":\"46005\",\"type\":\"HBar\"},{\"attributes\":{\"end\":0.9669938924064854,\"reset_end\":0.9669938924064854,\"reset_start\":-0.9691976185437513,\"start\":-0.9691976185437513,\"tags\":[[[\"Pearson_correlation_with_Target\",\"Pearson_correlation_with_Target\",null]]]},\"id\":\"45965\",\"type\":\"Range1d\"},{\"attributes\":{},\"id\":\"46008\",\"type\":\"AllLabels\"},{\"attributes\":{},\"id\":\"45988\",\"type\":\"ResetTool\"},{\"attributes\":{},\"id\":\"45978\",\"type\":\"BasicTicker\"},{\"attributes\":{},\"id\":\"46007\",\"type\":\"BasicTickFormatter\"},{\"attributes\":{},\"id\":\"46010\",\"type\":\"CategoricalTickFormatter\"},{\"attributes\":{\"fill_color\":{\"value\":\"#30a2da\"},\"hatch_color\":{\"value\":\"#30a2da\"},\"height\":{\"value\":0.8},\"right\":{\"field\":\"Pearson_correlation_with_Target\"},\"y\":{\"field\":\"index\"}},\"id\":\"46000\",\"type\":\"HBar\"},{\"attributes\":{},\"id\":\"45982\",\"type\":\"CategoricalTicker\"},{\"attributes\":{},\"id\":\"45984\",\"type\":\"SaveTool\"},{\"attributes\":{},\"id\":\"45975\",\"type\":\"CategoricalScale\"}],\"root_ids\":[\"45964\",\"46053\"]},\"title\":\"Bokeh Application\",\"version\":\"2.4.3\"}};\n",
       "    var render_items = [{\"docid\":\"274c23c8-a829-4d1b-a643-fc6bd693c105\",\"root_ids\":[\"45964\"],\"roots\":{\"45964\":\"3bd1324e-0f24-4a24-9614-ef8e6d15dbc7\"}}];\n",
       "    root.Bokeh.embed.embed_items_notebook(docs_json, render_items);\n",
       "  }\n",
       "  if (root.Bokeh !== undefined && root.Bokeh.Panel !== undefined) {\n",
       "    embed_document(root);\n",
       "  } else {\n",
       "    var attempts = 0;\n",
       "    var timer = setInterval(function(root) {\n",
       "      if (root.Bokeh !== undefined && root.Bokeh.Panel !== undefined) {\n",
       "        clearInterval(timer);\n",
       "        embed_document(root);\n",
       "      } else if (document.readyState == \"complete\") {\n",
       "        attempts++;\n",
       "        if (attempts > 200) {\n",
       "          clearInterval(timer);\n",
       "          console.log(\"Bokeh: ERROR: Unable to run BokehJS code because BokehJS library is missing\");\n",
       "        }\n",
       "      }\n",
       "    }, 25, root)\n",
       "  }\n",
       "})(window);</script>"
      ],
      "text/plain": [
       "Tabs\n",
       "    [0] HoloViews(Bars, name='feature_correlation')"
      ]
     },
     "execution_count": 102,
     "metadata": {
      "application/vnd.holoviews_exec.v0+json": {
       "id": "45964"
      }
     },
     "output_type": "execute_result"
    }
   ],
   "source": [
    "out = eda.get_target_correlation(X_train, y_train, y_continuous=True)\n",
    "display_as_tabs([(k, v) for k,v in out.items()])"
   ]
  },
  {
   "cell_type": "code",
   "execution_count": 103,
   "id": "8842f303",
   "metadata": {},
   "outputs": [
    {
     "data": {},
     "metadata": {},
     "output_type": "display_data"
    },
    {
     "data": {},
     "metadata": {},
     "output_type": "display_data"
    },
    {
     "data": {
      "application/vnd.holoviews_exec.v0+json": "",
      "text/html": [
       "<div id='46104'>\n",
       "  <div class=\"bk-root\" id=\"1c5b61e8-c009-4875-972e-4edfcc1e59d9\" data-root-id=\"46104\"></div>\n",
       "</div>\n",
       "<script type=\"application/javascript\">(function(root) {\n",
       "  function embed_document(root) {\n",
       "    var docs_json = {\"f9ed95a8-6cfb-4d5e-943e-316c27c110bb\":{\"defs\":[{\"extends\":null,\"module\":null,\"name\":\"ReactiveHTML1\",\"overrides\":[],\"properties\":[]},{\"extends\":null,\"module\":null,\"name\":\"FlexBox1\",\"overrides\":[],\"properties\":[{\"default\":\"flex-start\",\"kind\":null,\"name\":\"align_content\"},{\"default\":\"flex-start\",\"kind\":null,\"name\":\"align_items\"},{\"default\":\"row\",\"kind\":null,\"name\":\"flex_direction\"},{\"default\":\"wrap\",\"kind\":null,\"name\":\"flex_wrap\"},{\"default\":\"flex-start\",\"kind\":null,\"name\":\"justify_content\"}]},{\"extends\":null,\"module\":null,\"name\":\"GridStack1\",\"overrides\":[],\"properties\":[{\"default\":\"warn\",\"kind\":null,\"name\":\"mode\"},{\"default\":null,\"kind\":null,\"name\":\"ncols\"},{\"default\":null,\"kind\":null,\"name\":\"nrows\"},{\"default\":true,\"kind\":null,\"name\":\"allow_resize\"},{\"default\":true,\"kind\":null,\"name\":\"allow_drag\"},{\"default\":[],\"kind\":null,\"name\":\"state\"}]},{\"extends\":null,\"module\":null,\"name\":\"click1\",\"overrides\":[],\"properties\":[{\"default\":\"\",\"kind\":null,\"name\":\"terminal_output\"},{\"default\":\"\",\"kind\":null,\"name\":\"debug_name\"},{\"default\":0,\"kind\":null,\"name\":\"clears\"}]},{\"extends\":null,\"module\":null,\"name\":\"NotificationAreaBase1\",\"overrides\":[],\"properties\":[{\"default\":\"bottom-right\",\"kind\":null,\"name\":\"position\"},{\"default\":0,\"kind\":null,\"name\":\"_clear\"}]},{\"extends\":null,\"module\":null,\"name\":\"NotificationArea1\",\"overrides\":[],\"properties\":[{\"default\":[],\"kind\":null,\"name\":\"notifications\"},{\"default\":\"bottom-right\",\"kind\":null,\"name\":\"position\"},{\"default\":0,\"kind\":null,\"name\":\"_clear\"},{\"default\":[{\"background\":\"#ffc107\",\"icon\":{\"className\":\"fas fa-exclamation-triangle\",\"color\":\"white\",\"tagName\":\"i\"},\"type\":\"warning\"},{\"background\":\"#007bff\",\"icon\":{\"className\":\"fas fa-info-circle\",\"color\":\"white\",\"tagName\":\"i\"},\"type\":\"info\"}],\"kind\":null,\"name\":\"types\"}]},{\"extends\":null,\"module\":null,\"name\":\"Notification\",\"overrides\":[],\"properties\":[{\"default\":null,\"kind\":null,\"name\":\"background\"},{\"default\":3000,\"kind\":null,\"name\":\"duration\"},{\"default\":null,\"kind\":null,\"name\":\"icon\"},{\"default\":\"\",\"kind\":null,\"name\":\"message\"},{\"default\":null,\"kind\":null,\"name\":\"notification_type\"},{\"default\":false,\"kind\":null,\"name\":\"_destroyed\"}]},{\"extends\":null,\"module\":null,\"name\":\"TemplateActions1\",\"overrides\":[],\"properties\":[{\"default\":0,\"kind\":null,\"name\":\"open_modal\"},{\"default\":0,\"kind\":null,\"name\":\"close_modal\"}]},{\"extends\":null,\"module\":null,\"name\":\"MaterialTemplateActions1\",\"overrides\":[],\"properties\":[{\"default\":0,\"kind\":null,\"name\":\"open_modal\"},{\"default\":0,\"kind\":null,\"name\":\"close_modal\"}]}],\"roots\":{\"references\":[{\"attributes\":{},\"id\":\"46151\",\"type\":\"AllLabels\"},{\"attributes\":{\"data\":{\"importance\":{\"__ndarray__\":\"heTcDhUGL8EAAAAAAAAAAAAAAAAAAACAAAAAAAAAAAAAAAAAAAAAgAAAAAAAAAAAAAAAAAAAAAAAAAAAAAAAAAAAAAAAAAAArA+N9XH0BEEUK366FicFQQ==\",\"dtype\":\"float64\",\"order\":\"little\",\"shape\":[11]},\"index\":[\"google_searchVolume\",\"client_unit_price\",\"competitor_unit_price\",\"month\",\"no additives/preservatives\",\"quarter\",\"salmon\",\"walmart_searchVolume\",\"year\",\"total_post\",\"amazon_searchVolume\"]},\"selected\":{\"id\":\"46138\"},\"selection_policy\":{\"id\":\"46159\"}},\"id\":\"46137\",\"type\":\"ColumnDataSource\"},{\"attributes\":{},\"id\":\"46126\",\"type\":\"WheelZoomTool\"},{\"attributes\":{\"end\":292269.77806995803,\"reset_end\":292269.77806995803,\"reset_start\":-1135573.466038026,\"start\":-1135573.466038026,\"tags\":[[[\"importance\",\"importance\",null]]]},\"id\":\"46105\",\"type\":\"Range1d\"},{\"attributes\":{},\"id\":\"46128\",\"type\":\"ResetTool\"},{\"attributes\":{},\"id\":\"46118\",\"type\":\"BasicTicker\"},{\"attributes\":{},\"id\":\"46138\",\"type\":\"Selection\"},{\"attributes\":{},\"id\":\"46148\",\"type\":\"AllLabels\"},{\"attributes\":{\"coordinates\":null,\"data_source\":{\"id\":\"46137\"},\"glyph\":{\"id\":\"46140\"},\"group\":null,\"hover_glyph\":null,\"muted_glyph\":{\"id\":\"46142\"},\"nonselection_glyph\":{\"id\":\"46141\"},\"selection_glyph\":{\"id\":\"46145\"},\"view\":{\"id\":\"46144\"}},\"id\":\"46143\",\"type\":\"GlyphRenderer\"},{\"attributes\":{\"child\":{\"id\":\"46108\"},\"name\":\"from_model\",\"title\":\"from_model\"},\"id\":\"46162\",\"type\":\"Panel\"},{\"attributes\":{},\"id\":\"46124\",\"type\":\"SaveTool\"},{\"attributes\":{\"axis\":{\"id\":\"46117\"},\"coordinates\":null,\"grid_line_color\":null,\"group\":null,\"ticker\":null},\"id\":\"46120\",\"type\":\"Grid\"},{\"attributes\":{\"client_comm_id\":\"d0705074e013454787ae4aa8d50257ee\",\"comm_id\":\"d8e4059206ac469b86c6f29a2724cc8c\",\"plot_id\":\"46104\"},\"id\":\"46195\",\"type\":\"panel.models.comm_manager.CommManager\"},{\"attributes\":{\"bottom_units\":\"screen\",\"coordinates\":null,\"fill_alpha\":0.5,\"fill_color\":\"lightgrey\",\"group\":null,\"left_units\":\"screen\",\"level\":\"overlay\",\"line_alpha\":1.0,\"line_color\":\"black\",\"line_dash\":[4,4],\"line_width\":2,\"right_units\":\"screen\",\"syncable\":false,\"top_units\":\"screen\"},\"id\":\"46129\",\"type\":\"BoxAnnotation\"},{\"attributes\":{\"margin\":[0,0,0,0],\"tabs\":[{\"id\":\"46162\"},{\"id\":\"46164\"}]},\"id\":\"46104\",\"type\":\"panel.models.tabs.Tabs\"},{\"attributes\":{},\"id\":\"46122\",\"type\":\"CategoricalTicker\"},{\"attributes\":{\"overlay\":{\"id\":\"46129\"}},\"id\":\"46127\",\"type\":\"BoxZoomTool\"},{\"attributes\":{\"child\":{\"id\":\"46163\"},\"name\":\"shap_values\",\"title\":\"shap_values\"},\"id\":\"46164\",\"type\":\"Panel\"},{\"attributes\":{\"fill_alpha\":{\"value\":0.1},\"fill_color\":{\"value\":\"#30a2da\"},\"hatch_alpha\":{\"value\":0.1},\"hatch_color\":{\"value\":\"#30a2da\"},\"height\":{\"value\":0.8},\"line_alpha\":{\"value\":0.1},\"right\":{\"field\":\"importance\"},\"y\":{\"field\":\"index\"}},\"id\":\"46141\",\"type\":\"HBar\"},{\"attributes\":{\"coordinates\":null,\"group\":null,\"text\":\"Feature Importances from LassoCV\",\"text_color\":\"black\",\"text_font_size\":\"12pt\"},\"id\":\"46109\",\"type\":\"Title\"},{\"attributes\":{\"height\":590,\"margin\":[5,5,5,5],\"name\":\"shap_values\",\"text\":\"&lt;img src=&quot;data:image/png;base64,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&quot; width=&quot;800px&quot; height=&quot;590px&quot; alt=&quot;&quot;&gt;&lt;/img&gt;\",\"width\":800},\"id\":\"46163\",\"type\":\"panel.models.markup.HTML\"},{\"attributes\":{},\"id\":\"46150\",\"type\":\"CategoricalTickFormatter\"},{\"attributes\":{},\"id\":\"46147\",\"type\":\"BasicTickFormatter\"},{\"attributes\":{\"fill_alpha\":{\"value\":0.2},\"fill_color\":{\"value\":\"#30a2da\"},\"hatch_alpha\":{\"value\":0.2},\"hatch_color\":{\"value\":\"#30a2da\"},\"height\":{\"value\":0.8},\"line_alpha\":{\"value\":0.2},\"right\":{\"field\":\"importance\"},\"y\":{\"field\":\"index\"}},\"id\":\"46142\",\"type\":\"HBar\"},{\"attributes\":{\"callback\":null,\"renderers\":[{\"id\":\"46143\"}],\"tags\":[\"hv_created\"],\"tooltips\":[[\"index\",\"@{index}\"],[\"importance\",\"@{importance}\"]]},\"id\":\"46107\",\"type\":\"HoverTool\"},{\"attributes\":{\"fill_color\":{\"value\":\"#30a2da\"},\"hatch_color\":{\"value\":\"#30a2da\"},\"height\":{\"value\":0.8},\"right\":{\"field\":\"importance\"},\"y\":{\"field\":\"index\"}},\"id\":\"46140\",\"type\":\"HBar\"},{\"attributes\":{\"below\":[{\"id\":\"46117\"}],\"center\":[{\"id\":\"46120\"},{\"id\":\"46123\"}],\"height\":300,\"left\":[{\"id\":\"46121\"}],\"margin\":[5,5,5,5],\"min_border_bottom\":10,\"min_border_left\":10,\"min_border_right\":10,\"min_border_top\":10,\"renderers\":[{\"id\":\"46143\"}],\"sizing_mode\":\"fixed\",\"title\":{\"id\":\"46109\"},\"toolbar\":{\"id\":\"46130\"},\"width\":700,\"x_range\":{\"id\":\"46105\"},\"x_scale\":{\"id\":\"46113\"},\"y_range\":{\"id\":\"46106\"},\"y_scale\":{\"id\":\"46115\"}},\"id\":\"46108\",\"subtype\":\"Figure\",\"type\":\"Plot\"},{\"attributes\":{\"factors\":[\"google_searchVolume\",\"client_unit_price\",\"competitor_unit_price\",\"month\",\"no additives/preservatives\",\"quarter\",\"salmon\",\"walmart_searchVolume\",\"year\",\"total_post\",\"amazon_searchVolume\"],\"tags\":[[[\"index\",\"index\",null]]]},\"id\":\"46106\",\"type\":\"FactorRange\"},{\"attributes\":{\"source\":{\"id\":\"46137\"}},\"id\":\"46144\",\"type\":\"CDSView\"},{\"attributes\":{\"axis\":{\"id\":\"46121\"},\"coordinates\":null,\"dimension\":1,\"grid_line_color\":null,\"group\":null,\"ticker\":null},\"id\":\"46123\",\"type\":\"Grid\"},{\"attributes\":{\"axis_label\":\"Features\",\"coordinates\":null,\"formatter\":{\"id\":\"46150\"},\"group\":null,\"major_label_policy\":{\"id\":\"46151\"},\"ticker\":{\"id\":\"46122\"}},\"id\":\"46121\",\"type\":\"CategoricalAxis\"},{\"attributes\":{},\"id\":\"46113\",\"type\":\"LinearScale\"},{\"attributes\":{},\"id\":\"46115\",\"type\":\"CategoricalScale\"},{\"attributes\":{},\"id\":\"46159\",\"type\":\"UnionRenderers\"},{\"attributes\":{},\"id\":\"46125\",\"type\":\"PanTool\"},{\"attributes\":{\"tools\":[{\"id\":\"46107\"},{\"id\":\"46124\"},{\"id\":\"46125\"},{\"id\":\"46126\"},{\"id\":\"46127\"},{\"id\":\"46128\"}]},\"id\":\"46130\",\"type\":\"Toolbar\"},{\"attributes\":{\"fill_alpha\":{\"value\":1.0},\"fill_color\":{\"value\":\"#30a2da\"},\"hatch_alpha\":{\"value\":1.0},\"hatch_color\":{\"value\":\"#30a2da\"},\"hatch_scale\":{\"value\":12.0},\"hatch_weight\":{\"value\":1.0},\"height\":{\"value\":0.8},\"left\":{\"value\":0},\"line_alpha\":{\"value\":1.0},\"line_cap\":{\"value\":\"butt\"},\"line_color\":{\"value\":\"black\"},\"line_dash\":{\"value\":[]},\"line_dash_offset\":{\"value\":0},\"line_join\":{\"value\":\"bevel\"},\"line_width\":{\"value\":1},\"right\":{\"field\":\"importance\"},\"y\":{\"field\":\"index\"}},\"id\":\"46145\",\"type\":\"HBar\"},{\"attributes\":{\"axis_label\":\"Feature Importance [determined by coeff * mean(x)]\",\"coordinates\":null,\"formatter\":{\"id\":\"46147\"},\"group\":null,\"major_label_policy\":{\"id\":\"46148\"},\"ticker\":{\"id\":\"46118\"}},\"id\":\"46117\",\"type\":\"LinearAxis\"}],\"root_ids\":[\"46104\",\"46195\"]},\"title\":\"Bokeh Application\",\"version\":\"2.4.3\"}};\n",
       "    var render_items = [{\"docid\":\"f9ed95a8-6cfb-4d5e-943e-316c27c110bb\",\"root_ids\":[\"46104\"],\"roots\":{\"46104\":\"1c5b61e8-c009-4875-972e-4edfcc1e59d9\"}}];\n",
       "    root.Bokeh.embed.embed_items_notebook(docs_json, render_items);\n",
       "  }\n",
       "  if (root.Bokeh !== undefined && root.Bokeh.Panel !== undefined) {\n",
       "    embed_document(root);\n",
       "  } else {\n",
       "    var attempts = 0;\n",
       "    var timer = setInterval(function(root) {\n",
       "      if (root.Bokeh !== undefined && root.Bokeh.Panel !== undefined) {\n",
       "        clearInterval(timer);\n",
       "        embed_document(root);\n",
       "      } else if (document.readyState == \"complete\") {\n",
       "        attempts++;\n",
       "        if (attempts > 200) {\n",
       "          clearInterval(timer);\n",
       "          console.log(\"Bokeh: ERROR: Unable to run BokehJS code because BokehJS library is missing\");\n",
       "        }\n",
       "      }\n",
       "    }, 25, root)\n",
       "  }\n",
       "})(window);</script>"
      ],
      "text/plain": [
       "Tabs\n",
       "    [0] HoloViews(Bars, name='from_model')\n",
       "    [1] Matplotlib(Figure, name='shap_values')"
      ]
     },
     "execution_count": 103,
     "metadata": {
      "application/vnd.holoviews_exec.v0+json": {
       "id": "46104"
      }
     },
     "output_type": "execute_result"
    }
   ],
   "source": [
    "out = eda.get_feature_importances(X_train, y_train, y_continuous=True)\n",
    "display_as_tabs([(k, v) for k,v in out.items()])"
   ]
  },
  {
   "cell_type": "code",
   "execution_count": 104,
   "id": "cce7c669",
   "metadata": {},
   "outputs": [
    {
     "name": "stderr",
     "output_type": "stream",
     "text": [
      "Error: 'Series' object has no attribute 'columns'"
     ]
    }
   ],
   "source": [
    "reports.key_drivers(X_train,y_train, './key_drivers_report.html', y_continuous=True)"
   ]
  },
  {
   "cell_type": "code",
   "execution_count": 106,
   "id": "0ba7c247",
   "metadata": {},
   "outputs": [
    {
     "name": "stderr",
     "output_type": "stream",
     "text": [
      "Error: 'Series' object has no attribute 'columns'"
     ]
    }
   ],
   "source": [
    "reports.data_exploration(X_train,y_train,'./data_exploration_report.html', y_continuous=True)"
   ]
  },
  {
   "cell_type": "markdown",
   "id": "187e59a0",
   "metadata": {},
   "source": [
    "# 4 Modelling"
   ]
  },
  {
   "cell_type": "markdown",
   "id": "b6804afa",
   "metadata": {},
   "source": [
    "## 4.1 Modelling - Linear Regression"
   ]
  },
  {
   "cell_type": "markdown",
   "id": "e6ad8166",
   "metadata": {},
   "source": [
    "### 4.1.1 Feature Selection(Specific to Regression)\n",
    "\n",
    "- Selecting Features specific to regression\n",
    "- VIF : measure of the amount of multi-collinearity in a set of multiple regressor variables. \n",
    "- On a case to case basis VIF thresholds change. Generally 5 or 10 are acceptable levels.\n",
    "- Usually on a recursive basis when removing the most collinear variable, there can be shuffle in VIF. \n",
    "- Often this section will not be part of the production code."
   ]
  },
  {
   "cell_type": "code",
   "execution_count": 110,
   "id": "78f4dbf9",
   "metadata": {},
   "outputs": [],
   "source": [
    "reg_vars = X_train.columns.tolist()"
   ]
  },
  {
   "cell_type": "code",
   "execution_count": 111,
   "id": "cf412566",
   "metadata": {},
   "outputs": [],
   "source": [
    "X_train = X_train[reg_vars]\n",
    "X_test = X_test[reg_vars]"
   ]
  },
  {
   "cell_type": "markdown",
   "id": "de8a8717",
   "metadata": {},
   "source": [
    "### 4.1.2 Data transformations"
   ]
  },
  {
   "cell_type": "code",
   "execution_count": 112,
   "id": "9b3d0e4e",
   "metadata": {},
   "outputs": [],
   "source": [
    "# Custom Transformations like these can be utilised\n",
    "def _custom_data_transform(df, cols2keep=None):\n",
    "    \"\"\"Transformation to drop some columns in the data\n",
    "    \n",
    "    Parameters\n",
    "    ----------\n",
    "        df - pd.DataFrame\n",
    "        cols2keep - columns to keep in the dataframe\n",
    "    \"\"\"\n",
    "    cols2keep = cols2keep or []\n",
    "    if len(cols2keep):\n",
    "        return (df\n",
    "                .select_columns(cols2keep))\n",
    "    else:\n",
    "        return df"
   ]
  },
  {
   "cell_type": "markdown",
   "id": "4b87317b",
   "metadata": {},
   "source": [
    "### 4.1.3 Model training pipeline\n",
    "\n",
    "- Here we focus on creating a collection of pipelines that can be used for training respective models.\n",
    "- Each model pipeline will essentially be of the form\n",
    "```\n",
    "[\n",
    "('preprocessing', preprocessing_pipeline),\n",
    "('feature_selection', feature_selection_pipeline),\n",
    "('estimator', estimator),\n",
    "]\n",
    "```"
   ]
  },
  {
   "cell_type": "markdown",
   "id": "d555c80c",
   "metadata": {},
   "source": [
    "### 4.1.4 Model Pipeline Build\n",
    "\n",
    "- This will be part of the production code (training only)."
   ]
  },
  {
   "cell_type": "code",
   "execution_count": 132,
   "id": "d7538f5e",
   "metadata": {},
   "outputs": [
    {
     "data": {
      "text/html": [
       "<style>#sk-container-id-2 {color: black;background-color: white;}#sk-container-id-2 pre{padding: 0;}#sk-container-id-2 div.sk-toggleable {background-color: white;}#sk-container-id-2 label.sk-toggleable__label {cursor: pointer;display: block;width: 100%;margin-bottom: 0;padding: 0.3em;box-sizing: border-box;text-align: center;}#sk-container-id-2 label.sk-toggleable__label-arrow:before {content: \"▸\";float: left;margin-right: 0.25em;color: #696969;}#sk-container-id-2 label.sk-toggleable__label-arrow:hover:before {color: black;}#sk-container-id-2 div.sk-estimator:hover label.sk-toggleable__label-arrow:before {color: black;}#sk-container-id-2 div.sk-toggleable__content {max-height: 0;max-width: 0;overflow: hidden;text-align: left;background-color: #f0f8ff;}#sk-container-id-2 div.sk-toggleable__content pre {margin: 0.2em;color: black;border-radius: 0.25em;background-color: #f0f8ff;}#sk-container-id-2 input.sk-toggleable__control:checked~div.sk-toggleable__content {max-height: 200px;max-width: 100%;overflow: auto;}#sk-container-id-2 input.sk-toggleable__control:checked~label.sk-toggleable__label-arrow:before {content: \"▾\";}#sk-container-id-2 div.sk-estimator input.sk-toggleable__control:checked~label.sk-toggleable__label {background-color: #d4ebff;}#sk-container-id-2 div.sk-label input.sk-toggleable__control:checked~label.sk-toggleable__label {background-color: #d4ebff;}#sk-container-id-2 input.sk-hidden--visually {border: 0;clip: rect(1px 1px 1px 1px);clip: rect(1px, 1px, 1px, 1px);height: 1px;margin: -1px;overflow: hidden;padding: 0;position: absolute;width: 1px;}#sk-container-id-2 div.sk-estimator {font-family: monospace;background-color: #f0f8ff;border: 1px dotted black;border-radius: 0.25em;box-sizing: border-box;margin-bottom: 0.5em;}#sk-container-id-2 div.sk-estimator:hover {background-color: #d4ebff;}#sk-container-id-2 div.sk-parallel-item::after {content: \"\";width: 100%;border-bottom: 1px solid gray;flex-grow: 1;}#sk-container-id-2 div.sk-label:hover label.sk-toggleable__label {background-color: #d4ebff;}#sk-container-id-2 div.sk-serial::before {content: \"\";position: absolute;border-left: 1px solid gray;box-sizing: border-box;top: 0;bottom: 0;left: 50%;z-index: 0;}#sk-container-id-2 div.sk-serial {display: flex;flex-direction: column;align-items: center;background-color: white;padding-right: 0.2em;padding-left: 0.2em;position: relative;}#sk-container-id-2 div.sk-item {position: relative;z-index: 1;}#sk-container-id-2 div.sk-parallel {display: flex;align-items: stretch;justify-content: center;background-color: white;position: relative;}#sk-container-id-2 div.sk-item::before, #sk-container-id-2 div.sk-parallel-item::before {content: \"\";position: absolute;border-left: 1px solid gray;box-sizing: border-box;top: 0;bottom: 0;left: 50%;z-index: -1;}#sk-container-id-2 div.sk-parallel-item {display: flex;flex-direction: column;z-index: 1;position: relative;background-color: white;}#sk-container-id-2 div.sk-parallel-item:first-child::after {align-self: flex-end;width: 50%;}#sk-container-id-2 div.sk-parallel-item:last-child::after {align-self: flex-start;width: 50%;}#sk-container-id-2 div.sk-parallel-item:only-child::after {width: 0;}#sk-container-id-2 div.sk-dashed-wrapped {border: 1px dashed gray;margin: 0 0.4em 0.5em 0.4em;box-sizing: border-box;padding-bottom: 0.4em;background-color: white;}#sk-container-id-2 div.sk-label label {font-family: monospace;font-weight: bold;display: inline-block;line-height: 1.2em;}#sk-container-id-2 div.sk-label-container {text-align: center;}#sk-container-id-2 div.sk-container {/* jupyter's `normalize.less` sets `[hidden] { display: none; }` but bootstrap.min.css set `[hidden] { display: none !important; }` so we also need the `!important` here to be able to override the default hidden behavior on the sphinx rendered scikit-learn.org. See: https://github.com/scikit-learn/scikit-learn/issues/21755 */display: inline-block !important;position: relative;}#sk-container-id-2 div.sk-text-repr-fallback {display: none;}</style><div id=\"sk-container-id-2\" class=\"sk-top-container\"><div class=\"sk-text-repr-fallback\"><pre>Pipeline(steps=[(&#x27;XGBoost&#x27;,\n",
       "                 XGBRegressor(base_score=0.5, booster=&#x27;gbtree&#x27;,\n",
       "                              colsample_bylevel=1, colsample_bynode=1,\n",
       "                              colsample_bytree=1, enable_categorical=False,\n",
       "                              gamma=0, gpu_id=-1, importance_type=None,\n",
       "                              interaction_constraints=&#x27;&#x27;,\n",
       "                              learning_rate=0.300000012, max_delta_step=0,\n",
       "                              max_depth=6, min_child_weight=1, missing=nan,\n",
       "                              monotone_constraints=&#x27;()&#x27;, n_estimators=100,\n",
       "                              n_jobs=8, num_parallel_tree=1, predictor=&#x27;auto&#x27;,\n",
       "                              random_state=0, reg_alpha=0, reg_lambda=1,\n",
       "                              scale_pos_weight=1, subsample=1,\n",
       "                              tree_method=&#x27;exact&#x27;, validate_parameters=1,\n",
       "                              verbosity=None))])</pre><b>In a Jupyter environment, please rerun this cell to show the HTML representation or trust the notebook. <br />On GitHub, the HTML representation is unable to render, please try loading this page with nbviewer.org.</b></div><div class=\"sk-container\" hidden><div class=\"sk-item sk-dashed-wrapped\"><div class=\"sk-label-container\"><div class=\"sk-label sk-toggleable\"><input class=\"sk-toggleable__control sk-hidden--visually\" id=\"sk-estimator-id-4\" type=\"checkbox\" ><label for=\"sk-estimator-id-4\" class=\"sk-toggleable__label sk-toggleable__label-arrow\">Pipeline</label><div class=\"sk-toggleable__content\"><pre>Pipeline(steps=[(&#x27;XGBoost&#x27;,\n",
       "                 XGBRegressor(base_score=0.5, booster=&#x27;gbtree&#x27;,\n",
       "                              colsample_bylevel=1, colsample_bynode=1,\n",
       "                              colsample_bytree=1, enable_categorical=False,\n",
       "                              gamma=0, gpu_id=-1, importance_type=None,\n",
       "                              interaction_constraints=&#x27;&#x27;,\n",
       "                              learning_rate=0.300000012, max_delta_step=0,\n",
       "                              max_depth=6, min_child_weight=1, missing=nan,\n",
       "                              monotone_constraints=&#x27;()&#x27;, n_estimators=100,\n",
       "                              n_jobs=8, num_parallel_tree=1, predictor=&#x27;auto&#x27;,\n",
       "                              random_state=0, reg_alpha=0, reg_lambda=1,\n",
       "                              scale_pos_weight=1, subsample=1,\n",
       "                              tree_method=&#x27;exact&#x27;, validate_parameters=1,\n",
       "                              verbosity=None))])</pre></div></div></div><div class=\"sk-serial\"><div class=\"sk-item\"><div class=\"sk-estimator sk-toggleable\"><input class=\"sk-toggleable__control sk-hidden--visually\" id=\"sk-estimator-id-5\" type=\"checkbox\" ><label for=\"sk-estimator-id-5\" class=\"sk-toggleable__label sk-toggleable__label-arrow\">XGBRegressor</label><div class=\"sk-toggleable__content\"><pre>XGBRegressor(base_score=0.5, booster=&#x27;gbtree&#x27;, colsample_bylevel=1,\n",
       "             colsample_bynode=1, colsample_bytree=1, enable_categorical=False,\n",
       "             gamma=0, gpu_id=-1, importance_type=None,\n",
       "             interaction_constraints=&#x27;&#x27;, learning_rate=0.300000012,\n",
       "             max_delta_step=0, max_depth=6, min_child_weight=1, missing=nan,\n",
       "             monotone_constraints=&#x27;()&#x27;, n_estimators=100, n_jobs=8,\n",
       "             num_parallel_tree=1, predictor=&#x27;auto&#x27;, random_state=0, reg_alpha=0,\n",
       "             reg_lambda=1, scale_pos_weight=1, subsample=1, tree_method=&#x27;exact&#x27;,\n",
       "             validate_parameters=1, verbosity=None)</pre></div></div></div></div></div></div></div>"
      ],
      "text/plain": [
       "Pipeline(steps=[('XGBoost',\n",
       "                 XGBRegressor(base_score=0.5, booster='gbtree',\n",
       "                              colsample_bylevel=1, colsample_bynode=1,\n",
       "                              colsample_bytree=1, enable_categorical=False,\n",
       "                              gamma=0, gpu_id=-1, importance_type=None,\n",
       "                              interaction_constraints='',\n",
       "                              learning_rate=0.300000012, max_delta_step=0,\n",
       "                              max_depth=6, min_child_weight=1, missing=nan,\n",
       "                              monotone_constraints='()', n_estimators=100,\n",
       "                              n_jobs=8, num_parallel_tree=1, predictor='auto',\n",
       "                              random_state=0, reg_alpha=0, reg_lambda=1,\n",
       "                              scale_pos_weight=1, subsample=1,\n",
       "                              tree_method='exact', validate_parameters=1,\n",
       "                              verbosity=None))])"
      ]
     },
     "execution_count": 132,
     "metadata": {},
     "output_type": "execute_result"
    }
   ],
   "source": [
    "# let's find features for some decent defaults\n",
    "estimator = XGBRegressor()\n",
    "xgb_training_pipe_init = Pipeline([\n",
    "    ('XGBoost', XGBRegressor())\n",
    "])\n",
    "xgb_training_pipe_init.fit(X_train, y_train)"
   ]
  },
  {
   "cell_type": "markdown",
   "id": "da24f423",
   "metadata": {},
   "source": [
    "### 4.2.3 Model Tuning"
   ]
  },
  {
   "cell_type": "code",
   "execution_count": 134,
   "id": "df485961",
   "metadata": {},
   "outputs": [
    {
     "data": {
      "text/plain": [
       "<AxesSubplot:>"
      ]
     },
     "execution_count": 134,
     "metadata": {},
     "output_type": "execute_result"
    },
    {
     "data": {
      "image/png": "[encoded data removed]",
      "text/plain": [
       "<Figure size 640x480 with 1 Axes>"
      ]
     },
     "metadata": {},
     "output_type": "display_data"
    }
   ],
   "source": [
    "# Understanding the Feature Importance\n",
    "%matplotlib inline\n",
    "imp = pd.DataFrame({'importance': xgb_training_pipe_init['XGBoost'].feature_importances_})\n",
    "imp.index = X_train.columns\n",
    "imp.sort_values('importance',inplace=True)\n",
    "imp.plot(kind='barh')"
   ]
  },
  {
   "cell_type": "markdown",
   "id": "0db0d130",
   "metadata": {},
   "source": [
    "'client_unit_price','competitor_unit_price','total_post','google_searchVolume' are considered to be important and in grid search"
   ]
  },
  {
   "cell_type": "code",
   "execution_count": 135,
   "id": "a924d8af",
   "metadata": {},
   "outputs": [],
   "source": [
    "imp_features = ['client_unit_price', 'competitor_unit_price', 'total_post'\n",
    "                , 'google_searchVolume']"
   ]
  },
  {
   "cell_type": "code",
   "execution_count": 113,
   "id": "da5dfb44",
   "metadata": {},
   "outputs": [
    {
     "data": {
      "text/html": [
       "<style>#sk-container-id-1 {color: black;background-color: white;}#sk-container-id-1 pre{padding: 0;}#sk-container-id-1 div.sk-toggleable {background-color: white;}#sk-container-id-1 label.sk-toggleable__label {cursor: pointer;display: block;width: 100%;margin-bottom: 0;padding: 0.3em;box-sizing: border-box;text-align: center;}#sk-container-id-1 label.sk-toggleable__label-arrow:before {content: \"▸\";float: left;margin-right: 0.25em;color: #696969;}#sk-container-id-1 label.sk-toggleable__label-arrow:hover:before {color: black;}#sk-container-id-1 div.sk-estimator:hover label.sk-toggleable__label-arrow:before {color: black;}#sk-container-id-1 div.sk-toggleable__content {max-height: 0;max-width: 0;overflow: hidden;text-align: left;background-color: #f0f8ff;}#sk-container-id-1 div.sk-toggleable__content pre {margin: 0.2em;color: black;border-radius: 0.25em;background-color: #f0f8ff;}#sk-container-id-1 input.sk-toggleable__control:checked~div.sk-toggleable__content {max-height: 200px;max-width: 100%;overflow: auto;}#sk-container-id-1 input.sk-toggleable__control:checked~label.sk-toggleable__label-arrow:before {content: \"▾\";}#sk-container-id-1 div.sk-estimator input.sk-toggleable__control:checked~label.sk-toggleable__label {background-color: #d4ebff;}#sk-container-id-1 div.sk-label input.sk-toggleable__control:checked~label.sk-toggleable__label {background-color: #d4ebff;}#sk-container-id-1 input.sk-hidden--visually {border: 0;clip: rect(1px 1px 1px 1px);clip: rect(1px, 1px, 1px, 1px);height: 1px;margin: -1px;overflow: hidden;padding: 0;position: absolute;width: 1px;}#sk-container-id-1 div.sk-estimator {font-family: monospace;background-color: #f0f8ff;border: 1px dotted black;border-radius: 0.25em;box-sizing: border-box;margin-bottom: 0.5em;}#sk-container-id-1 div.sk-estimator:hover {background-color: #d4ebff;}#sk-container-id-1 div.sk-parallel-item::after {content: \"\";width: 100%;border-bottom: 1px solid gray;flex-grow: 1;}#sk-container-id-1 div.sk-label:hover label.sk-toggleable__label {background-color: #d4ebff;}#sk-container-id-1 div.sk-serial::before {content: \"\";position: absolute;border-left: 1px solid gray;box-sizing: border-box;top: 0;bottom: 0;left: 50%;z-index: 0;}#sk-container-id-1 div.sk-serial {display: flex;flex-direction: column;align-items: center;background-color: white;padding-right: 0.2em;padding-left: 0.2em;position: relative;}#sk-container-id-1 div.sk-item {position: relative;z-index: 1;}#sk-container-id-1 div.sk-parallel {display: flex;align-items: stretch;justify-content: center;background-color: white;position: relative;}#sk-container-id-1 div.sk-item::before, #sk-container-id-1 div.sk-parallel-item::before {content: \"\";position: absolute;border-left: 1px solid gray;box-sizing: border-box;top: 0;bottom: 0;left: 50%;z-index: -1;}#sk-container-id-1 div.sk-parallel-item {display: flex;flex-direction: column;z-index: 1;position: relative;background-color: white;}#sk-container-id-1 div.sk-parallel-item:first-child::after {align-self: flex-end;width: 50%;}#sk-container-id-1 div.sk-parallel-item:last-child::after {align-self: flex-start;width: 50%;}#sk-container-id-1 div.sk-parallel-item:only-child::after {width: 0;}#sk-container-id-1 div.sk-dashed-wrapped {border: 1px dashed gray;margin: 0 0.4em 0.5em 0.4em;box-sizing: border-box;padding-bottom: 0.4em;background-color: white;}#sk-container-id-1 div.sk-label label {font-family: monospace;font-weight: bold;display: inline-block;line-height: 1.2em;}#sk-container-id-1 div.sk-label-container {text-align: center;}#sk-container-id-1 div.sk-container {/* jupyter's `normalize.less` sets `[hidden] { display: none; }` but bootstrap.min.css set `[hidden] { display: none !important; }` so we also need the `!important` here to be able to override the default hidden behavior on the sphinx rendered scikit-learn.org. See: https://github.com/scikit-learn/scikit-learn/issues/21755 */display: inline-block !important;position: relative;}#sk-container-id-1 div.sk-text-repr-fallback {display: none;}</style><div id=\"sk-container-id-1\" class=\"sk-top-container\"><div class=\"sk-text-repr-fallback\"><pre>Pipeline(steps=[(&#x27;&#x27;,\n",
       "                 FunctionTransformer(func=&lt;function _custom_data_transform at 0x7fa4dde5c700&gt;,\n",
       "                                     kw_args={&#x27;cols2keep&#x27;: [&#x27;total_post&#x27;,\n",
       "                                                            &#x27;google_searchVolume&#x27;,\n",
       "                                                            &#x27;amazon_searchVolume&#x27;,\n",
       "                                                            &#x27;walmart_searchVolume&#x27;,\n",
       "                                                            &#x27;client_unit_price&#x27;,\n",
       "                                                            &#x27;competitor_unit_price&#x27;,\n",
       "                                                            &#x27;no &#x27;\n",
       "                                                            &#x27;additives/preservatives&#x27;,\n",
       "                                                            &#x27;salmon&#x27;, &#x27;year&#x27;,\n",
       "                                                            &#x27;month&#x27;,\n",
       "                                                            &#x27;quarter&#x27;]})),\n",
       "                (&#x27;estimator&#x27;, SKLStatsmodelOLS())])</pre><b>In a Jupyter environment, please rerun this cell to show the HTML representation or trust the notebook. <br />On GitHub, the HTML representation is unable to render, please try loading this page with nbviewer.org.</b></div><div class=\"sk-container\" hidden><div class=\"sk-item sk-dashed-wrapped\"><div class=\"sk-label-container\"><div class=\"sk-label sk-toggleable\"><input class=\"sk-toggleable__control sk-hidden--visually\" id=\"sk-estimator-id-1\" type=\"checkbox\" ><label for=\"sk-estimator-id-1\" class=\"sk-toggleable__label sk-toggleable__label-arrow\">Pipeline</label><div class=\"sk-toggleable__content\"><pre>Pipeline(steps=[(&#x27;&#x27;,\n",
       "                 FunctionTransformer(func=&lt;function _custom_data_transform at 0x7fa4dde5c700&gt;,\n",
       "                                     kw_args={&#x27;cols2keep&#x27;: [&#x27;total_post&#x27;,\n",
       "                                                            &#x27;google_searchVolume&#x27;,\n",
       "                                                            &#x27;amazon_searchVolume&#x27;,\n",
       "                                                            &#x27;walmart_searchVolume&#x27;,\n",
       "                                                            &#x27;client_unit_price&#x27;,\n",
       "                                                            &#x27;competitor_unit_price&#x27;,\n",
       "                                                            &#x27;no &#x27;\n",
       "                                                            &#x27;additives/preservatives&#x27;,\n",
       "                                                            &#x27;salmon&#x27;, &#x27;year&#x27;,\n",
       "                                                            &#x27;month&#x27;,\n",
       "                                                            &#x27;quarter&#x27;]})),\n",
       "                (&#x27;estimator&#x27;, SKLStatsmodelOLS())])</pre></div></div></div><div class=\"sk-serial\"><div class=\"sk-item\"><div class=\"sk-estimator sk-toggleable\"><input class=\"sk-toggleable__control sk-hidden--visually\" id=\"sk-estimator-id-2\" type=\"checkbox\" ><label for=\"sk-estimator-id-2\" class=\"sk-toggleable__label sk-toggleable__label-arrow\">FunctionTransformer</label><div class=\"sk-toggleable__content\"><pre>FunctionTransformer(func=&lt;function _custom_data_transform at 0x7fa4dde5c700&gt;,\n",
       "                    kw_args={&#x27;cols2keep&#x27;: [&#x27;total_post&#x27;, &#x27;google_searchVolume&#x27;,\n",
       "                                           &#x27;amazon_searchVolume&#x27;,\n",
       "                                           &#x27;walmart_searchVolume&#x27;,\n",
       "                                           &#x27;client_unit_price&#x27;,\n",
       "                                           &#x27;competitor_unit_price&#x27;,\n",
       "                                           &#x27;no additives/preservatives&#x27;,\n",
       "                                           &#x27;salmon&#x27;, &#x27;year&#x27;, &#x27;month&#x27;,\n",
       "                                           &#x27;quarter&#x27;]})</pre></div></div></div><div class=\"sk-item\"><div class=\"sk-estimator sk-toggleable\"><input class=\"sk-toggleable__control sk-hidden--visually\" id=\"sk-estimator-id-3\" type=\"checkbox\" ><label for=\"sk-estimator-id-3\" class=\"sk-toggleable__label sk-toggleable__label-arrow\">SKLStatsmodelOLS</label><div class=\"sk-toggleable__content\"><pre>SKLStatsmodelOLS()</pre></div></div></div></div></div></div></div>"
      ],
      "text/plain": [
       "Pipeline(steps=[('',\n",
       "                 FunctionTransformer(func=<function _custom_data_transform at 0x7fa4dde5c700>,\n",
       "                                     kw_args={'cols2keep': ['total_post',\n",
       "                                                            'google_searchVolume',\n",
       "                                                            'amazon_searchVolume',\n",
       "                                                            'walmart_searchVolume',\n",
       "                                                            'client_unit_price',\n",
       "                                                            'competitor_unit_price',\n",
       "                                                            'no '\n",
       "                                                            'additives/preservatives',\n",
       "                                                            'salmon', 'year',\n",
       "                                                            'month',\n",
       "                                                            'quarter']})),\n",
       "                ('estimator', SKLStatsmodelOLS())])"
      ]
     },
     "execution_count": 113,
     "metadata": {},
     "output_type": "execute_result"
    }
   ],
   "source": [
    "reg_ppln_ols = Pipeline([\n",
    "    ('',FunctionTransformer(_custom_data_transform, kw_args={'cols2keep':reg_vars})),\n",
    "    ('estimator', SKLStatsmodelOLS())\n",
    "])\n",
    "reg_ppln_ols.fit(X_train, y_train.values.ravel())\n"
   ]
  },
  {
   "cell_type": "code",
   "execution_count": 114,
   "id": "0c07cc81",
   "metadata": {},
   "outputs": [
    {
     "data": {
      "text/html": [
       "<table class=\"simpletable\">\n",
       "<caption>OLS Regression Results</caption>\n",
       "<tr>\n",
       "  <th>Dep. Variable:</th>            <td>y</td>        <th>  R-squared:         </th> <td>   0.847</td> \n",
       "</tr>\n",
       "<tr>\n",
       "  <th>Model:</th>                   <td>OLS</td>       <th>  Adj. R-squared:    </th> <td>   0.841</td> \n",
       "</tr>\n",
       "<tr>\n",
       "  <th>Method:</th>             <td>Least Squares</td>  <th>  F-statistic:       </th> <td>   142.4</td> \n",
       "</tr>\n",
       "<tr>\n",
       "  <th>Date:</th>             <td>Sun, 11 Jun 2023</td> <th>  Prob (F-statistic):</th> <td>3.41e-108</td>\n",
       "</tr>\n",
       "<tr>\n",
       "  <th>Time:</th>                 <td>21:13:32</td>     <th>  Log-Likelihood:    </th> <td> -4164.2</td> \n",
       "</tr>\n",
       "<tr>\n",
       "  <th>No. Observations:</th>      <td>   294</td>      <th>  AIC:               </th> <td>   8352.</td> \n",
       "</tr>\n",
       "<tr>\n",
       "  <th>Df Residuals:</th>          <td>   282</td>      <th>  BIC:               </th> <td>   8397.</td> \n",
       "</tr>\n",
       "<tr>\n",
       "  <th>Df Model:</th>              <td>    11</td>      <th>                     </th>     <td> </td>    \n",
       "</tr>\n",
       "<tr>\n",
       "  <th>Covariance Type:</th>      <td>nonrobust</td>    <th>                     </th>     <td> </td>    \n",
       "</tr>\n",
       "</table>\n",
       "<table class=\"simpletable\">\n",
       "<tr>\n",
       "               <td></td>                 <th>coef</th>     <th>std err</th>      <th>t</th>      <th>P>|t|</th>  <th>[0.025</th>    <th>0.975]</th>  \n",
       "</tr>\n",
       "<tr>\n",
       "  <th>intercept</th>                  <td>-5.633e+08</td> <td> 8.62e+07</td> <td>   -6.534</td> <td> 0.000</td> <td>-7.33e+08</td> <td>-3.94e+08</td>\n",
       "</tr>\n",
       "<tr>\n",
       "  <th>total_post</th>                 <td>   29.2282</td> <td>   13.904</td> <td>    2.102</td> <td> 0.036</td> <td>    1.860</td> <td>   56.596</td>\n",
       "</tr>\n",
       "<tr>\n",
       "  <th>google_searchVolume</th>        <td>   -6.1720</td> <td>    2.395</td> <td>   -2.577</td> <td> 0.010</td> <td>  -10.886</td> <td>   -1.458</td>\n",
       "</tr>\n",
       "<tr>\n",
       "  <th>amazon_searchVolume</th>        <td>   41.4647</td> <td>   14.808</td> <td>    2.800</td> <td> 0.005</td> <td>   12.317</td> <td>   70.612</td>\n",
       "</tr>\n",
       "<tr>\n",
       "  <th>walmart_searchVolume</th>       <td>  -20.3472</td> <td>  110.775</td> <td>   -0.184</td> <td> 0.854</td> <td> -238.399</td> <td>  197.704</td>\n",
       "</tr>\n",
       "<tr>\n",
       "  <th>client_unit_price</th>          <td>-2.297e+05</td> <td> 5.13e+04</td> <td>   -4.480</td> <td> 0.000</td> <td>-3.31e+05</td> <td>-1.29e+05</td>\n",
       "</tr>\n",
       "<tr>\n",
       "  <th>competitor_unit_price</th>      <td> 1.405e+05</td> <td> 5.77e+04</td> <td>    2.435</td> <td> 0.016</td> <td> 2.69e+04</td> <td> 2.54e+05</td>\n",
       "</tr>\n",
       "<tr>\n",
       "  <th>no additives/preservatives</th> <td>-9.265e+05</td> <td> 1.75e+05</td> <td>   -5.297</td> <td> 0.000</td> <td>-1.27e+06</td> <td>-5.82e+05</td>\n",
       "</tr>\n",
       "<tr>\n",
       "  <th>salmon</th>                     <td> 2.781e+06</td> <td>  3.7e+05</td> <td>    7.510</td> <td> 0.000</td> <td> 2.05e+06</td> <td> 3.51e+06</td>\n",
       "</tr>\n",
       "<tr>\n",
       "  <th>year</th>                       <td> 2.811e+05</td> <td> 4.27e+04</td> <td>    6.581</td> <td> 0.000</td> <td> 1.97e+05</td> <td> 3.65e+05</td>\n",
       "</tr>\n",
       "<tr>\n",
       "  <th>month</th>                      <td> 9.011e+04</td> <td> 2.48e+04</td> <td>    3.627</td> <td> 0.000</td> <td> 4.12e+04</td> <td> 1.39e+05</td>\n",
       "</tr>\n",
       "<tr>\n",
       "  <th>quarter</th>                    <td> -1.14e+05</td> <td> 7.77e+04</td> <td>   -1.467</td> <td> 0.143</td> <td>-2.67e+05</td> <td> 3.89e+04</td>\n",
       "</tr>\n",
       "</table>\n",
       "<table class=\"simpletable\">\n",
       "<tr>\n",
       "  <th>Omnibus:</th>       <td>10.928</td> <th>  Durbin-Watson:     </th> <td>   1.963</td>\n",
       "</tr>\n",
       "<tr>\n",
       "  <th>Prob(Omnibus):</th> <td> 0.004</td> <th>  Jarque-Bera (JB):  </th> <td>  11.107</td>\n",
       "</tr>\n",
       "<tr>\n",
       "  <th>Skew:</th>          <td> 0.463</td> <th>  Prob(JB):          </th> <td> 0.00387</td>\n",
       "</tr>\n",
       "<tr>\n",
       "  <th>Kurtosis:</th>      <td> 3.218</td> <th>  Cond. No.          </th> <td>1.39e+08</td>\n",
       "</tr>\n",
       "</table><br/><br/>Notes:<br/>[1] Standard Errors assume that the covariance matrix of the errors is correctly specified.<br/>[2] The condition number is large, 1.39e+08. This might indicate that there are<br/>strong multicollinearity or other numerical problems."
      ],
      "text/plain": [
       "<class 'statsmodels.iolib.summary.Summary'>\n",
       "\"\"\"\n",
       "                            OLS Regression Results                            \n",
       "==============================================================================\n",
       "Dep. Variable:                      y   R-squared:                       0.847\n",
       "Model:                            OLS   Adj. R-squared:                  0.841\n",
       "Method:                 Least Squares   F-statistic:                     142.4\n",
       "Date:                Sun, 11 Jun 2023   Prob (F-statistic):          3.41e-108\n",
       "Time:                        21:13:32   Log-Likelihood:                -4164.2\n",
       "No. Observations:                 294   AIC:                             8352.\n",
       "Df Residuals:                     282   BIC:                             8397.\n",
       "Df Model:                          11                                         \n",
       "Covariance Type:            nonrobust                                         \n",
       "==============================================================================================\n",
       "                                 coef    std err          t      P>|t|      [0.025      0.975]\n",
       "----------------------------------------------------------------------------------------------\n",
       "intercept                  -5.633e+08   8.62e+07     -6.534      0.000   -7.33e+08   -3.94e+08\n",
       "total_post                    29.2282     13.904      2.102      0.036       1.860      56.596\n",
       "google_searchVolume           -6.1720      2.395     -2.577      0.010     -10.886      -1.458\n",
       "amazon_searchVolume           41.4647     14.808      2.800      0.005      12.317      70.612\n",
       "walmart_searchVolume         -20.3472    110.775     -0.184      0.854    -238.399     197.704\n",
       "client_unit_price          -2.297e+05   5.13e+04     -4.480      0.000   -3.31e+05   -1.29e+05\n",
       "competitor_unit_price       1.405e+05   5.77e+04      2.435      0.016    2.69e+04    2.54e+05\n",
       "no additives/preservatives -9.265e+05   1.75e+05     -5.297      0.000   -1.27e+06   -5.82e+05\n",
       "salmon                      2.781e+06    3.7e+05      7.510      0.000    2.05e+06    3.51e+06\n",
       "year                        2.811e+05   4.27e+04      6.581      0.000    1.97e+05    3.65e+05\n",
       "month                       9.011e+04   2.48e+04      3.627      0.000    4.12e+04    1.39e+05\n",
       "quarter                     -1.14e+05   7.77e+04     -1.467      0.143   -2.67e+05    3.89e+04\n",
       "==============================================================================\n",
       "Omnibus:                       10.928   Durbin-Watson:                   1.963\n",
       "Prob(Omnibus):                  0.004   Jarque-Bera (JB):               11.107\n",
       "Skew:                           0.463   Prob(JB):                      0.00387\n",
       "Kurtosis:                       3.218   Cond. No.                     1.39e+08\n",
       "==============================================================================\n",
       "\n",
       "Notes:\n",
       "[1] Standard Errors assume that the covariance matrix of the errors is correctly specified.\n",
       "[2] The condition number is large, 1.39e+08. This might indicate that there are\n",
       "strong multicollinearity or other numerical problems.\n",
       "\"\"\""
      ]
     },
     "execution_count": 114,
     "metadata": {},
     "output_type": "execute_result"
    }
   ],
   "source": [
    "reg_ppln_ols['estimator'].summary()"
   ]
  },
  {
   "cell_type": "markdown",
   "id": "329cdc1b",
   "metadata": {},
   "source": [
    "### 4.1.5 Model Evaluation(Linear Model)\n",
    "\n",
    "This will be part of the production code."
   ]
  },
  {
   "cell_type": "code",
   "execution_count": 115,
   "id": "0cc62e0c",
   "metadata": {},
   "outputs": [],
   "source": [
    "reg_ppln = Pipeline([\n",
    "    ('', FunctionTransformer(_custom_data_transform, kw_args={'cols2keep':reg_vars})),\n",
    "    ('Linear Regression', SKLStatsmodelOLS())\n",
    "])\n"
   ]
  },
  {
   "cell_type": "code",
   "execution_count": 116,
   "id": "be725be7",
   "metadata": {},
   "outputs": [],
   "source": [
    "reg_linear_report = RegressionReport(model=reg_ppln, x_train=X_train, y_train=y_train, x_test= X_test, y_test= y_test, refit=True)\n",
    "reg_linear_report.get_report(include_shap=False, file_path='regression_linear_model_report')"
   ]
  },
  {
   "cell_type": "markdown",
   "id": "596063fe",
   "metadata": {},
   "source": [
    "### 4.1.6 Residual Analysis\n",
    "- After scoring the model, it is recommended to do a residual analysis to know the distribution of errors\n",
    "- we took a threshold of 30% above which it is marked as over prediction or underprediction\n",
    "- This will not be part of the production code."
   ]
  },
  {
   "cell_type": "code",
   "execution_count": 123,
   "id": "97154470",
   "metadata": {},
   "outputs": [],
   "source": [
    "threshold=0.3\n",
    "residual_analysis = X_test.copy()\n",
    "residual_analysis['prediction'] = reg_ppln_ols.predict(X_test)\n",
    "residual_analysis['actuals'] = y_test.values\n",
    "residual_analysis['forecast_flag'] = 'good'\n",
    "residual_analysis.loc[((residual_analysis['prediction'] > (1+threshold) * residual_analysis['actuals'])\\\n",
    "                       & (residual_analysis['actuals']>100)),'forecast_flag'] = 'over predict'\n",
    "residual_analysis.loc[((residual_analysis['prediction'] < (1-threshold) * residual_analysis['actuals'])\\\n",
    "                       & (residual_analysis['actuals']>100)),'forecast_flag'] = 'under predict'"
   ]
  },
  {
   "cell_type": "code",
   "execution_count": 124,
   "id": "e86070a4",
   "metadata": {},
   "outputs": [
    {
     "data": {},
     "metadata": {},
     "output_type": "display_data"
    },
    {
     "data": {
      "application/vnd.holoviews_exec.v0+json": "",
      "text/html": [
       "<div id='54242'>\n",
       "  <div class=\"bk-root\" id=\"5657bd65-757a-4bfd-8a61-e1c69957e897\" data-root-id=\"54242\"></div>\n",
       "</div>\n",
       "<script type=\"application/javascript\">(function(root) {\n",
       "  function embed_document(root) {\n",
       "    var docs_json = {\"404c4acb-6321-443c-a4a5-c2709d860c18\":{\"defs\":[{\"extends\":null,\"module\":null,\"name\":\"ReactiveHTML1\",\"overrides\":[],\"properties\":[]},{\"extends\":null,\"module\":null,\"name\":\"FlexBox1\",\"overrides\":[],\"properties\":[{\"default\":\"flex-start\",\"kind\":null,\"name\":\"align_content\"},{\"default\":\"flex-start\",\"kind\":null,\"name\":\"align_items\"},{\"default\":\"row\",\"kind\":null,\"name\":\"flex_direction\"},{\"default\":\"wrap\",\"kind\":null,\"name\":\"flex_wrap\"},{\"default\":\"flex-start\",\"kind\":null,\"name\":\"justify_content\"}]},{\"extends\":null,\"module\":null,\"name\":\"GridStack1\",\"overrides\":[],\"properties\":[{\"default\":\"warn\",\"kind\":null,\"name\":\"mode\"},{\"default\":null,\"kind\":null,\"name\":\"ncols\"},{\"default\":null,\"kind\":null,\"name\":\"nrows\"},{\"default\":true,\"kind\":null,\"name\":\"allow_resize\"},{\"default\":true,\"kind\":null,\"name\":\"allow_drag\"},{\"default\":[],\"kind\":null,\"name\":\"state\"}]},{\"extends\":null,\"module\":null,\"name\":\"click1\",\"overrides\":[],\"properties\":[{\"default\":\"\",\"kind\":null,\"name\":\"terminal_output\"},{\"default\":\"\",\"kind\":null,\"name\":\"debug_name\"},{\"default\":0,\"kind\":null,\"name\":\"clears\"}]},{\"extends\":null,\"module\":null,\"name\":\"NotificationAreaBase1\",\"overrides\":[],\"properties\":[{\"default\":\"bottom-right\",\"kind\":null,\"name\":\"position\"},{\"default\":0,\"kind\":null,\"name\":\"_clear\"}]},{\"extends\":null,\"module\":null,\"name\":\"NotificationArea1\",\"overrides\":[],\"properties\":[{\"default\":[],\"kind\":null,\"name\":\"notifications\"},{\"default\":\"bottom-right\",\"kind\":null,\"name\":\"position\"},{\"default\":0,\"kind\":null,\"name\":\"_clear\"},{\"default\":[{\"background\":\"#ffc107\",\"icon\":{\"className\":\"fas fa-exclamation-triangle\",\"color\":\"white\",\"tagName\":\"i\"},\"type\":\"warning\"},{\"background\":\"#007bff\",\"icon\":{\"className\":\"fas fa-info-circle\",\"color\":\"white\",\"tagName\":\"i\"},\"type\":\"info\"}],\"kind\":null,\"name\":\"types\"}]},{\"extends\":null,\"module\":null,\"name\":\"Notification\",\"overrides\":[],\"properties\":[{\"default\":null,\"kind\":null,\"name\":\"background\"},{\"default\":3000,\"kind\":null,\"name\":\"duration\"},{\"default\":null,\"kind\":null,\"name\":\"icon\"},{\"default\":\"\",\"kind\":null,\"name\":\"message\"},{\"default\":null,\"kind\":null,\"name\":\"notification_type\"},{\"default\":false,\"kind\":null,\"name\":\"_destroyed\"}]},{\"extends\":null,\"module\":null,\"name\":\"TemplateActions1\",\"overrides\":[],\"properties\":[{\"default\":0,\"kind\":null,\"name\":\"open_modal\"},{\"default\":0,\"kind\":null,\"name\":\"close_modal\"}]},{\"extends\":null,\"module\":null,\"name\":\"MaterialTemplateActions1\",\"overrides\":[],\"properties\":[{\"default\":0,\"kind\":null,\"name\":\"open_modal\"},{\"default\":0,\"kind\":null,\"name\":\"close_modal\"}]}],\"roots\":{\"references\":[{\"attributes\":{\"coordinates\":null,\"group\":null,\"items\":[]},\"id\":\"54301\",\"type\":\"Legend\"},{\"attributes\":{\"end\":0.1857434563477048,\"reset_end\":0.1857434563477048,\"reset_start\":0.0,\"tags\":[[[\"client_unit_price_density\",\"Density\",null]]]},\"id\":\"54245\",\"type\":\"Range1d\"},{\"attributes\":{},\"id\":\"54281\",\"type\":\"BasicTickFormatter\"},{\"attributes\":{},\"id\":\"54268\",\"type\":\"ResetTool\"},{\"attributes\":{\"bottom_units\":\"screen\",\"coordinates\":null,\"fill_alpha\":0.5,\"fill_color\":\"lightgrey\",\"group\":null,\"left_units\":\"screen\",\"level\":\"overlay\",\"line_alpha\":1.0,\"line_color\":\"black\",\"line_dash\":[4,4],\"line_width\":2,\"right_units\":\"screen\",\"syncable\":false,\"top_units\":\"screen\"},\"id\":\"54269\",\"type\":\"BoxAnnotation\"},{\"attributes\":{},\"id\":\"54282\",\"type\":\"AllLabels\"},{\"attributes\":{\"margin\":[5,5,5,5],\"name\":\"HSpacer133950\",\"sizing_mode\":\"stretch_width\"},\"id\":\"54243\",\"type\":\"Spacer\"},{\"attributes\":{},\"id\":\"54298\",\"type\":\"UnionRenderers\"},{\"attributes\":{\"coordinates\":null,\"data_source\":{\"id\":\"54283\"},\"glyph\":{\"id\":\"54286\"},\"group\":null,\"hover_glyph\":null,\"muted_glyph\":{\"id\":\"54288\"},\"nonselection_glyph\":{\"id\":\"54287\"},\"selection_glyph\":{\"id\":\"54303\"},\"view\":{\"id\":\"54290\"}},\"id\":\"54289\",\"type\":\"GlyphRenderer\"},{\"attributes\":{\"axis_label\":\"density\",\"coordinates\":null,\"formatter\":{\"id\":\"54281\"},\"group\":null,\"major_label_policy\":{\"id\":\"54282\"},\"ticker\":{\"id\":\"54261\"}},\"id\":\"54260\",\"type\":\"LinearAxis\"},{\"attributes\":{\"fill_alpha\":0.5,\"fill_color\":\"#30a2da\",\"hatch_alpha\":0.7,\"hatch_color\":\"#30a2da\",\"line_alpha\":0.7,\"x\":{\"field\":\"x\"},\"y\":{\"field\":\"y\"}},\"id\":\"54286\",\"type\":\"Patch\"},{\"attributes\":{\"source\":{\"id\":\"54283\"}},\"id\":\"54290\",\"type\":\"CDSView\"},{\"attributes\":{\"callback\":null,\"renderers\":[{\"id\":\"54289\"}],\"tags\":[\"hv_created\"],\"tooltips\":[[\"forecast_flag\",\"@{forecast_flag}\"],[\"client_unit_price\",\"@{client_unit_price}\"],[\"Density\",\"@{client_unit_price_density}\"]]},\"id\":\"54246\",\"type\":\"HoverTool\"},{\"attributes\":{\"margin\":[5,5,5,5],\"name\":\"HSpacer133951\",\"sizing_mode\":\"stretch_width\"},\"id\":\"54384\",\"type\":\"Spacer\"},{\"attributes\":{\"below\":[{\"id\":\"54256\"}],\"center\":[{\"id\":\"54259\"},{\"id\":\"54263\"},{\"id\":\"54301\"}],\"height\":400,\"left\":[{\"id\":\"54260\"}],\"margin\":[5,5,5,5],\"min_border_bottom\":10,\"min_border_left\":10,\"min_border_right\":10,\"min_border_top\":10,\"renderers\":[{\"id\":\"54289\"}],\"sizing_mode\":\"fixed\",\"title\":{\"id\":\"54248\"},\"toolbar\":{\"id\":\"54270\"},\"width\":800,\"x_range\":{\"id\":\"54244\"},\"x_scale\":{\"id\":\"54252\"},\"y_range\":{\"id\":\"54245\"},\"y_scale\":{\"id\":\"54254\"}},\"id\":\"54247\",\"subtype\":\"Figure\",\"type\":\"Plot\"},{\"attributes\":{\"end\":15.625577133981475,\"reset_end\":15.625577133981475,\"reset_start\":0.900521988693014,\"start\":0.900521988693014,\"tags\":[[[\"client_unit_price\",\"client_unit_price\",null]]]},\"id\":\"54244\",\"type\":\"Range1d\"},{\"attributes\":{},\"id\":\"54284\",\"type\":\"Selection\"},{\"attributes\":{\"fill_alpha\":0.5,\"fill_color\":\"#30a2da\",\"hatch_alpha\":0.7,\"hatch_color\":\"#30a2da\",\"line_alpha\":0.7,\"x\":{\"field\":\"x\"},\"y\":{\"field\":\"y\"}},\"id\":\"54303\",\"type\":\"Patch\"},{\"attributes\":{\"fill_alpha\":0.2,\"fill_color\":\"#30a2da\",\"hatch_alpha\":0.2,\"hatch_color\":\"#30a2da\",\"line_alpha\":0.2,\"x\":{\"field\":\"x\"},\"y\":{\"field\":\"y\"}},\"id\":\"54288\",\"type\":\"Patch\"},{\"attributes\":{\"fill_alpha\":0.5,\"fill_color\":\"#30a2da\",\"hatch_alpha\":0.1,\"hatch_color\":\"#30a2da\",\"line_alpha\":0.7,\"x\":{\"field\":\"x\"},\"y\":{\"field\":\"y\"}},\"id\":\"54287\",\"type\":\"Patch\"},{\"attributes\":{},\"id\":\"54261\",\"type\":\"BasicTicker\"},{\"attributes\":{\"children\":[{\"id\":\"54243\"},{\"id\":\"54247\"},{\"id\":\"54384\"}],\"margin\":[0,0,0,0],\"name\":\"Row133946\",\"tags\":[\"embedded\"]},\"id\":\"54242\",\"type\":\"Row\"},{\"attributes\":{},\"id\":\"54254\",\"type\":\"LinearScale\"},{\"attributes\":{\"coordinates\":null,\"group\":null,\"text\":\"unit lbs(density)\",\"text_color\":\"black\",\"text_font_size\":\"12pt\"},\"id\":\"54248\",\"type\":\"Title\"},{\"attributes\":{},\"id\":\"54278\",\"type\":\"BasicTickFormatter\"},{\"attributes\":{},\"id\":\"54266\",\"type\":\"WheelZoomTool\"},{\"attributes\":{},\"id\":\"54257\",\"type\":\"BasicTicker\"},{\"attributes\":{},\"id\":\"54252\",\"type\":\"LinearScale\"},{\"attributes\":{\"tools\":[{\"id\":\"54246\"},{\"id\":\"54264\"},{\"id\":\"54265\"},{\"id\":\"54266\"},{\"id\":\"54267\"},{\"id\":\"54268\"}]},\"id\":\"54270\",\"type\":\"Toolbar\"},{\"attributes\":{\"axis_label\":\"unit_lbs_value\",\"coordinates\":null,\"formatter\":{\"id\":\"54278\"},\"group\":null,\"major_label_policy\":{\"id\":\"54279\"},\"ticker\":{\"id\":\"54257\"}},\"id\":\"54256\",\"type\":\"LinearAxis\"},{\"attributes\":{},\"id\":\"54265\",\"type\":\"PanTool\"},{\"attributes\":{\"axis\":{\"id\":\"54256\"},\"coordinates\":null,\"grid_line_color\":null,\"group\":null,\"ticker\":null},\"id\":\"54259\",\"type\":\"Grid\"},{\"attributes\":{\"data\":{\"x\":{\"__ndarray__\":\"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\",\"dtype\":\"float64\",\"order\":\"little\",\"shape\":[200]},\"y\":{\"__ndarray__\":\"AAAAAAAAAAAAAAAAAAAAAAAAAAAAAAAAAAAAAAAAAAAAAAAAAAAAAAAAAAAAAAAAAAAAAAAAAAAAAAAAAAAAAAAAAAAAAAAAAAAAAAAAAAAAAAAAAAAAAAAAAAAAAAAAAAAAAAAAAAAAAAAAAAAAAAAAAAAAAAAAAAAAAAAAAAAAAAAAAAAAAAAAAAAAAAAAAAAAAAAAAAAAAAAAAAAAAAAAAAAAAAAAAAAAAAAAAAAAAAAAAAAAAAAAAAAAAAAAAAAAAAAAAAAAAAAAAAAAAAAAAAAAAAAAAAAAAAAAAAAAAAAAAAAAAAAAAAAAAAAAAAAAAAAAAAAAAAAAAAAAAAAAAAAAAAAAAAAAAAAAAAAAAAAAAAAAAAAAAAAAAAAAAAAAAAAAAAAAAAAAAAAAAAAAAAAAAAAAAAAAAAAAAAAAAAAAAAAAAAAAAAAAAAAAAAAAAAAAAAAAAAAAAAAAAAAAAAAAAAAAAAAAAAAAAAAAAAAAAAAAAAAAAAAAAAAAAAAAAAAAAAAAAAAAAAAAAAAAAAAAAAAAAAAAAAAAAAAAAAAAAAAAAAAAAAAAAAAAAAAAAAAAAAAAAAAAAAAAAAAAAAAAAAAAAAAAAAAAAAAAAAAAAAAAAAAAAAAAAAAAAAAAAAAAAAAAAAAAAAAAAAAAAAAAAAAAAAAAAAAAAAAAAAAAAAAAAAAAAAAAAAAAAAAAAAAAAAAAAAAAAAAAAAAAAAAAAAAAAAAAAAAAAAAAAAAAAAAAAAAAAAAAAAAAAAAAAAAAAAAAAAAAAAAAAAAAAAAAAAAAAAAAAAAAAAAAAAAAAAAAAAAAAAAAAAAAAAAAAAAAAAAAAAAAAAAAAAAAAAAAAAAAAAAAAAAAAAAAAAAAAAAAAAAAAAAAAAAAAAAAAAAAAAAAAAAAAAAAAAAAAAAAAAAAAAAAAAAAAAAAAAAAAAAAAAAAAAAAAAAAAAAAAAAAAAAAAAAAAAAAAAAAAAAAAAAAAAAAAAAAAAAAAAAAAAAAAAAAAAAAAAAAAAAAAAAAAAAAAAAAAAAAAAAAAAAAAAAAAAAAAAAAAACilUDStvgbP4VONhW8gSU/rzGDRhNDMD+UGbOx0jA4P5gkE5cQtEE/MqW8H7SAST9hPN8g0xVSPwYZPHtUQ1k/2hWLWZRiYT/tu8NKypVnPwFMLphPjW8/U7sx2jrSdD9+KhjvXh97P46TRUqGcYE/p96DjRoqhj8wybd/CdWLP3lnU7p9RpE/Y+mxJSA1lT9C3GX3jsCZP2LfQtDq754/GxB7eRxjoj8EbNzVn6ClP3RCxvE4LKk/48dUXQX+rD8Kq/NiH4WwP4HKpzCXoLI/h5vlW7THtD9kGMaxK++2P36ms2WGCrk/NODU2qkMuz8s1KHmcei8P45TCGBPkb4/+/Q9Z9z7vz9sAzb1LI/AP8UOyg2H+MA/5dbidEA3wT8XFINxzEnBP4zKJXvPL8E/9ue6vBjqwD8v3xgll3rAP1WsEy2ZyL8/h45el39Wvj8yKrgL16i8Pz9uCFVQy7o/FYhqFhnLuD8zOEGwhra2P/utwRapnLQ/lC7oEsmMsj8MGGpg2pWwP5LkTwrci60/OIUOTWZTqj+LbXn+J5inP+xCAMjya6U/krOM33Pcoz8ZcQyOZvOiP26onNoJt6I/qTcrCbwqoz8ST9YNlk+kP2/uUwLeJKY/8wNnPSuoqD86WkNJIdWrP6rnYgK4pK8/Av5kdA4Gsj9HEUaiqH20Pzk4SzLfLbc/39m5X4QHuj+J1IoXOPe8P5a9MQ+C5b8/LvD8XbdbwT/T1bXI26fCP9bYGEU1yMM/K4zs7neuxD8QCyVHHU7FP1rBGlJyncU/4Y9HinqWxT/i7RI7ijfFPwvqDhaDg8Q/9zPUgamBwz8TNtpcFj3CP+xb+4/Vw8A/LPQJnZdLvj/FQcqJB+e6P+xW5ggIerc/JIiyt5YhtD//3jTkE/awP3ZciYiPFKw/dt9iw//Vpj9R11Nvbz6iP3mk6N7Gopw/NT7LkncTlj8I+CFBpLeQP5cMEvSV3og/eVd1ZnIrgj8nFR0xyBN6P8exGaU4YXI/bV76oGNyaT9GTzf4GU1hP/cl+E4OG1c/pG1Q/k1OTj9KHMhj7oRDPw==\",\"dtype\":\"float64\",\"order\":\"little\",\"shape\":[200]}},\"selected\":{\"id\":\"54284\"},\"selection_policy\":{\"id\":\"54298\"}},\"id\":\"54283\",\"type\":\"ColumnDataSource\"},{\"attributes\":{\"axis\":{\"id\":\"54260\"},\"coordinates\":null,\"dimension\":1,\"grid_line_color\":null,\"group\":null,\"ticker\":null},\"id\":\"54263\",\"type\":\"Grid\"},{\"attributes\":{},\"id\":\"54279\",\"type\":\"AllLabels\"},{\"attributes\":{\"overlay\":{\"id\":\"54269\"}},\"id\":\"54267\",\"type\":\"BoxZoomTool\"},{\"attributes\":{},\"id\":\"54264\",\"type\":\"SaveTool\"}],\"root_ids\":[\"54242\"]},\"title\":\"Bokeh Application\",\"version\":\"2.4.3\"}};\n",
       "    var render_items = [{\"docid\":\"404c4acb-6321-443c-a4a5-c2709d860c18\",\"root_ids\":[\"54242\"],\"roots\":{\"54242\":\"5657bd65-757a-4bfd-8a61-e1c69957e897\"}}];\n",
       "    root.Bokeh.embed.embed_items_notebook(docs_json, render_items);\n",
       "  }\n",
       "  if (root.Bokeh !== undefined && root.Bokeh.Panel !== undefined) {\n",
       "    embed_document(root);\n",
       "  } else {\n",
       "    var attempts = 0;\n",
       "    var timer = setInterval(function(root) {\n",
       "      if (root.Bokeh !== undefined && root.Bokeh.Panel !== undefined) {\n",
       "        clearInterval(timer);\n",
       "        embed_document(root);\n",
       "      } else if (document.readyState == \"complete\") {\n",
       "        attempts++;\n",
       "        if (attempts > 200) {\n",
       "          clearInterval(timer);\n",
       "          console.log(\"Bokeh: ERROR: Unable to run BokehJS code because BokehJS library is missing\");\n",
       "        }\n",
       "      }\n",
       "    }, 25, root)\n",
       "  }\n",
       "})(window);</script>"
      ],
      "text/plain": [
       ":NdOverlay   [forecast_flag]\n",
       "   :Distribution   [client_unit_price]   (Density)"
      ]
     },
     "execution_count": 124,
     "metadata": {
      "application/vnd.holoviews_exec.v0+json": {
       "id": "54242"
      }
     },
     "output_type": "execute_result"
    }
   ],
   "source": [
    "residual_analysis.hvplot.kde(y=\"client_unit_price\",by=\"forecast_flag\", ## Grouping by Predictions\n",
    "                                width=800, height=400,\n",
    "                                alpha=0.7,\n",
    "                                ylabel=\"density\",\n",
    "                                xlabel=\"unit_lbs_value\",\n",
    "                                title=f'unit lbs(density)',legend='top_right')"
   ]
  },
  {
   "cell_type": "markdown",
   "id": "bd132a50",
   "metadata": {},
   "source": [
    "### 4.1.6 Model Evaluation(Decision Tree)"
   ]
  },
  {
   "cell_type": "code",
   "execution_count": 129,
   "id": "ea9a0a16",
   "metadata": {},
   "outputs": [
    {
     "name": "stdout",
     "output_type": "stream",
     "text": [
      "Fitting 2 folds for each of 8 candidates, totalling 16 fits\n",
      "0.8796635524234463\n",
      "{'ccp_alpha': 0.3, 'max_depth': 5, 'max_features': 5, 'min_samples_split': 5}\n",
      "CPU times: user 78.5 ms, sys: 250 ms, total: 329 ms\n",
      "Wall time: 2.06 s\n"
     ]
    }
   ],
   "source": [
    "%%time\n",
    "parameters = {\n",
    "   'max_features':[5],\n",
    "   'min_samples_split':[2, 5],\n",
    "   'max_depth':[3, 5],\n",
    "   'ccp_alpha': [0.3, 0.5]\n",
    "}\n",
    "est = DecisionTreeRegressor()\n",
    "dtreg_grid = GridSearchCV(est,\n",
    "                        parameters,\n",
    "                        cv = 2,\n",
    "                        n_jobs = -1,\n",
    "                        verbose=True)\n",
    "\n",
    "dtreg_grid.fit(X_train, y_train)\n",
    "\n",
    "print(dtreg_grid.best_score_)\n",
    "print(dtreg_grid.best_params_)"
   ]
  },
  {
   "cell_type": "code",
   "execution_count": 136,
   "id": "154f958e",
   "metadata": {},
   "outputs": [
    {
     "data": {
      "text/html": [
       "<style>#sk-container-id-3 {color: black;background-color: white;}#sk-container-id-3 pre{padding: 0;}#sk-container-id-3 div.sk-toggleable {background-color: white;}#sk-container-id-3 label.sk-toggleable__label {cursor: pointer;display: block;width: 100%;margin-bottom: 0;padding: 0.3em;box-sizing: border-box;text-align: center;}#sk-container-id-3 label.sk-toggleable__label-arrow:before {content: \"▸\";float: left;margin-right: 0.25em;color: #696969;}#sk-container-id-3 label.sk-toggleable__label-arrow:hover:before {color: black;}#sk-container-id-3 div.sk-estimator:hover label.sk-toggleable__label-arrow:before {color: black;}#sk-container-id-3 div.sk-toggleable__content {max-height: 0;max-width: 0;overflow: hidden;text-align: left;background-color: #f0f8ff;}#sk-container-id-3 div.sk-toggleable__content pre {margin: 0.2em;color: black;border-radius: 0.25em;background-color: #f0f8ff;}#sk-container-id-3 input.sk-toggleable__control:checked~div.sk-toggleable__content {max-height: 200px;max-width: 100%;overflow: auto;}#sk-container-id-3 input.sk-toggleable__control:checked~label.sk-toggleable__label-arrow:before {content: \"▾\";}#sk-container-id-3 div.sk-estimator input.sk-toggleable__control:checked~label.sk-toggleable__label {background-color: #d4ebff;}#sk-container-id-3 div.sk-label input.sk-toggleable__control:checked~label.sk-toggleable__label {background-color: #d4ebff;}#sk-container-id-3 input.sk-hidden--visually {border: 0;clip: rect(1px 1px 1px 1px);clip: rect(1px, 1px, 1px, 1px);height: 1px;margin: -1px;overflow: hidden;padding: 0;position: absolute;width: 1px;}#sk-container-id-3 div.sk-estimator {font-family: monospace;background-color: #f0f8ff;border: 1px dotted black;border-radius: 0.25em;box-sizing: border-box;margin-bottom: 0.5em;}#sk-container-id-3 div.sk-estimator:hover {background-color: #d4ebff;}#sk-container-id-3 div.sk-parallel-item::after {content: \"\";width: 100%;border-bottom: 1px solid gray;flex-grow: 1;}#sk-container-id-3 div.sk-label:hover label.sk-toggleable__label {background-color: #d4ebff;}#sk-container-id-3 div.sk-serial::before {content: \"\";position: absolute;border-left: 1px solid gray;box-sizing: border-box;top: 0;bottom: 0;left: 50%;z-index: 0;}#sk-container-id-3 div.sk-serial {display: flex;flex-direction: column;align-items: center;background-color: white;padding-right: 0.2em;padding-left: 0.2em;position: relative;}#sk-container-id-3 div.sk-item {position: relative;z-index: 1;}#sk-container-id-3 div.sk-parallel {display: flex;align-items: stretch;justify-content: center;background-color: white;position: relative;}#sk-container-id-3 div.sk-item::before, #sk-container-id-3 div.sk-parallel-item::before {content: \"\";position: absolute;border-left: 1px solid gray;box-sizing: border-box;top: 0;bottom: 0;left: 50%;z-index: -1;}#sk-container-id-3 div.sk-parallel-item {display: flex;flex-direction: column;z-index: 1;position: relative;background-color: white;}#sk-container-id-3 div.sk-parallel-item:first-child::after {align-self: flex-end;width: 50%;}#sk-container-id-3 div.sk-parallel-item:last-child::after {align-self: flex-start;width: 50%;}#sk-container-id-3 div.sk-parallel-item:only-child::after {width: 0;}#sk-container-id-3 div.sk-dashed-wrapped {border: 1px dashed gray;margin: 0 0.4em 0.5em 0.4em;box-sizing: border-box;padding-bottom: 0.4em;background-color: white;}#sk-container-id-3 div.sk-label label {font-family: monospace;font-weight: bold;display: inline-block;line-height: 1.2em;}#sk-container-id-3 div.sk-label-container {text-align: center;}#sk-container-id-3 div.sk-container {/* jupyter's `normalize.less` sets `[hidden] { display: none; }` but bootstrap.min.css set `[hidden] { display: none !important; }` so we also need the `!important` here to be able to override the default hidden behavior on the sphinx rendered scikit-learn.org. See: https://github.com/scikit-learn/scikit-learn/issues/21755 */display: inline-block !important;position: relative;}#sk-container-id-3 div.sk-text-repr-fallback {display: none;}</style><div id=\"sk-container-id-3\" class=\"sk-top-container\"><div class=\"sk-text-repr-fallback\"><pre>Pipeline(steps=[(&#x27;&#x27;,\n",
       "                 FunctionTransformer(func=&lt;function _custom_data_transform at 0x7fa4dde5c700&gt;,\n",
       "                                     kw_args={&#x27;cols2keep&#x27;: [&#x27;client_unit_price&#x27;,\n",
       "                                                            &#x27;competitor_unit_price&#x27;,\n",
       "                                                            &#x27;total_post&#x27;,\n",
       "                                                            &#x27;google_searchVolume&#x27;]})),\n",
       "                (&#x27;Decision Tree&#x27;,\n",
       "                 DecisionTreeRegressor(ccp_alpha=0.3, max_depth=5,\n",
       "                                       max_features=5, min_samples_split=5))])</pre><b>In a Jupyter environment, please rerun this cell to show the HTML representation or trust the notebook. <br />On GitHub, the HTML representation is unable to render, please try loading this page with nbviewer.org.</b></div><div class=\"sk-container\" hidden><div class=\"sk-item sk-dashed-wrapped\"><div class=\"sk-label-container\"><div class=\"sk-label sk-toggleable\"><input class=\"sk-toggleable__control sk-hidden--visually\" id=\"sk-estimator-id-6\" type=\"checkbox\" ><label for=\"sk-estimator-id-6\" class=\"sk-toggleable__label sk-toggleable__label-arrow\">Pipeline</label><div class=\"sk-toggleable__content\"><pre>Pipeline(steps=[(&#x27;&#x27;,\n",
       "                 FunctionTransformer(func=&lt;function _custom_data_transform at 0x7fa4dde5c700&gt;,\n",
       "                                     kw_args={&#x27;cols2keep&#x27;: [&#x27;client_unit_price&#x27;,\n",
       "                                                            &#x27;competitor_unit_price&#x27;,\n",
       "                                                            &#x27;total_post&#x27;,\n",
       "                                                            &#x27;google_searchVolume&#x27;]})),\n",
       "                (&#x27;Decision Tree&#x27;,\n",
       "                 DecisionTreeRegressor(ccp_alpha=0.3, max_depth=5,\n",
       "                                       max_features=5, min_samples_split=5))])</pre></div></div></div><div class=\"sk-serial\"><div class=\"sk-item\"><div class=\"sk-estimator sk-toggleable\"><input class=\"sk-toggleable__control sk-hidden--visually\" id=\"sk-estimator-id-7\" type=\"checkbox\" ><label for=\"sk-estimator-id-7\" class=\"sk-toggleable__label sk-toggleable__label-arrow\">FunctionTransformer</label><div class=\"sk-toggleable__content\"><pre>FunctionTransformer(func=&lt;function _custom_data_transform at 0x7fa4dde5c700&gt;,\n",
       "                    kw_args={&#x27;cols2keep&#x27;: [&#x27;client_unit_price&#x27;,\n",
       "                                           &#x27;competitor_unit_price&#x27;,\n",
       "                                           &#x27;total_post&#x27;,\n",
       "                                           &#x27;google_searchVolume&#x27;]})</pre></div></div></div><div class=\"sk-item\"><div class=\"sk-estimator sk-toggleable\"><input class=\"sk-toggleable__control sk-hidden--visually\" id=\"sk-estimator-id-8\" type=\"checkbox\" ><label for=\"sk-estimator-id-8\" class=\"sk-toggleable__label sk-toggleable__label-arrow\">DecisionTreeRegressor</label><div class=\"sk-toggleable__content\"><pre>DecisionTreeRegressor(ccp_alpha=0.3, max_depth=5, max_features=5,\n",
       "                      min_samples_split=5)</pre></div></div></div></div></div></div></div>"
      ],
      "text/plain": [
       "Pipeline(steps=[('',\n",
       "                 FunctionTransformer(func=<function _custom_data_transform at 0x7fa4dde5c700>,\n",
       "                                     kw_args={'cols2keep': ['client_unit_price',\n",
       "                                                            'competitor_unit_price',\n",
       "                                                            'total_post',\n",
       "                                                            'google_searchVolume']})),\n",
       "                ('Decision Tree',\n",
       "                 DecisionTreeRegressor(ccp_alpha=0.3, max_depth=5,\n",
       "                                       max_features=5, min_samples_split=5))])"
      ]
     },
     "execution_count": 136,
     "metadata": {},
     "output_type": "execute_result"
    }
   ],
   "source": [
    "decision_tree = Pipeline([\n",
    "    ('', FunctionTransformer(_custom_data_transform, kw_args={'cols2keep':imp_features})),\n",
    "    ('Decision Tree', dtreg_grid.best_estimator_)\n",
    "])\n",
    "decision_tree.fit(X_train, y_train)"
   ]
  },
  {
   "cell_type": "code",
   "execution_count": 137,
   "id": "71a73931",
   "metadata": {},
   "outputs": [],
   "source": [
    "decision_tree_report = RegressionReport(model=decision_tree, x_train=X_train, y_train=y_train, x_test= X_test, y_test= y_test, refit=True)\n",
    "decision_tree_report.get_report(include_shap=False, file_path='decision_tree_report')"
   ]
  },
  {
   "cell_type": "markdown",
   "id": "05a9f43d",
   "metadata": {},
   "source": [
    "### 4.1.7 Model Evaluation(Random Forest)"
   ]
  },
  {
   "cell_type": "code",
   "execution_count": 138,
   "id": "6ff0ca8f",
   "metadata": {},
   "outputs": [
    {
     "name": "stdout",
     "output_type": "stream",
     "text": [
      "Fitting 2 folds for each of 48 candidates, totalling 96 fits\n",
      "0.9111167895698797\n",
      "{'bootstrap': True, 'ccp_alpha': 0.3, 'max_depth': 5, 'min_samples_split': 2, 'n_estimators': 200}\n",
      "CPU times: user 478 ms, sys: 114 ms, total: 592 ms\n",
      "Wall time: 4.93 s\n"
     ]
    }
   ],
   "source": [
    "%%time\n",
    "parameters = {\n",
    "   'n_estimators':[100, 200, 300],\n",
    "   'min_samples_split':[2, 5],\n",
    "   'max_depth':[3, 5],\n",
    "   'ccp_alpha': [0.3, 0.5],\n",
    "   'bootstrap': [True, False]\n",
    "}\n",
    "est = RandomForestRegressor()\n",
    "rf_grid = GridSearchCV(est,\n",
    "                        parameters,\n",
    "                        cv = 2,\n",
    "                        n_jobs = -1,\n",
    "                        verbose=True)\n",
    "\n",
    "rf_grid.fit(X_train, y_train)\n",
    "\n",
    "print(rf_grid.best_score_)\n",
    "print(rf_grid.best_params_)"
   ]
  },
  {
   "cell_type": "code",
   "execution_count": 139,
   "id": "77df7139",
   "metadata": {},
   "outputs": [
    {
     "data": {
      "text/html": [
       "<style>#sk-container-id-4 {color: black;background-color: white;}#sk-container-id-4 pre{padding: 0;}#sk-container-id-4 div.sk-toggleable {background-color: white;}#sk-container-id-4 label.sk-toggleable__label {cursor: pointer;display: block;width: 100%;margin-bottom: 0;padding: 0.3em;box-sizing: border-box;text-align: center;}#sk-container-id-4 label.sk-toggleable__label-arrow:before {content: \"▸\";float: left;margin-right: 0.25em;color: #696969;}#sk-container-id-4 label.sk-toggleable__label-arrow:hover:before {color: black;}#sk-container-id-4 div.sk-estimator:hover label.sk-toggleable__label-arrow:before {color: black;}#sk-container-id-4 div.sk-toggleable__content {max-height: 0;max-width: 0;overflow: hidden;text-align: left;background-color: #f0f8ff;}#sk-container-id-4 div.sk-toggleable__content pre {margin: 0.2em;color: black;border-radius: 0.25em;background-color: #f0f8ff;}#sk-container-id-4 input.sk-toggleable__control:checked~div.sk-toggleable__content {max-height: 200px;max-width: 100%;overflow: auto;}#sk-container-id-4 input.sk-toggleable__control:checked~label.sk-toggleable__label-arrow:before {content: \"▾\";}#sk-container-id-4 div.sk-estimator input.sk-toggleable__control:checked~label.sk-toggleable__label {background-color: #d4ebff;}#sk-container-id-4 div.sk-label input.sk-toggleable__control:checked~label.sk-toggleable__label {background-color: #d4ebff;}#sk-container-id-4 input.sk-hidden--visually {border: 0;clip: rect(1px 1px 1px 1px);clip: rect(1px, 1px, 1px, 1px);height: 1px;margin: -1px;overflow: hidden;padding: 0;position: absolute;width: 1px;}#sk-container-id-4 div.sk-estimator {font-family: monospace;background-color: #f0f8ff;border: 1px dotted black;border-radius: 0.25em;box-sizing: border-box;margin-bottom: 0.5em;}#sk-container-id-4 div.sk-estimator:hover {background-color: #d4ebff;}#sk-container-id-4 div.sk-parallel-item::after {content: \"\";width: 100%;border-bottom: 1px solid gray;flex-grow: 1;}#sk-container-id-4 div.sk-label:hover label.sk-toggleable__label {background-color: #d4ebff;}#sk-container-id-4 div.sk-serial::before {content: \"\";position: absolute;border-left: 1px solid gray;box-sizing: border-box;top: 0;bottom: 0;left: 50%;z-index: 0;}#sk-container-id-4 div.sk-serial {display: flex;flex-direction: column;align-items: center;background-color: white;padding-right: 0.2em;padding-left: 0.2em;position: relative;}#sk-container-id-4 div.sk-item {position: relative;z-index: 1;}#sk-container-id-4 div.sk-parallel {display: flex;align-items: stretch;justify-content: center;background-color: white;position: relative;}#sk-container-id-4 div.sk-item::before, #sk-container-id-4 div.sk-parallel-item::before {content: \"\";position: absolute;border-left: 1px solid gray;box-sizing: border-box;top: 0;bottom: 0;left: 50%;z-index: -1;}#sk-container-id-4 div.sk-parallel-item {display: flex;flex-direction: column;z-index: 1;position: relative;background-color: white;}#sk-container-id-4 div.sk-parallel-item:first-child::after {align-self: flex-end;width: 50%;}#sk-container-id-4 div.sk-parallel-item:last-child::after {align-self: flex-start;width: 50%;}#sk-container-id-4 div.sk-parallel-item:only-child::after {width: 0;}#sk-container-id-4 div.sk-dashed-wrapped {border: 1px dashed gray;margin: 0 0.4em 0.5em 0.4em;box-sizing: border-box;padding-bottom: 0.4em;background-color: white;}#sk-container-id-4 div.sk-label label {font-family: monospace;font-weight: bold;display: inline-block;line-height: 1.2em;}#sk-container-id-4 div.sk-label-container {text-align: center;}#sk-container-id-4 div.sk-container {/* jupyter's `normalize.less` sets `[hidden] { display: none; }` but bootstrap.min.css set `[hidden] { display: none !important; }` so we also need the `!important` here to be able to override the default hidden behavior on the sphinx rendered scikit-learn.org. See: https://github.com/scikit-learn/scikit-learn/issues/21755 */display: inline-block !important;position: relative;}#sk-container-id-4 div.sk-text-repr-fallback {display: none;}</style><div id=\"sk-container-id-4\" class=\"sk-top-container\"><div class=\"sk-text-repr-fallback\"><pre>Pipeline(steps=[(&#x27;&#x27;,\n",
       "                 FunctionTransformer(func=&lt;function _custom_data_transform at 0x7fa4dde5c700&gt;,\n",
       "                                     kw_args={&#x27;cols2keep&#x27;: [&#x27;client_unit_price&#x27;,\n",
       "                                                            &#x27;competitor_unit_price&#x27;,\n",
       "                                                            &#x27;total_post&#x27;,\n",
       "                                                            &#x27;google_searchVolume&#x27;]})),\n",
       "                (&#x27;Decision Tree&#x27;,\n",
       "                 RandomForestRegressor(ccp_alpha=0.3, max_depth=5,\n",
       "                                       n_estimators=200))])</pre><b>In a Jupyter environment, please rerun this cell to show the HTML representation or trust the notebook. <br />On GitHub, the HTML representation is unable to render, please try loading this page with nbviewer.org.</b></div><div class=\"sk-container\" hidden><div class=\"sk-item sk-dashed-wrapped\"><div class=\"sk-label-container\"><div class=\"sk-label sk-toggleable\"><input class=\"sk-toggleable__control sk-hidden--visually\" id=\"sk-estimator-id-9\" type=\"checkbox\" ><label for=\"sk-estimator-id-9\" class=\"sk-toggleable__label sk-toggleable__label-arrow\">Pipeline</label><div class=\"sk-toggleable__content\"><pre>Pipeline(steps=[(&#x27;&#x27;,\n",
       "                 FunctionTransformer(func=&lt;function _custom_data_transform at 0x7fa4dde5c700&gt;,\n",
       "                                     kw_args={&#x27;cols2keep&#x27;: [&#x27;client_unit_price&#x27;,\n",
       "                                                            &#x27;competitor_unit_price&#x27;,\n",
       "                                                            &#x27;total_post&#x27;,\n",
       "                                                            &#x27;google_searchVolume&#x27;]})),\n",
       "                (&#x27;Decision Tree&#x27;,\n",
       "                 RandomForestRegressor(ccp_alpha=0.3, max_depth=5,\n",
       "                                       n_estimators=200))])</pre></div></div></div><div class=\"sk-serial\"><div class=\"sk-item\"><div class=\"sk-estimator sk-toggleable\"><input class=\"sk-toggleable__control sk-hidden--visually\" id=\"sk-estimator-id-10\" type=\"checkbox\" ><label for=\"sk-estimator-id-10\" class=\"sk-toggleable__label sk-toggleable__label-arrow\">FunctionTransformer</label><div class=\"sk-toggleable__content\"><pre>FunctionTransformer(func=&lt;function _custom_data_transform at 0x7fa4dde5c700&gt;,\n",
       "                    kw_args={&#x27;cols2keep&#x27;: [&#x27;client_unit_price&#x27;,\n",
       "                                           &#x27;competitor_unit_price&#x27;,\n",
       "                                           &#x27;total_post&#x27;,\n",
       "                                           &#x27;google_searchVolume&#x27;]})</pre></div></div></div><div class=\"sk-item\"><div class=\"sk-estimator sk-toggleable\"><input class=\"sk-toggleable__control sk-hidden--visually\" id=\"sk-estimator-id-11\" type=\"checkbox\" ><label for=\"sk-estimator-id-11\" class=\"sk-toggleable__label sk-toggleable__label-arrow\">RandomForestRegressor</label><div class=\"sk-toggleable__content\"><pre>RandomForestRegressor(ccp_alpha=0.3, max_depth=5, n_estimators=200)</pre></div></div></div></div></div></div></div>"
      ],
      "text/plain": [
       "Pipeline(steps=[('',\n",
       "                 FunctionTransformer(func=<function _custom_data_transform at 0x7fa4dde5c700>,\n",
       "                                     kw_args={'cols2keep': ['client_unit_price',\n",
       "                                                            'competitor_unit_price',\n",
       "                                                            'total_post',\n",
       "                                                            'google_searchVolume']})),\n",
       "                ('Decision Tree',\n",
       "                 RandomForestRegressor(ccp_alpha=0.3, max_depth=5,\n",
       "                                       n_estimators=200))])"
      ]
     },
     "execution_count": 139,
     "metadata": {},
     "output_type": "execute_result"
    }
   ],
   "source": [
    "random_forest = Pipeline([\n",
    "    ('', FunctionTransformer(_custom_data_transform, kw_args={'cols2keep':imp_features})),\n",
    "    ('Random Forest', rf_grid.best_estimator_)\n",
    "])\n",
    "random_forest.fit(X_train, y_train)"
   ]
  },
  {
   "cell_type": "code",
   "execution_count": 140,
   "id": "9d25e094",
   "metadata": {},
   "outputs": [],
   "source": [
    "rf_report = RegressionReport(model=random_forest, x_train=X_train, y_train=y_train, x_test= X_test, y_test= y_test, refit=True)\n",
    "rf_report.get_report(include_shap=False, file_path='random_forest_report')"
   ]
  },
  {
   "cell_type": "markdown",
   "id": "af66b2ef",
   "metadata": {},
   "source": [
    "### 4.1.8 Model Evaluation(XGBoost)"
   ]
  },
  {
   "cell_type": "code",
   "execution_count": null,
   "id": "5af6ff4c",
   "metadata": {},
   "outputs": [
    {
     "name": "stdout",
     "output_type": "stream",
     "text": [
      "Fitting 2 folds for each of 2 candidates, totalling 4 fits\n"
     ]
    }
   ],
   "source": [
    "%%time\n",
    "parameters = {\n",
    "   'n_estimators':[100],\n",
    "   'min_samples_split':[5],\n",
    "   'bootstrap': [True, False]\n",
    "}\n",
    "est = XGBRegressor()\n",
    "xgb_grid = GridSearchCV(est,\n",
    "                        parameters,\n",
    "                        cv = 2,\n",
    "                        n_jobs = -1,\n",
    "                        verbose=True)\n",
    "\n",
    "xgb_grid.fit(X_train, y_train)\n",
    "\n",
    "print(xgb_grid.best_score_)\n",
    "print(xgb_grid.best_params_)"
   ]
  },
  {
   "cell_type": "code",
   "execution_count": 139,
   "id": "a9178ed5",
   "metadata": {},
   "outputs": [
    {
     "data": {
      "text/html": [
       "<style>#sk-container-id-4 {color: black;background-color: white;}#sk-container-id-4 pre{padding: 0;}#sk-container-id-4 div.sk-toggleable {background-color: white;}#sk-container-id-4 label.sk-toggleable__label {cursor: pointer;display: block;width: 100%;margin-bottom: 0;padding: 0.3em;box-sizing: border-box;text-align: center;}#sk-container-id-4 label.sk-toggleable__label-arrow:before {content: \"▸\";float: left;margin-right: 0.25em;color: #696969;}#sk-container-id-4 label.sk-toggleable__label-arrow:hover:before {color: black;}#sk-container-id-4 div.sk-estimator:hover label.sk-toggleable__label-arrow:before {color: black;}#sk-container-id-4 div.sk-toggleable__content {max-height: 0;max-width: 0;overflow: hidden;text-align: left;background-color: #f0f8ff;}#sk-container-id-4 div.sk-toggleable__content pre {margin: 0.2em;color: black;border-radius: 0.25em;background-color: #f0f8ff;}#sk-container-id-4 input.sk-toggleable__control:checked~div.sk-toggleable__content {max-height: 200px;max-width: 100%;overflow: auto;}#sk-container-id-4 input.sk-toggleable__control:checked~label.sk-toggleable__label-arrow:before {content: \"▾\";}#sk-container-id-4 div.sk-estimator input.sk-toggleable__control:checked~label.sk-toggleable__label {background-color: #d4ebff;}#sk-container-id-4 div.sk-label input.sk-toggleable__control:checked~label.sk-toggleable__label {background-color: #d4ebff;}#sk-container-id-4 input.sk-hidden--visually {border: 0;clip: rect(1px 1px 1px 1px);clip: rect(1px, 1px, 1px, 1px);height: 1px;margin: -1px;overflow: hidden;padding: 0;position: absolute;width: 1px;}#sk-container-id-4 div.sk-estimator {font-family: monospace;background-color: #f0f8ff;border: 1px dotted black;border-radius: 0.25em;box-sizing: border-box;margin-bottom: 0.5em;}#sk-container-id-4 div.sk-estimator:hover {background-color: #d4ebff;}#sk-container-id-4 div.sk-parallel-item::after {content: \"\";width: 100%;border-bottom: 1px solid gray;flex-grow: 1;}#sk-container-id-4 div.sk-label:hover label.sk-toggleable__label {background-color: #d4ebff;}#sk-container-id-4 div.sk-serial::before {content: \"\";position: absolute;border-left: 1px solid gray;box-sizing: border-box;top: 0;bottom: 0;left: 50%;z-index: 0;}#sk-container-id-4 div.sk-serial {display: flex;flex-direction: column;align-items: center;background-color: white;padding-right: 0.2em;padding-left: 0.2em;position: relative;}#sk-container-id-4 div.sk-item {position: relative;z-index: 1;}#sk-container-id-4 div.sk-parallel {display: flex;align-items: stretch;justify-content: center;background-color: white;position: relative;}#sk-container-id-4 div.sk-item::before, #sk-container-id-4 div.sk-parallel-item::before {content: \"\";position: absolute;border-left: 1px solid gray;box-sizing: border-box;top: 0;bottom: 0;left: 50%;z-index: -1;}#sk-container-id-4 div.sk-parallel-item {display: flex;flex-direction: column;z-index: 1;position: relative;background-color: white;}#sk-container-id-4 div.sk-parallel-item:first-child::after {align-self: flex-end;width: 50%;}#sk-container-id-4 div.sk-parallel-item:last-child::after {align-self: flex-start;width: 50%;}#sk-container-id-4 div.sk-parallel-item:only-child::after {width: 0;}#sk-container-id-4 div.sk-dashed-wrapped {border: 1px dashed gray;margin: 0 0.4em 0.5em 0.4em;box-sizing: border-box;padding-bottom: 0.4em;background-color: white;}#sk-container-id-4 div.sk-label label {font-family: monospace;font-weight: bold;display: inline-block;line-height: 1.2em;}#sk-container-id-4 div.sk-label-container {text-align: center;}#sk-container-id-4 div.sk-container {/* jupyter's `normalize.less` sets `[hidden] { display: none; }` but bootstrap.min.css set `[hidden] { display: none !important; }` so we also need the `!important` here to be able to override the default hidden behavior on the sphinx rendered scikit-learn.org. See: https://github.com/scikit-learn/scikit-learn/issues/21755 */display: inline-block !important;position: relative;}#sk-container-id-4 div.sk-text-repr-fallback {display: none;}</style><div id=\"sk-container-id-4\" class=\"sk-top-container\"><div class=\"sk-text-repr-fallback\"><pre>Pipeline(steps=[(&#x27;&#x27;,\n",
       "                 FunctionTransformer(func=&lt;function _custom_data_transform at 0x7fa4dde5c700&gt;,\n",
       "                                     kw_args={&#x27;cols2keep&#x27;: [&#x27;client_unit_price&#x27;,\n",
       "                                                            &#x27;competitor_unit_price&#x27;,\n",
       "                                                            &#x27;total_post&#x27;,\n",
       "                                                            &#x27;google_searchVolume&#x27;]})),\n",
       "                (&#x27;Decision Tree&#x27;,\n",
       "                 RandomForestRegressor(ccp_alpha=0.3, max_depth=5,\n",
       "                                       n_estimators=200))])</pre><b>In a Jupyter environment, please rerun this cell to show the HTML representation or trust the notebook. <br />On GitHub, the HTML representation is unable to render, please try loading this page with nbviewer.org.</b></div><div class=\"sk-container\" hidden><div class=\"sk-item sk-dashed-wrapped\"><div class=\"sk-label-container\"><div class=\"sk-label sk-toggleable\"><input class=\"sk-toggleable__control sk-hidden--visually\" id=\"sk-estimator-id-9\" type=\"checkbox\" ><label for=\"sk-estimator-id-9\" class=\"sk-toggleable__label sk-toggleable__label-arrow\">Pipeline</label><div class=\"sk-toggleable__content\"><pre>Pipeline(steps=[(&#x27;&#x27;,\n",
       "                 FunctionTransformer(func=&lt;function _custom_data_transform at 0x7fa4dde5c700&gt;,\n",
       "                                     kw_args={&#x27;cols2keep&#x27;: [&#x27;client_unit_price&#x27;,\n",
       "                                                            &#x27;competitor_unit_price&#x27;,\n",
       "                                                            &#x27;total_post&#x27;,\n",
       "                                                            &#x27;google_searchVolume&#x27;]})),\n",
       "                (&#x27;Decision Tree&#x27;,\n",
       "                 RandomForestRegressor(ccp_alpha=0.3, max_depth=5,\n",
       "                                       n_estimators=200))])</pre></div></div></div><div class=\"sk-serial\"><div class=\"sk-item\"><div class=\"sk-estimator sk-toggleable\"><input class=\"sk-toggleable__control sk-hidden--visually\" id=\"sk-estimator-id-10\" type=\"checkbox\" ><label for=\"sk-estimator-id-10\" class=\"sk-toggleable__label sk-toggleable__label-arrow\">FunctionTransformer</label><div class=\"sk-toggleable__content\"><pre>FunctionTransformer(func=&lt;function _custom_data_transform at 0x7fa4dde5c700&gt;,\n",
       "                    kw_args={&#x27;cols2keep&#x27;: [&#x27;client_unit_price&#x27;,\n",
       "                                           &#x27;competitor_unit_price&#x27;,\n",
       "                                           &#x27;total_post&#x27;,\n",
       "                                           &#x27;google_searchVolume&#x27;]})</pre></div></div></div><div class=\"sk-item\"><div class=\"sk-estimator sk-toggleable\"><input class=\"sk-toggleable__control sk-hidden--visually\" id=\"sk-estimator-id-11\" type=\"checkbox\" ><label for=\"sk-estimator-id-11\" class=\"sk-toggleable__label sk-toggleable__label-arrow\">RandomForestRegressor</label><div class=\"sk-toggleable__content\"><pre>RandomForestRegressor(ccp_alpha=0.3, max_depth=5, n_estimators=200)</pre></div></div></div></div></div></div></div>"
      ],
      "text/plain": [
       "Pipeline(steps=[('',\n",
       "                 FunctionTransformer(func=<function _custom_data_transform at 0x7fa4dde5c700>,\n",
       "                                     kw_args={'cols2keep': ['client_unit_price',\n",
       "                                                            'competitor_unit_price',\n",
       "                                                            'total_post',\n",
       "                                                            'google_searchVolume']})),\n",
       "                ('Decision Tree',\n",
       "                 RandomForestRegressor(ccp_alpha=0.3, max_depth=5,\n",
       "                                       n_estimators=200))])"
      ]
     },
     "execution_count": 139,
     "metadata": {},
     "output_type": "execute_result"
    }
   ],
   "source": [
    "xgboost = Pipeline([\n",
    "    ('', FunctionTransformer(_custom_data_transform, kw_args={'cols2keep':imp_features})),\n",
    "    ('XGBoost', xgb_grid.best_estimator_)\n",
    "])\n",
    "xgboost.fit(X_train, y_train)"
   ]
  },
  {
   "cell_type": "code",
   "execution_count": 140,
   "id": "302022e5",
   "metadata": {},
   "outputs": [],
   "source": [
    "rf_report = RegressionReport(model=random_forest, x_train=X_train, y_train=y_train, x_test= X_test, y_test= y_test, refit=True)\n",
    "rf_report.get_report(include_shap=False, file_path='random_forest_report')"
   ]
  },
  {
   "cell_type": "markdown",
   "id": "e9e922e2",
   "metadata": {},
   "source": [
    "# 5 Model Comparison\n",
    "\n",
    "Now, a comparison report of the  linear (vs) tree -based model  approach can be generated as follows.\n",
    "\n",
    "This code will not be part of the production code."
   ]
  },
  {
   "cell_type": "code",
   "execution_count": null,
   "id": "347fbf4a",
   "metadata": {},
   "outputs": [],
   "source": [
    "model_pipelines = [reg_ppln, xgb_pipeline_final]\n",
    "model_comparison_report = RegressionComparison(models=model_pipelines,x=train_X, y=train_y)\n",
    "metrics = model_comparison_report.get_report(file_path='regression_comparison')\n",
    "\n",
    "# TODO : Include gridsearchCV for all models\n",
    "\n",
    "model_comparison_report.performance_metrics\n",
    "\n",
    "A report comparing the performance, metrics between Linear model and Tree model are available [here](https://drive.google.com/file/d/1LDibiFap9K4DKME-Y0S0mtI_05lTdaJF/view?usp=sharing)\n",
    "\n",
    "**Dev NOTES**\n",
    "<details>\n",
    "\n",
    "the above metrics are absolute nos and not %ges"
   ]
  }
 ],
 "metadata": {
  "kernelspec": {
   "display_name": "Python 3 (ipykernel)",
   "language": "python",
   "name": "python3"
  },
  "language_info": {
   "codemirror_mode": {
    "name": "ipython",
    "version": 3
   },
   "file_extension": ".py",
   "mimetype": "text/x-python",
   "name": "python",
   "nbconvert_exporter": "python",
   "pygments_lexer": "ipython3",
   "version": "3.8.16"
  }
 },
 "nbformat": 4,
 "nbformat_minor": 5
}
